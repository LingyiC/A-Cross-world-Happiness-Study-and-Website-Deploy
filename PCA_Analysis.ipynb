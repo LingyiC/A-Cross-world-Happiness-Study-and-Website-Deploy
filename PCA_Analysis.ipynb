{
  "nbformat": 4,
  "nbformat_minor": 0,
  "metadata": {
    "colab": {
      "name": "PCA Analysis.ipynb",
      "version": "0.3.2",
      "provenance": [],
      "include_colab_link": true
    },
    "kernelspec": {
      "name": "python3",
      "display_name": "Python 3"
    }
  },
  "cells": [
    {
      "cell_type": "markdown",
      "metadata": {
        "id": "view-in-github",
        "colab_type": "text"
      },
      "source": [
        "<a href=\"" target=\"_parent\"><img src=\"https://colab.research.google.com/assets/colab-badge.svg\" alt=\"Open In Colab\"/></a>"
      ]
    },
    {
      "metadata": {
        "id": "nn4LUzdtwrq4",
        "colab_type": "text"
      },
      "cell_type": "markdown",
      "source": [
        "# Principal Component Analysis explained"
      ]
    },
    {
      "metadata": {
        "id": "Hduy5TDkwa2u",
        "colab_type": "text"
      },
      "cell_type": "markdown",
      "source": [
        "Steps involved in PCA with codes without implemeting scikit-learn\n",
        "https://www.kaggle.com/nirajvermafcb/principal-component-analysis-explained"
      ]
    },
    {
      "metadata": {
        "id": "kBlqkw0wwyI-",
        "colab_type": "text"
      },
      "cell_type": "markdown",
      "source": [
        "## Load data"
      ]
    },
    {
      "metadata": {
        "id": "vSJg32YDqQNT",
        "colab_type": "code",
        "outputId": "cf9651ea-321f-4730-ada0-84ab98022602",
        "colab": {
          "base_uri": "https://localhost:8080/",
          "height": 122
        }
      },
      "cell_type": "code",
      "source": [
        "# delete _pycache_ folder first\n",
        "from google.colab import drive\n",
        "drive.mount('/content/gdrive')"
      ],
      "execution_count": 1,
      "outputs": [
        {
          "output_type": "stream",
          "text": [
            "Go to this URL in a browser: https://accounts.google.com/o/oauth2/auth?client_id=947318989803-6bn6qk8qdgf4n4g3pfee6491hc0brc4i.apps.googleusercontent.com&redirect_uri=urn%3Aietf%3Awg%3Aoauth%3A2.0%3Aoob&scope=email%20https%3A%2F%2Fwww.googleapis.com%2Fauth%2Fdocs.test%20https%3A%2F%2Fwww.googleapis.com%2Fauth%2Fdrive%20https%3A%2F%2Fwww.googleapis.com%2Fauth%2Fdrive.photos.readonly%20https%3A%2F%2Fwww.googleapis.com%2Fauth%2Fpeopleapi.readonly&response_type=code\n",
            "\n",
            "Enter your authorization code:\n",
            "··········\n",
            "Mounted at /content/gdrive\n"
          ],
          "name": "stdout"
        }
      ]
    },
    {
      "metadata": {
        "id": "p8jq6B_iqVyC",
        "colab_type": "code",
        "colab": {}
      },
      "cell_type": "code",
      "source": [
        "import numpy as np # linear algebra\n",
        "import pandas as pd # data processing, CSV file I/O (e.g. pd.read_csv)\n",
        "import seaborn as sns #for data visualization\n",
        "import matplotlib.pyplot as plt  #for data visualization\n",
        "import warnings            \n",
        "warnings.filterwarnings(\"ignore\") \n"
      ],
      "execution_count": 0,
      "outputs": []
    },
    {
      "metadata": {
        "id": "cS_p_K41qZwc",
        "colab_type": "code",
        "colab": {}
      },
      "cell_type": "code",
      "source": [
        "# load data from csv file_Lingyi\n",
        "data_2016=pd.read_csv('/content/gdrive/My Drive/19 Spring/E6998 Empirical Methods of Data Science/Project code/data/2016.csv')\n",
        "data_2017=pd.read_csv('/content/gdrive/My Drive/19 Spring/E6998 Empirical Methods of Data Science/Project code/data/2017.csv')\n",
        "data_2018=pd.read_csv('/content/gdrive/My Drive/19 Spring/E6998 Empirical Methods of Data Science/Project code/data/2018.csv')\n",
        "data_2019=pd.read_csv('/content/gdrive/My Drive/19 Spring/E6998 Empirical Methods of Data Science/Project code/data/2019.csv')\n",
        "\n",
        "# data_2016=pd.read_csv('/content/gdrive/My Drive/Project code/data/2016.csv')\n",
        "# data_2017=pd.read_csv('/content/gdrive/My Drive/Project code/data/2017.csv')\n",
        "# data_2018=pd.read_csv('/content/gdrive/My Drive/Project code/data/2018.csv')\n",
        "# data_2019=pd.read_csv('/content/gdrive/My Drive/Project code/data/2019.csv')"
      ],
      "execution_count": 0,
      "outputs": []
    },
    {
      "metadata": {
        "id": "lBNfymX8qc35",
        "colab_type": "code",
        "colab": {}
      },
      "cell_type": "code",
      "source": [
        "# unify the header\n",
        "data_2016.columns=[each.split()[0] if(len(each.split())>2) else each.replace(\" \",\"_\") for each in data_2016.columns]\n",
        "data_2017.columns=[each.split()[0] if(len(each.split())>2) else each.replace(\" \",\"_\") for each in data_2017.columns]\n",
        "data_2018.columns=[each.replace(\".\",\" \") for each in data_2018.columns]\n",
        "data_2018.columns=[each.split()[0] if(len(each.split())>2) else each.replace(\" \",\"_\") for each in data_2018.columns]"
      ],
      "execution_count": 0,
      "outputs": []
    },
    {
      "metadata": {
        "id": "fFXABtL2u2tL",
        "colab_type": "text"
      },
      "cell_type": "markdown",
      "source": [
        "Principal component analysis (PCA) is a statistical procedure that uses an orthogonal transformation to convert a set of observations of possibly correlated variables (entities each of which takes on various numerical values) into a set of values of linearly uncorrelated variables called principal components."
      ]
    },
    {
      "metadata": {
        "id": "kzsOPzm6qezj",
        "colab_type": "code",
        "outputId": "a1180451-527e-474b-983c-82326a82c597",
        "colab": {
          "base_uri": "https://localhost:8080/",
          "height": 390
        }
      },
      "cell_type": "code",
      "source": [
        "# df.corr() compute pairwise correlation of columns.\n",
        "data_2018.corr()"
      ],
      "execution_count": 5,
      "outputs": [
        {
          "output_type": "execute_result",
          "data": {
            "text/html": [
              "<div>\n",
              "<style scoped>\n",
              "    .dataframe tbody tr th:only-of-type {\n",
              "        vertical-align: middle;\n",
              "    }\n",
              "\n",
              "    .dataframe tbody tr th {\n",
              "        vertical-align: top;\n",
              "    }\n",
              "\n",
              "    .dataframe thead th {\n",
              "        text-align: right;\n",
              "    }\n",
              "</style>\n",
              "<table border=\"1\" class=\"dataframe\">\n",
              "  <thead>\n",
              "    <tr style=\"text-align: right;\">\n",
              "      <th></th>\n",
              "      <th>Happiness_Rank</th>\n",
              "      <th>Happiness_Score</th>\n",
              "      <th>Whisker_high</th>\n",
              "      <th>Whisker_low</th>\n",
              "      <th>Economy</th>\n",
              "      <th>Family</th>\n",
              "      <th>Health</th>\n",
              "      <th>Freedom</th>\n",
              "      <th>Generosity</th>\n",
              "      <th>Trust</th>\n",
              "      <th>Dystopia_Residual</th>\n",
              "    </tr>\n",
              "  </thead>\n",
              "  <tbody>\n",
              "    <tr>\n",
              "      <th>Happiness_Rank</th>\n",
              "      <td>1.000000</td>\n",
              "      <td>-0.993832</td>\n",
              "      <td>-0.994110</td>\n",
              "      <td>-0.992854</td>\n",
              "      <td>-0.821757</td>\n",
              "      <td>-0.743907</td>\n",
              "      <td>-0.783577</td>\n",
              "      <td>-0.561691</td>\n",
              "      <td>-0.134711</td>\n",
              "      <td>-0.428961</td>\n",
              "      <td>-0.531866</td>\n",
              "    </tr>\n",
              "    <tr>\n",
              "      <th>Happiness_Score</th>\n",
              "      <td>-0.993832</td>\n",
              "      <td>1.000000</td>\n",
              "      <td>0.999635</td>\n",
              "      <td>0.999649</td>\n",
              "      <td>0.820361</td>\n",
              "      <td>0.750557</td>\n",
              "      <td>0.784059</td>\n",
              "      <td>0.580417</td>\n",
              "      <td>0.160870</td>\n",
              "      <td>0.452594</td>\n",
              "      <td>0.525102</td>\n",
              "    </tr>\n",
              "    <tr>\n",
              "      <th>Whisker_high</th>\n",
              "      <td>-0.994110</td>\n",
              "      <td>0.999635</td>\n",
              "      <td>1.000000</td>\n",
              "      <td>0.998569</td>\n",
              "      <td>0.821332</td>\n",
              "      <td>0.749821</td>\n",
              "      <td>0.781694</td>\n",
              "      <td>0.577848</td>\n",
              "      <td>0.161576</td>\n",
              "      <td>0.449198</td>\n",
              "      <td>0.526267</td>\n",
              "    </tr>\n",
              "    <tr>\n",
              "      <th>Whisker_low</th>\n",
              "      <td>-0.992854</td>\n",
              "      <td>0.999649</td>\n",
              "      <td>0.998569</td>\n",
              "      <td>1.000000</td>\n",
              "      <td>0.818826</td>\n",
              "      <td>0.750747</td>\n",
              "      <td>0.785825</td>\n",
              "      <td>0.582526</td>\n",
              "      <td>0.160063</td>\n",
              "      <td>0.455607</td>\n",
              "      <td>0.523586</td>\n",
              "    </tr>\n",
              "    <tr>\n",
              "      <th>Economy</th>\n",
              "      <td>-0.821757</td>\n",
              "      <td>0.820361</td>\n",
              "      <td>0.821332</td>\n",
              "      <td>0.818826</td>\n",
              "      <td>1.000000</td>\n",
              "      <td>0.660322</td>\n",
              "      <td>0.826071</td>\n",
              "      <td>0.399536</td>\n",
              "      <td>-0.016388</td>\n",
              "      <td>0.394176</td>\n",
              "      <td>0.109446</td>\n",
              "    </tr>\n",
              "    <tr>\n",
              "      <th>Family</th>\n",
              "      <td>-0.743907</td>\n",
              "      <td>0.750557</td>\n",
              "      <td>0.749821</td>\n",
              "      <td>0.750747</td>\n",
              "      <td>0.660322</td>\n",
              "      <td>1.000000</td>\n",
              "      <td>0.581351</td>\n",
              "      <td>0.449433</td>\n",
              "      <td>0.072672</td>\n",
              "      <td>0.261935</td>\n",
              "      <td>0.142756</td>\n",
              "    </tr>\n",
              "    <tr>\n",
              "      <th>Health</th>\n",
              "      <td>-0.783577</td>\n",
              "      <td>0.784059</td>\n",
              "      <td>0.781694</td>\n",
              "      <td>0.785825</td>\n",
              "      <td>0.826071</td>\n",
              "      <td>0.581351</td>\n",
              "      <td>1.000000</td>\n",
              "      <td>0.382381</td>\n",
              "      <td>0.058301</td>\n",
              "      <td>0.311460</td>\n",
              "      <td>0.136131</td>\n",
              "    </tr>\n",
              "    <tr>\n",
              "      <th>Freedom</th>\n",
              "      <td>-0.561691</td>\n",
              "      <td>0.580417</td>\n",
              "      <td>0.577848</td>\n",
              "      <td>0.582526</td>\n",
              "      <td>0.399536</td>\n",
              "      <td>0.449433</td>\n",
              "      <td>0.382381</td>\n",
              "      <td>1.000000</td>\n",
              "      <td>0.330953</td>\n",
              "      <td>0.498335</td>\n",
              "      <td>0.070587</td>\n",
              "    </tr>\n",
              "    <tr>\n",
              "      <th>Generosity</th>\n",
              "      <td>-0.134711</td>\n",
              "      <td>0.160870</td>\n",
              "      <td>0.161576</td>\n",
              "      <td>0.160063</td>\n",
              "      <td>-0.016388</td>\n",
              "      <td>0.072672</td>\n",
              "      <td>0.058301</td>\n",
              "      <td>0.330953</td>\n",
              "      <td>1.000000</td>\n",
              "      <td>0.286603</td>\n",
              "      <td>-0.129486</td>\n",
              "    </tr>\n",
              "    <tr>\n",
              "      <th>Trust</th>\n",
              "      <td>-0.428961</td>\n",
              "      <td>0.452594</td>\n",
              "      <td>0.449198</td>\n",
              "      <td>0.455607</td>\n",
              "      <td>0.394176</td>\n",
              "      <td>0.261935</td>\n",
              "      <td>0.311460</td>\n",
              "      <td>0.498335</td>\n",
              "      <td>0.286603</td>\n",
              "      <td>1.000000</td>\n",
              "      <td>-0.020799</td>\n",
              "    </tr>\n",
              "    <tr>\n",
              "      <th>Dystopia_Residual</th>\n",
              "      <td>-0.531866</td>\n",
              "      <td>0.525102</td>\n",
              "      <td>0.526267</td>\n",
              "      <td>0.523586</td>\n",
              "      <td>0.109446</td>\n",
              "      <td>0.142756</td>\n",
              "      <td>0.136131</td>\n",
              "      <td>0.070587</td>\n",
              "      <td>-0.129486</td>\n",
              "      <td>-0.020799</td>\n",
              "      <td>1.000000</td>\n",
              "    </tr>\n",
              "  </tbody>\n",
              "</table>\n",
              "</div>"
            ],
            "text/plain": [
              "                   Happiness_Rank  Happiness_Score  Whisker_high  Whisker_low  \\\n",
              "Happiness_Rank           1.000000        -0.993832     -0.994110    -0.992854   \n",
              "Happiness_Score         -0.993832         1.000000      0.999635     0.999649   \n",
              "Whisker_high            -0.994110         0.999635      1.000000     0.998569   \n",
              "Whisker_low             -0.992854         0.999649      0.998569     1.000000   \n",
              "Economy                 -0.821757         0.820361      0.821332     0.818826   \n",
              "Family                  -0.743907         0.750557      0.749821     0.750747   \n",
              "Health                  -0.783577         0.784059      0.781694     0.785825   \n",
              "Freedom                 -0.561691         0.580417      0.577848     0.582526   \n",
              "Generosity              -0.134711         0.160870      0.161576     0.160063   \n",
              "Trust                   -0.428961         0.452594      0.449198     0.455607   \n",
              "Dystopia_Residual       -0.531866         0.525102      0.526267     0.523586   \n",
              "\n",
              "                    Economy    Family    Health   Freedom  Generosity  \\\n",
              "Happiness_Rank    -0.821757 -0.743907 -0.783577 -0.561691   -0.134711   \n",
              "Happiness_Score    0.820361  0.750557  0.784059  0.580417    0.160870   \n",
              "Whisker_high       0.821332  0.749821  0.781694  0.577848    0.161576   \n",
              "Whisker_low        0.818826  0.750747  0.785825  0.582526    0.160063   \n",
              "Economy            1.000000  0.660322  0.826071  0.399536   -0.016388   \n",
              "Family             0.660322  1.000000  0.581351  0.449433    0.072672   \n",
              "Health             0.826071  0.581351  1.000000  0.382381    0.058301   \n",
              "Freedom            0.399536  0.449433  0.382381  1.000000    0.330953   \n",
              "Generosity        -0.016388  0.072672  0.058301  0.330953    1.000000   \n",
              "Trust              0.394176  0.261935  0.311460  0.498335    0.286603   \n",
              "Dystopia_Residual  0.109446  0.142756  0.136131  0.070587   -0.129486   \n",
              "\n",
              "                      Trust  Dystopia_Residual  \n",
              "Happiness_Rank    -0.428961          -0.531866  \n",
              "Happiness_Score    0.452594           0.525102  \n",
              "Whisker_high       0.449198           0.526267  \n",
              "Whisker_low        0.455607           0.523586  \n",
              "Economy            0.394176           0.109446  \n",
              "Family             0.261935           0.142756  \n",
              "Health             0.311460           0.136131  \n",
              "Freedom            0.498335           0.070587  \n",
              "Generosity         0.286603          -0.129486  \n",
              "Trust              1.000000          -0.020799  \n",
              "Dystopia_Residual -0.020799           1.000000  "
            ]
          },
          "metadata": {
            "tags": []
          },
          "execution_count": 5
        }
      ]
    },
    {
      "metadata": {
        "id": "4IIJOiYPxAHV",
        "colab_type": "code",
        "outputId": "f3ba3542-7250-49c0-dc1b-39a054ca174d",
        "colab": {
          "base_uri": "https://localhost:8080/",
          "height": 645
        }
      },
      "cell_type": "code",
      "source": [
        "correlation = data_2018.corr()\n",
        "plt.figure(figsize=(10,10))\n",
        "sns.heatmap(correlation, vmax=1, square=True,annot=True)\n",
        "plt.title('Correlation between different fearures')\n"
      ],
      "execution_count": 6,
      "outputs": [
        {
          "output_type": "execute_result",
          "data": {
            "text/plain": [
              "Text(0.5, 1.0, 'Correlation between different fearures')"
            ]
          },
          "metadata": {
            "tags": []
          },
          "execution_count": 6
        },
        {
          "output_type": "display_data",
          "data": {
            "image/png": "iVBORw0KGgoAAAANSUhEUgAAAoUAAAJjCAYAAAB6NGtLAAAABHNCSVQICAgIfAhkiAAAAAlwSFlz\nAAALEgAACxIB0t1+/AAAADl0RVh0U29mdHdhcmUAbWF0cGxvdGxpYiB2ZXJzaW9uIDMuMC4zLCBo\ndHRwOi8vbWF0cGxvdGxpYi5vcmcvnQurowAAIABJREFUeJzs3Xd4FNXXwPHvyYZQE1Ighd4REEGa\niPQWQEFAAQULggV9AQVBigqoWFB/ggXBjiKKiF3pvYjSpUkvElIoSaipu/f9YybJplAkSxL1fJ4n\nD5mZOzNnZpfdk3Pv3RVjDEoppZRS6r/NK78DUEoppZRS+U+TQqWUUkoppUmhUkoppZTSpFAppZRS\nSqFJoVJKKaWUQpNCpZRSSimFJoVKKaWUUgpNCpVSSimlFJoUKqWUUkopwDu/A1BKKaWUym8pJw/m\n6Ve8FSpVRfLyfFdCK4VKKaWUUkqTQqWUUkoppd3HSimllFLgcuZ3BPlOK4VKKaWUUkorhUoppZRS\nGFd+R5DvtFKolFJKKaW0UqiUUkophUsrhVopVEoppZRSWilUSimllDI6plArhUoppZRSSiuFSiml\nlFI6phCtFCqllFJKKbRSqJRSSimln1OIVgqVUkoppRRaKVRKKaWU0u8+RiuFSimllFIKrRQqpZRS\nSumYQrRSqJRSSiml0KRQKaWUUkqh3cdKKaWUUvrh1WilUCmllFJKoZVCpZRSSimMTjTRSqFSSiml\nlNJKoVJKKaWUjilEK4VKKaWUUgqtFCqllFJK6YdXo5VCpZRSSimFVgqVUkoppcDlzO8I8p1WCpVS\nSimllFYKlVJKKaV0TKFWCpVSSimlFFopVEoppZTSzylEK4VK/WuJyGERaX+V+7YQkT3XIKZKImJE\n5D/zB6l9vdXs36eLyLNu2x4VkRgROSciQSJyi4jss5e751/UOROREBFZJSJnReR/+R2PUsqzNClU\n6hoRkb4istF+g48Skfki0jy/48qJe+ICYIxZbYypmZ8xZfVvSCiNMYOMMS8AiEgh4A2gozGmhDHm\nFPA88I69/H1exiYi/UVkzWWaPQycBPyMMU/mQVhK5R3jytufAkiTQqWuAREZDkwBXgJCgArAu8Dt\nV3GsbEnQPzkxUulCgCLATrd1FbMsX7E8ek5UBHYZY4ynDywijr/ZXv8PKOVhmhQq5WEiUhKr4vN/\nxphvjTHnjTEpxpifjDEj7TaFRWSKiETaP1NEpLC9rbWIRIjIKBGJBj7JaZ3d9jYR2Soi8SLyq4jc\ncJGYmojIOrtdlIi8IyI+9rZVdrM/7Kpmn7Tzue1fS0RW2PvvFJFubttmiMhUEfnF7lb8XUSqXuY2\nDbCvO0pERrgdy0tERovIARE5JSJzRCTQ3pwWZ7wd580ickREGtr79rMriXXs5YEi8v0VHBcRaWrf\nv3gR+UNEWrttWyEiL4jIWvv6FolIqYtdmIiMtK8rUkQGZNk2Q0QmikgNIK17Pl5ElonIAaAK8JN9\nfYVFpKSIfGQf75i9r8M+Vn87pskicgqYYK8fICJ/ikiciCwUkYpu5zciMkisLup4+3ETEakFTAdu\nts8dn8N1zQDuB56y27S/gvv6tYhEi8hpsbqd62S5F9NEZJ6InAfa2Pf6Qbc2maqXdvz/JyL7gH32\nuutEZLGIxIrIHhHp7da+i4jssh+3Y+7PNaVUdpoUKuV5N2NVgL67RJungaZAfaAe0AR4xm17KBCI\nVZl5OKd1InIj8DHwCBAEvAf8KHZymYUTGAaUsuNrBzwGYIxpabepZ3dbfuW+o1jdnD8Bi4BgYAgw\nS0Tcu5fvAp4DAoD9wIuXuHaANkB1oCMwSjLGPg4BugOtgDJAHDDV3pYWp78d5zpgJdDaXt8KOOjW\nrpW9/ZLHFZGywC/ARKz7OwL4RkRKu8XbF3jAvn4fu002ItLJ3tbBvr4cx3QaY/YCaQmSvzGmrTGm\nKvAX0NW+viRgBpAKVANutO/Xg26Husm+5hDgRRG5HRgL9ARKA6uBL7Oc/jagMXAD0BsIN8b8CQwC\n1tnn9s8h5v7ALOBVu80SLv14Acy370MwsNne311frOeKL3C5rus03e3rri0ixYHFwBf2Oe4C3hWR\n2nbbj4BHjDG+wPXAsis8h/ovcrny9qcA0qRQKc8LAk4aY1Iv0aYf8Lwx5rgx5gRWQnWv23YXMN4Y\nk2SMSbjIuoeB94wxvxtjnMaYT4EkrGQzE2PMJmPMb8aYVGPMYawEstUVXk9ToATwijEm2RizDPgZ\nuNutzXfGmPX2Nc/CSnYv5Tm7grodq+qZdqxBwNPGmAg7KZoA3CkX7ypc6XYdLYCX3Zbdk8JLHfce\nYJ4xZp4xxmWMWQxsBLq4necTY8xe+77PucT19bbb7jDGnLfPc1VEJMSO4Qn7Xh0HJmMlPmkijTFv\n249rgn2dLxtj/rQfi5eA+u7VQqzHMd4Y8xew/BLXciUu+XgZYz42xpx121ZPrEp6mh+MMWvt+554\nhed82RgTa1/vbcBhY8wn9j3YAnwD9LLbpmAlj37GmDhjzOZcXKtS/3qaFCrleaeAUpdIZMCqqhxx\nWz5ir0tzIoc3yazrKgJP2t2A8XaXX/ksxwFARGqIyM92V94ZrGThol2gOcR61JhMI6OPAGXdlqPd\nfr+AlUReytEsx0qLuSLwndv1/IlV5Qy5yHFWAi1EJAxwYCVst4hIJaAksPUKjlsR6JXlPjYHwq7i\n+srkcG1XqyJQCIhyi+s9rIpYmqM57POmW/tYQMjdY3W5GHO8ryLiEJFX7K7lM8Bhex/3513W+K+E\n+z4VgZuyPHb9sKrqAHdgJdZHRGSliNx8FedT/xHGOPP0pyDSpFApz1uHVbG71EeKRGK9oaWpYK9L\nk9NA/qzrjgIvGmP83X6KGWOydhcCTAN2A9WNMX5YXYxymetwj7W8iLi/XlQAjl3h/jkpn+VYadd+\nFOic5ZqKGGOOkcM9Mcbsx0pshgCrjDFnsJKeh4E1bonspY57FJiZZVtxY8wrV3FdUTlc29U6ivU8\nKuUWl58xpo5bm5yeE49kuZaixphfr+B8VzN55FL3tS/WxKr2WAl6JXsf9+dd1nOeB4q5LYeSnfs+\nR4GVWc5fwhjzKIAxZoMx5nasRPp7rD8alFIXoUmhUh5mjDkNjAOmikh3ESkmIoVEpLOIvGo3+xJ4\nRkRKizVpYRzw+d881QfAIBG5yZ4sUFxEbhUR3xza+gJngHMich3waJbtMViTHHLyO1bi9ZR9Ha2B\nrsDsvxmvu2ft+1IHa6xe2jjG6Vhj4yoC2Pcnbcb2Cawu9KxxrgQGk9FVvCLL8uWO+znQVUTC7epW\nEbEm2pS7iuuaA/QXkdoiUgwYfxXHAMAYE4U1jvN/IuJnT+qoKiKX6vafDoyRjMk2JUWk1yXau4sB\nyok9AekKXeq++mIltaewEr2XruB4W4Ge9nOjGjDwMu1/BmqIyL32c7OQiDQWa2KUj1iTj0oaY1Kw\nnv8FcyCXKhj0I2k0KVTqWjDG/A8YjjV55ARWRWMwVrUCrEkNG4FtwHasQfgT/+Y5NgIPAe9gDfDf\nD/S/SPMRWJWbs1jJ5FdZtk8APrW74Hq7bzDGJGMlgZ2xPqPuXeA+Y8zuvxNvFivteJcCrxtjFtnr\n3wR+BBaJyFngN6xJBRhjLmBNSlhrx9nU7Vi+ZMxOzrp8ueMexapojSXjsRrJVbw+GmPmY30U0TL7\n+nI7seE+rIktu7Ae47lk7tbOev7vgEnAbLvLdgfW43YllmF9HE60iJy8wn0uel+Bz7C6z4/Z8f92\nBcebDCRjJaifkn1iSibGmLNYk2/uwqo2R2Ndf9pkq3uBw/a9GITVtayUuggxnv+4KaWUUkqpf5TE\nzT/maUJUpEG3Kx3Ck2e0UqiUUkoppdBPhFdKKaWUKqDj/PKSVgqVUkoppZRWCpVSSimlcBXMzw7M\nS1opVEoppZRSWin8p0g5ebBATxMvWqZFfoeg8kAFv+DLN8pHJb2LXb5RPkt0peR3CJdVp2hOnxld\ncNyTlJsvYckby4sU7PFpJ0xSfodwWV8c+S5vZ+fqmEKtFCqllFJKKU0KlVJKKaXA5crbn8sQkU4i\nskdE9ovI6By2VxCR5SKyRUS2iUiX3N4CTQqVUkoppQoQEXEAU7G+kag2cLeI1M7S7BlgjjHmRqxv\n9Xk3t+fVpFAppZRSqmBpAuw3xhy0v2p0NtbXcbozgJ/9e0msr3rMFZ1oopRSSimVxxNNRORh4GG3\nVe8bY963fy+L9T3saSLI+F7xNBOwvnd8CFAcaJ/bmDQpVEoppZTKY3YC+P5lG17c3cAMY8z/RORm\nYKaIXG/M1We3mhQqpZRSSl3B5I88dAwo77Zczl7nbiDQCcAYs05EigClgONXe1IdU6iUUkopVbBs\nAKqLSGUR8cGaSPJjljZ/Ae0ARKQWUAQ4kZuTaqVQKaWUUqoAVQqNMakiMhhYCDiAj40xO0XkeWCj\nMeZH4EngAxEZhjXppL8xJldfdKFJoVJKKaVUAWOMmQfMy7JunNvvu4BbPHlOTQqVUkop9Z9njDO/\nQ8h3OqZQKaWUUkpppVAppZRSqiCNKcwvWilUSimllFJaKVRKKaWUyutvNCmINCn8j3nmpTdYtXY9\ngQH+fP/59HyLY/Ibz9O5U1suJCQwcOAwtmzdka1Nr17dGDN6CA6Hg3nzljBm7EsAVKhQlg/ff4NS\npQOJi43nvv5DOXYsSmMsgDGOe+kpWre/hcSEREYOGc/ObbuztenasxOPPTEAYwwx0ScY/ugzxMXG\nM3rCE7QLb0lKcgpHDkfw1JDxnD1zzqPxATw18QluaXcziQmJjH/8RXZv35tpe7Hixfj4h4zvmQ8O\nK828bxbx+rg309e1u7U1r3/0Iv3CB7Lrj+zXmBtjX3ySlu2bkZiQyNghz7Nr+55s8X3+U8aXIoSG\nBfPT3Pm8/OxkwsqG8PLb4/Et6YvD4cUbL0xl1dJfPRofwIAJD3Fjm0YkJyTxzogpHNpxMFub52a/\niH9wAMmJyQC8cO94zpw6DcDNt95C72F3g4HDfx7izaH/83iMdSfeR0i7+jgTktn8+HRObz+crU2t\n0b0p36sFPv7F+bnqgPT1le5rR+UHOoDTRer5JLaO/JCze7N+jnDu9Bx/P7Xb3EhKQhKzRkwjYmf2\n+NI8+MEISlUI4ZXwkQB0Gd6buh0a4jKGcyfPMGvENM4cj/NofAD3TRhI/TYNSU5IYvqItzmcw+P8\nzOwXMj3Or9z7HGdOnaZdv3A63NcZl9NF0oVEPhzzLsf2RXg8RpU7Hus+FpFzWZb7i8g7njq+23Hn\niYi/p497hed2ishWEdkhIj/lJg4RWSEijTwZ35Xo3qUD09+YmNenzaRzp7ZUr1aZ62o359FHRzH1\nnZeztQkMDGDSy8/QMbwP9eq3JSQkmLZtmgPw6qRxzJw1lwYNOzDxxSm8OHGMxlgAY2zdvjmVqlSg\nbZPbGTt8Ii+8NjZbG4fDwbMvjqRv94fp0qoPu3ft474H+wCwZsVvdGreiy6t+nD4wBEee2JAtv1z\nq3m7m6lQpRy339yHiSNeZeykEdnaXDh/gbva90//iYqIZtm8FenbixUvRt8He7Ft006Px9eyXTMq\nVilPp5vuYPyTLzPu1VE5xtez7T3pP5ERUSz+xYpv0LABLPhxKXe0u5cnH36GcZOe8niMN7ZpSFjl\nMgxp9QjTx0zl4YmPXrTtW4+/wcguTzCyyxPpCWFopTB6/l8vnuk5imEdBvPJcx96PMaQdvUpUSWU\nJTcPZ+uID6k3KefnUvSizazs/Gy29RHf/sryNqNZ3n4s+6b+xPUT7vFofLVb16d05TAmtn6C2WM/\noNeLD1607Q3hjUm+kJRp3dL3f2JS51G81mU0O5dtptPjPT0aH0D9Ng0IrVyG4a0e48Mx0xgw8ZGL\ntp36+GTGdhnO2C7D0x/nX39YxejwJxjbZTg/Tf+Oe555wOMx5prLlbc/BdA/bkyhMaaLMSY+n06f\nYIypb4y5HogF/i+f4rhqjerXpaSfb77G0LVrODNnzQXg9/WbKelfktDQ4ExtqlSuwP79hzh5MhaA\npctW06NHFwBq1arO8uVrAVi+Yi3dunbUGAtgjO07t+K7OT8DsHXTdvxK+lI6pFSmNiKCiFC0WFEA\nfH1LEBNtfSD/mhW/4XRaHxGxZeN2QsuEeDQ+gFbhzfl5zgIAtm/eia+fL6WCgy7avkKV8gSWCmDz\nb3+kr3ts1EN8MvVzkpOSLrrf1WrbuSU/zLE+puyPTTuse3iJ+CpVqUBgqUA2/rYFAIOhhG9xAHz9\nSnA85qTHY2zc4SZWfLMcgH1b9lDMrzj+wQFXvH/7u8NZ8NkvnD9zHiA9ifCk0PCG/DVnNQBxm/dT\nyK8YhYOz/00ft3k/Scezv72knktI/91RrDDW5wR7zvUdG7Hh21UAHNmyn6K+xfArnT0+n2KFafPg\nrSx8+9tM65Pc4vMpVpjcfXxxzhp2aMJq+3Hev2Xv336cE9xiLFyssIfvoPKUPEkKRaSriPwuIltE\nZImIhNjrJ4jITBFZJyL7ROQhe31rEVklIr+IyB4RmS4iXva2wyJSSkQqicifIvKBiOwUkUUiUtRu\nU1VEFojIJhFZLSLX2et72VW+P0Rklb2ujoistyuA20Sk+hVe1jqgrH2MEiKyVEQ2i8h2EbndXn/R\nGN3ujZeIzBCR/C3f5aGyZUKJOBqZvnwsIoqyZUIztdl/4DA1alSlYsVyOBwObu8WTvnyZQDYtm0X\nPbp3BqB79874+fkSGHjlL04aY97EGBoWTNSx6PTl6MgYQsMyJ62pqamMG/kS81fP4bedi6hWswpz\nPv8+27F69budFUvXeiy2NMFhpYmOzPia0Jio4wSHlb5o+07d27Pox6Xpy9fVrUFomWDWLFnn8dgA\nQkKDiY6MSV+OjjxOcJZ76K5Ljw7M/2Fx+vLUVz+g6x2dWL71J6Z/MZmJY173eIxBoUGcisz4Zq3Y\n6FMEheScuD72+lBemzeFO4f2SV9XpnIZwiqXZeI3k3jpu9eo36qBx2MsGhZAQmRs+nJiVCxFw/7e\nc73yAx3o8Ntk6jzbl21Pf+bR+PxDAomPPJW+fDo6lpKhgdna3fpkH5Z/+Aspdtdspm0j+jDh16k0\nur05896Y49H4AAJCg4h1izE2+hQBIdljBHjk9SG8NO8NegztlWl9h/s6M3nVNPqOuZ/Pxnu+Ipxr\nxpW3PwWQJ5PConZitVVEtgLPu21bAzQ1xtwIzAbc+zBuANoCNwPjRKSMvb4JMASoDVQFcqqHVwem\nGmPqAPHAHfb694EhxpiGwAggbUDQOCDcGFMP6GavGwS8aYypDzQCLjvIQUQcWN83mPY9hIlAD2NM\nA6AN8D8RkcvECNaYzlnAPmPMMzmc52ER2SgiGz/87MvLhfWvEh9/msFDxvDlrGmsXP4dRw5HpFeN\nnhr1Ai1bNmXD+oW0bNGUiIio9G0a4z8rRm9vb/o9cCdd29xN0zod2b1zL49m6SZ+bNhAUlOd/PD1\nvIscJe+Ed2/Hgu+WAFaV88nnhvC/597O56gydO7egV++XZS+3KVnON999TNt6ndlUN9hTJo6gYyX\nprz15uP/48nwoTzbawy1GtemVc82ADi8HYRVCmN8n7FMGfo6g175P4r5Fc+XGC/l0CeLWdx0GLsm\nfknNYd3z/Pxla1ckqEIw2xZuyHH7L69/xYRm/8fGH9bQ8v7wPI4uw9THJzM6/Ame7zWWmo1r06Jn\n6/Rtiz+bz7CWj/LlK5/RfUivix9E5RtPTjRJsBMrwBpTiJVkAZQDvhKRMMAHOOS23w/GmAQgQUSW\nYyWD8cB6Y8xB+1hfAs2BuVnOecgYs9X+fRNQSURKAM2Ar91e/Arb/64FZojIHCCt/r4OeFpEygHf\nGmP2XeIai9oJb1ngTyDtT3IBXhKRloDL3p7W15UtRrfjvQfMMca8mNPJjDHvYyW4pJw8+I+utj86\n6H4GDuwHwMaNWylXvkz6trLlwjgWGZ1tn59/WczPv1i3+MGB/XC6rIQlKiqGXr0fAqB48WL07HEr\np0+f0RgLQIz3DuhNn3utv9+2bd1JWNmMymVomRCio45nal+7bg0A/jps/S32yw+LeXRoxlijO+7q\nStuOLbmn58XHL/1dvR/oSc9+1t+EO7f+SWiZjMpbSFgwx6Ny/j75GrWr4XA4+HObNdGjeIliVK1Z\nhQ+/tYZOB5UOZMqnk3ji/lG5mmzSd8Cd3HmPlXTs2LIrU7d5aJlgjme5h2lq1qmOt7c3u9wm89zZ\ntxsP3TUUgK0bt1O4SGECgvyJPZm7SQid7utCu7us4QYHtu0jqExprJdECAwN4lTMqWz7xMZYlbrE\n8wms/mEl1erXYOW3yzkVdZJ9W/fiTHVy/GgMUYciCasUxoFt+3MVY+UHOlCpn5V4xm09SNEyGVWt\nImGBJERd3T2I+H7dRcck/h3N7+3IzXe3BeCvPw7gXyajuloyNJDT0bGZ2ldqUIMKN1Rh3Jq3cTi8\nKBFUksGzx/HOXc9narfp+zU88slo5k/O+nb593W4rzNt7uoAwMFt+wl0izEwNIi4mNhs+8SlP86J\n/PrDKqrWr87qb1dkarPuxzWXHJOYbwroOL+8lFdjCt8G3jHG1AUeAYq4bcua7JjLrHfnPojHiZXk\negHx9ti/tJ9aAMaYQcAzQHlgk4gEGWO+wKoaJgDzRKTtJa4jLfGtiJUIpo0p7AeUBhra22PcrjGn\nGNP8CrQREff78a80bfqnNGrckUaNO/Ljjwu5t9+dANzUpAFnTp8hOjr7G13p0tYLkL9/SQYNup+P\nPraqpUFBAenVjtGjhjDj09kaYwGJcebHc7itzV3c1uYuFs9bTo/etwFQv2Fdzp45x4ksY9qio05Q\nrWYVAoOsrrzmrZqyf5/1N2PLts14eEh/Hr7nCRITEnMdW5o5n3ybPmlk+YJV3Na7EwB1G9Th3Nlz\nnDyePaEB6NSjPQu+X5K+fO7sedrWuZVbG9/JrY3vZPvmnblOCAG++Hhu+qSRpfNXcntvawxovYbX\nW/fwIvHd2qMjv3y3MNO6yGPRNG3RGIAq1StRuLBPrhNCgAWfzUufMLJ+0e+0vsNKvqrfWJMLZy8Q\nn2Xmq5fDC98Aayyzw9tBw3aNObrnCADrF/1OnaZ1AfAN8CWschli/oohtw59spjl7ceyvP1YohZs\npELvFgAENKhG6tmEHMcOXkzxym5/3LS/kXOHsv/x9XetmbmI17qM5rUuo9m+aCONe7YEoOKN1Ug8\ne4EzJzLHt/bzxYy76TGebz6EN3tN4MShqPSEsHSljPiu79CImAOReMLiz+anTxjZuOh3WtiPc7Ub\na5BwBY/zje0acXTPX4A1oSjNjW0bEn3Y85/GoHIvrz6SpiSQNn///izbbheRl4HiQGtgNFADaCIi\nlYEjQB/sitnlGGPOiMghEelljPna7sa9wRjzh4hUNcb8DvwuIp2B8iJSEjhojHlLRCpgdWcvu8w5\nLojIUOB7EXnXvr7jxpgUEWmDlTReiY+AlsAcEelpjEm9wv2u2sjxr7Bhyzbi48/Qrvs9PDbwXu7o\nmrddDfPmL6VTp7bs+XMtFxISePDB4enbNm5YRKPGVgVi8hvPc8MNtQGY+OJk9u2zPv6gVatmvPjC\nGAyG1at/Y8jQpzXGAhjj8sVraN2+Ocs3/EhiQiJPDZ2Qvu3n5bO5rc1dHI8+wVuvvc/snz4kNSWV\nYxFRjBw8HoAJr4zCp7APn82dBliTVZ4ZkWNR/aqtWbKO5u1u5sff5pCYkMiEJ15K3zZ7yQzuat8/\nfblDt7YM6Zd9dvK1tHLJWlq2b8bC9d+SeCGRsY+/kL7t22Wf07NtxizYTre355G7n8i0/6vj3+T5\nN8Zy/6C+GGMYMzRzVckTNi/bSIM2DXln1XskJSTx7oi30re9Nm8KI7s8QSGfQjwz8zm8vb3xcnix\nbc1WlnxpdXNvXbmZei3rM3nJO7icLma+NINz8Wc9GmPMkq2EtKtPh98mk5qQxJYn3kvf1mbJSyxv\nb82Mr/Ps3ZTr0QxHUR/CN7/NkS9WsPv1b6gyoCOlW16PSUkl+fR5Ng+d5tH4di3fQu029Xl25Zsk\nJyTxxciMjwsbOe8VXusy+pL7dx11N8FVymBcLmKPnWTO054fr7d12Sbqt2nI5FXTSEpI4r0RGcMm\nXpr3BmO7DKeQTyFGzxyPw9uBl8OLHWu2sexLq5ei4/1duL75DaSmODl/5hzThr91sVOpfCTGQ9OU\nROScMaaE23J/oJExZrA98WIyEIeVcDU2xrQWkQlAFaxxd6WAV40xH4hIa6wxiWeBasBy4DFjjEtE\nDmN1S5cAfrZnAiMiI4ASxpgJdjI5DQgDCgGzjTHPi8i39rkEWAo8AYwC7gVSgGigrzEme00852v8\nCZgDzAd+smPaCDQFOtvNLhbjCmCEMWajiDyHlQj3Mybn0acFvfu4aJkW+R2CygMV/C4+yaEgKOld\nLL9DuKxEV0p+h3BZdYqGXr5RPronqcTlG+Wz5UUKdlfkCeP52fKe9sWR7/J0AGzCwnfy9H22aPjg\n/BngewkeSwqv6uRWUnjOGPN6lvWtsRKm2/IjroJIk0JVEGhSmHuaFOaeJoW5p0lhdpoU6jeaKKWU\nUkrpRBPyOSk0xky4yPoVwIq8jCWNiARhdS1n1c4Yk/MIb6WUUkqpfzitFGZhJ371L9tQKaWUUv8e\nWin8533NnVJKKaWU8jytFCqllFJKFdCvnstLWilUSimllFJaKVRKKaWU0jGFWilUSimllFJopVAp\npZRSSscUopVCpZRSSimFVgqVUkoppXRMIVopVEoppZRSaKVQKaWUUkrHFKKVQqWUUkophVYK/zGK\nlmmR3yFcUkLk6vwOQeUB58FN+R3CJZkzp/I7hMuSwsXzO4TLcv25Ob9DuKTYj/7I7xAuq0PHUvkd\nwiVJQMGOT+UPTQqVUkoppXSiiXYfK6WUUkoprRQqpZRSSmmlEK0UKqWUUkoptFKolFJKKQXG5HcE\n+U4rhUoppZRSSiuFSimllFI6plArhUoppZRSCq0UKqWUUkpppRCtFCqllFJKKbRSqJRSSikFRiuF\nWilUSimllFJaKVRKKaWU0jFGIGHXAAAgAElEQVSFWilUSimllFJopVAppZRSSr/RBE0K/7Umv/E8\nnTu15UJCAgMHDmPL1h3Z2vTq1Y0xo4fgcDiYN28JY8a+BECFCmX58P03KFU6kLjYeO7rP5Rjx6Ly\nLPZnXnqDVWvXExjgz/efT8+z816pgh4fFIwY127by6SZ83C5XPRo3ZCBXVtl2h51Mp5n3v+GsxcS\ncblcPN67Iy3q12Td9v28OWcRKalOCnk7GHZXODfVqXptYtx5mFfnrrBivOV6BnRskmn7a3NXsGFv\nBACJKSnEnk1gzeuPAdBg8BSqlSkFQFigL28Out3z8e04wKQvF+JyGXq0qM/ALrdkjm/2IjbsOQJA\nQnIKcWfOs+btkQBM/nopq7bvw7gMTWtXYdTdHRERz8d46ASvLd+Fyxi6X1+eATdlfqx+3BHB5FW7\nCS5RGIA+9SvR84byAExZuZvVh45jjOGmiqV4qk3taxJj4aaN8R8+GPHy4vyP8zj72ZeZtvvUvwH/\nYf9HoWpViH32BRKWrUrf5ggJJuDpETiCSwOGk8PG4IyK8Wh8jmr18Ln1ARAvUjctJWX1Dzm3q30T\nRe5+koRpo3FFHkT8S1N06GRcJyMBcB3dR/JPH3g0tjRelerg0/ou8PIidftqUjcsyBJbM3xa3ok5\nFw9AytZlOHesQXwDKdztMRAv8HKQunUZqdtWXpMYVe5pUvgv1LlTW6pXq8x1tZtzU5MGTH3nZZo1\n75qpTWBgAJNefoYmTTtx8mQsH380hbZtmrNs+RpenTSOmbPmMnPm17RpfQsvThxD/weG5ln83bt0\noO8d3Rj7wut5ds6/o6DHB/kfo9Pl4qVPf+K9UQ8QEuhH33HTad2gFlXLBqe3+eCHFYQ3uZ7e7W/i\nwLHjDH79M+bXr4m/bzHeGn4PwQF+7Dsaw6OvzWDJW6OuSYwvz1nG9CE9CfH3pd+rX9CqblWqhgWl\ntxl5Z+v0379csYXdR0+kLxcu5M2csfd4PC73+F6aNZ/3hvcjJMCPvhM/onX9GlQtUzojvrs6pv/+\nxdIN7P4rGoCt+4+ydf9R5k54GID+r3zKxj1HaHxdJQ/HaHhl6U6m3dmEEN8i9Ju1llbVgqka5Jup\nXXjNMEa3q5Np3dZjcWyNjGPOfS0AeGD2OjZFxNKofBAe5eVFwMjHOTFkJM7jJwieMY2E1b+SeuhI\nxnXExBD3wiRK9OudbffA8aM5M2MWSes3IUWLgMvD1SQRfLoOJHHGRMyZUxQZ9DKpuzdiThzL3M6n\nCIVu7ozz6N5Mq01sNInvPuXZmHKKsW1fkr6ZjDkbR5F+T+M88AcmNnOxIHXvBlKWZU64zfnTJM5+\nBZypUKgwRe6bgPPAVsz509c2ZnVVcjWmUETOZVnuLyLv5C6kHM8zT0T8PX3cKzz30yKyU0S2ichW\nEbkpP+L4O7p2DWfmrLkA/L5+MyX9SxIaGpypTZXKFdi//xAnT8YCsHTZanr06AJArVrVWb58LQDL\nV6ylW9eO5KVG9etS0s/38g3zSUGPD/I/xh0HIigfEkS54EAKeXvTqWldVmz6M3MjgXOJSQCcu5BI\naX8r3lqVyhAc4AdAtXLBJCWnkpyS6vkYD0dTvrQ/5Ur5U8jbQXjDmqzYduCi7edv3EOnRjU9HsdF\n4zsUSfngQMqVDqCQt4NOTeqwYuvei7ZfsH4nnZtYiZeIkJSSSkqqk+QUJ6lOF0F+JTwfY3Q85f2L\nUc6/GIUcXoTXDGPF/iuroolAcqqTFKeLZKeLVJeLwGKFPR6jT+3rSI04hjMyClJTSVi8jKItm2Vq\n44yKIWX/wWwTDbwrVwRvB0nrNwFgEhIxSUkejc+rXDVcp6IxccfB6cS5/Ve8azXOfh3t+lgVxNQU\nj57/imIMrYyJP4E5fRJcTlJ3b8BRtf6V7exyWgkhgMPbeuALKpcrb38KoH9EpdAY0yU/zisiNwO3\nAQ2MMUkiUgrwyeUxvY0xnn+Hc1O2TCgRRyPTl49FRFG2TCjR0cfT1+0/cJgaNapSsWI5IiKiuL1b\nOD4+1qVt27aLHt078/Y7H9G9e2f8/HwJDAwgNjbuWoat/kWOx50hNLBk+nJwoB/bD0RkavNoz3YM\nmjSDLxf9RkJSMu+PfiDbcZZs2EmtSmH4FPL8S9Xx+HOEBmQkziH+Jdh+ODrHtpGnzhB56jRNapZP\nX5ecmkrfSbNweHnxQMfGtK1XzbPxxZ0l1E6OAYIDfNl+MDLHtpGn4jl2Mp4mtSoBUK9qORpfV4n2\nT07BAHe1aUQVu6vbozGeSyTEt0j6cohvUXZExWdrt3RfNJsjYqkQUJwRrWsR6leUemUCaFQ+iA7v\nLQUDfW6sSJUgzyeujuBSOGMyXvucx0/iU6fWFe3rXb4crrPnCHrlORxlQknasJnTUz/w6Bu6+AVi\nTp9KXzanT+FVrnqmNl5hlZGSpXDu3UKh5t0y7x8QTJHHJkFiAslLZ+M6sttjsaWfo4Q/5mxsRozn\n4vAKq5ytnXe1BjjK1sAVF0PKiq8w5+Ls/QMo3GMo4l+alFVztUpYgF2z2cci0lVEfheRLSKyRERC\n7PUTRGSmiKwTkX0i8pC9vrWIrBKRX0Rkj4hMFxEve9thESklIpVE5E8R+cCu3i0SkaJ2m6oiskBE\nNonIahG5zl7fS0R2iMgfIrLKXldHRNbblb9tIlI956sgDDhpjEkCMMacNMZE2sdoLCK/2sddLyK+\nIlJERD4Rke32dbex2/YXkR9FZBmw1F43UkQ22Od/7iL38GER2SgiG12u8x55XNLEx59m8JAxfDlr\nGiuXf8eRwxE4nU4Anhr1Ai1bNmXD+oW0bNGUiIio9G1Kecr8ddvo1uJGFr/1FFNH3MfT0+ficnuz\n3R8Rw5SvFvLsA54fq/d3Ldy0h/Y31sDhlfGSOe+FB/liVD9efqAzr81dydET2ZOhvLJg/S7aN7wu\nPb6/YmI5FHWSRa89zuLXHmf97sNs3vtXvsTWsmowvzzYmjn3t6BpxVKMW7DNijHuPIdiz7Hw4bYs\nfKQt6/86xeaI2MscLW+Jt4PC9esS/9Z0jj/wKI6yYRS7NTyPgxB8Ot9H8oLPsm0yZ+O48PpjJL47\niuQFn1K411AoXDRv47M5D/5BwkdjSJz5HK4ju/DpNCAjznNxJM58jsSPn8ZRpxkUK6A9LVopzHVS\nWNROrLaKyFbgebdta4CmxpgbgdmA+6CHG4C2wM3AOBEpY69vAgwBagNVgZ45nLM6MNUYUweIB+6w\n178PDDHGNARGAO/a68cB4caYekDan1iDgDeNMfWBRkDmEkaGRUB5EdkrIu+KSCsAEfEBvgIet4/b\nHkgA/g8wxpi6wN3ApyKS9md0A+BOY0wrEeloX0cToD7QUERaZj25MeZ9Y0wjY0wjL6/iFwnR8uig\n+9m4YREbNywiKjqGcuXLpG8rWy6MY5HZKyA//7KYZs270rxlN/bsPcC+fQcBiIqKoVfvh2jcJJxn\nx00C4PTpM5c8v1LuggP8iI7NqAYcjz1DiFvVC+C7lZsIv+l6AOpVr0BSSipxZy8AEBN7mmFvfsHE\nR+6kfIiHx5ilxehfgui4s+nLMfHnCPbPuVK1YFP2ruMQu225Uv40ql6O3UeP57Tr1ccX4Et0XMb/\nu+NxZwkJyPnN1L3rGGDZlj3UrVKWYkV8KFbEh1vqVuWPAxd7mctFjCWKEHM2MX055mwCpUtk7gL2\nL+qDj7cDgB51y/NnjPW8WL4/hrph/hTz8aaYjze3VC7NtkjP90Y4j5/EEZIxfMYRXArniROX2MN9\n3xOk7D1gdT07XSSuXIvPdRerIVwdcyYWKZnxHJeSQZmqcvgUwSu4PEUGjKfo8HfwKledwv2ewqtM\nFatbNsEaxeWKPISJjcErKMyj8QGYc/GIb2BGjCUCMGez/BGUeD69mzh1x2q8QipkP87505iTx3CU\n9ew9VJ6T26QwwRhTP+0HKwFLUw5YKCLbgZGA+yjjH4wxCcaYk8ByrOQIYL0x5qAxxgl8CTTP4ZyH\njDFb7d83AZVEpATQDPjaTk7fw6ryAawFZtgVSYe9bh0wVkRGARWNMQk5XZwx5hzQEHgYOAF8JSL9\ngZpAlDFmg93ujN0l3Bz43F63GzgC1LAPt9gYk/Y/vaP9swXYDFyHlSRetWnTP6VR4440atyRH39c\nyL397gTgpiYNOHP6TKau4zSlS1svRP7+JRk06H4++tgaIBwUFJA+A3D0qCHM+HR2bkJT/0F1qpTl\nr+hTRByPJSU1lQW/badVg+sytQkLKsnvO60/RA4eO05ySiqBfsU5cz6Bwa/P5PHeHbmxRsVrF2PF\nUP46Hsexk6dJSXWycNMeWtWtkq3doehYzlxIol7ljDfbMxcS08c5xp1LYOvBSKqEeTZ5rVOpDH/F\nxBJxIo6UVCcL1u+kVb0a2dodijrJ2QuJ1KtaLn1daKAfm/YeIdXpIiXVyaY9f1E5zPPdx3VCS/JX\n/HmOnb5AitPFwj1RtK4akqnNiXMZSePKAzFUtruIQ32LsCkillSXixSni80RsenbPCn5z914ly+L\nIywUvL0p2qEtCavWXdm+u/YgviXw8reGQhRudCMpbhNUPMF17ABeQWGIf2lwOHDUbUbq7o0ZDZIS\nuPDKgyS8MZiENwbjithH0qxXcUUetCpu9mu1BAQjQWG44jw7MxrAFX0Y8Q9G/EqBlwPv6xrjPPhH\n5kbFM4aLOKrWxxVrFSKkRAB4F7I2FC6GV9nq1yRGjzCuvP0pgK7lmMK3gTeMMT+KSGtggtu2rNO3\nzGXWu3Mf5esEimIlt/F2Ypr5AMYMsieH3ApsEpGGxpgvROR3e908EXnEGLMsp4uwE9QVwAo7wb0f\nKxn9u9z7fwV42Rjz3lUc57LmzV9Kp05t2fPnWi4kJPDgg8PTt23csIhGja2JI5PfeJ4bbqgNwMQX\nJ6dXClu1asaLL4zBYFi9+jeGDH36WoR5USPHv8KGLduIjz9Du+738NjAe7mjax532VxCQY8P8j9G\nb4eDMffdxqOvfYrL5aJ7y4ZUKxfC1G+WUKdyWVo3qMWTfTvz/Eff8/mCXxGB5x/uiYgwe/Fv/BVz\nive/X8773y8HYNpT/Qkq6dmEwdvhxejebXl06re4XIbbb65DtTKlePfnX6ldIYTWN1gfrbJg0x46\nNayR6aNSDkbHMvHLJXiJ4DKGAR0bZ5q17Kn4xvTtxKNTvrTu4S31qVa2NFO/X0GdSmVoXd9KEBes\n30l44zqZ4uvQqBbrdx/mzvHvISI0u75qenuPxujlxai2dXjsm/W4XHD79eWoWsqXd9fupXZISVpX\nC+HLLYdZeeA4Di+hZJFCPBd+AwDta4Sx4egpen+6GhCaVS5FqywJpUc4XcS//jal3pqEeDk4/9N8\nUg8dxu/h/iT/uZfE1b9SqFZNgl59Hi/fEhRpcTN+D/Un5u4B4HJx+q3plHrndUSE5N17Of/9L56N\nz+Ui+eePKXL/09bHvWxejjkeQaG2vXFFHsC5++JvN45KtfFp1xvjdIJxkfzjB5Dg2aFGgHXs5V9Q\n+I4nQITUHWsxpyIp1KwbrugjOA/+QaEb2+KoUh+ME5N4nuQFnwAggaEUbtUb6+1cSNm4EHPy2CVP\np/KPmFx8WKOInDPGlHBb7g80MsYMFpEtwIPGmE0i8glQ2RjTWkQmAN2BpkBxrGpZU6yK2nysruMj\n9u/vG2O+EZHDWN28JYCfjTHX2+cbAZQwxkwQkV+BycaYr8V6dbzBGPOHiFQ1xhyw228AHgLOYFUc\njYi8DkQYY6bkcH01AZcxZp+9PBHwB4YDu4E+xpgNIuKL1X08FKhjjBkoIjWAxfZ13Z12X+zjdARe\nANoZY86JSFkgxRhz0f4nb5+yBfpTNRMiV+d3CCoPOA9ezd9DececOXX5RvlMCl96KEhB4Ppzc36H\ncEmxH/1x+Ub5LKCj5yuzniQBJS/fKJ8VG/5Bnk5VvvD+sDx9ny328OQCNxX7Wn7N3QSs7txNwMks\n27ZhdRv/BryQNnkD2AC8A/wJHAK++xvn6wcMFJE/gJ1A2uj01+yJHzuAX4E/gN7ADrur+Xog+whe\nSwmscYG7RGQbVsI6wRiTDPQB3rbPtxgogjWO0cuuKH4F9E+bpOLOGLMI+AJYZ7edCxTQkbdKKaWU\n+i/IVaXwqk5oVQrPGWNez7K+NTDCGHNbngb0D6GVQlUQaKUw97RSmHtaKcw9rRRmd2H643lbKRz0\n5n+qUqiUUkoppf4h8vzDq40xEy6yfgXWhI48JyJB2J8fmEU7Y0zBLz0opZRSKncK6IzgvPSP+EaT\na81O/K7wO3uUUkoppf59NClUSimllHIV6KH7eULHFCqllFJKKa0UKqWUUkoV1O8jzktaKVRKKaWU\nUpoUKqWUUkop7T5WSimllNLuY7RSqJRSSiml0EqhUkoppRTk8df+FkRaKVRKKaWUUlopVEoppZTS\nMYWaFCql/g7RzoXcMsaZ3yFcnr45KvWfpEmhUkoppZR+zZ2OKVRKKaWUUlopVEoppZQCo8MmtFKo\nlFJKKaW0UqiUUkoppWMKtVKolFJKKaXQSqFSSimlFEY/ikkrhUoppZRSSiuFSimllFI6phCtFCql\nlFJKKTQpVEoppZRSaPexUkoppZR+eDVaKVRKKaWUUmilUCmllFJKJ5qglUKllFJKKYVWCpVSSiml\nQD+8WpPCf6vJbzxP505tuZCQwMCBw9iydUe2Nr16dWPM6CE4HA7mzVvCmLEvAVChQlk+fP8NSpUO\nJC42nvv6D+XYsag8i/2Zl95g1dr1BAb48/3n0/PsvFeqoMcHBSPGtX/sZdLMn3G5XPRo3ZiB3Vpl\n2h51Mp5n3vuasxcScbkMj/cJp0X9mqzbvo83v1pISqqTQt4Oht3dmZvqVL02Me48zKtzV1gx3nI9\nAzo2ybT9tbkr2LA3AoDElBRizyaw5vXHAGgweArVypQCICzQlzcH3e75+HYc4NXZS6z4WtRnQOeb\nM8f31RI27D5ixZecQuzZC6x5azgAk+cuY/W2AxhjaFq7Ek/d1QER8XyMh0/w2oo/cbmg+/XlGNCk\nSqbtP+6MYPLqPQSXKAJAn3oV6Fm3PABTVu1h9aETGAw3VQjiqda1rkmMhZs2xn/4YMTLi/M/zuPs\nZ19m2u5T/wb8h/0fhapVIfbZF0hYtip9myMkmICnR+AILg0YTg4bgzMqxqPxOarVw+fWB0C8SN20\nlJTVP+TcrvZNFLn7SRKmjcYVeRDxL03RoZNxnYwEwHV0H8k/feDR2NJ4VaqDT+u7wMuL1O2rSd2w\nIEtszfBpeSfmXDwAKVuX4dyxBvENpHC3x0C8wMtB6tZlpG5beU1iVLmnSeG/UOdObalerTLX1W7O\nTU0aMPWdl2nWvGumNoGBAUx6+RmaNO3EyZOxfPzRFNq2ac6y5Wt4ddI4Zs6ay8yZX9Om9S28OHEM\n/R8Ymmfxd+/Sgb53dGPsC6/n2Tn/joIeH+R/jE6Xi5c+/ZH3Rg8gJNCPvuPepXXD66haNiS9zQc/\nLCf8prr0bt+UA8diGPzap8yf8hT+vsV568n7CA7wY9/RaB59dQZL3h59TWJ8ec4ypg/pSYi/L/1e\n/YJWdatSNSwovc3IO1un//7lii3sPnoifblwIW/mjL3H43Fliu+LRUwfdhchAX70e3EGrepVp6qd\niAKM7NM+I76lG9l91EpWtu6PYOv+CL6eMBCABybNZOPev2hcs6KHYzS8smwX03o2JsS3CP2+WEer\nqsFUDSqRqV14jTBGt62dad3WyDi2RsYx595brBjn/MamiFgalQ/Co7y8CBj5OCeGjMR5/ATBM6aR\nsPpXUg8dybiOmBjiXphEiX69s+0eOH40Z2bMImn9JqRoEc+POxPBp+tAEmdMxJw5RZFBL5O6eyPm\nxLHM7XyKUOjmzjiP7s202sRGk/juU56NKacY2/Yl6ZvJmLNxFOn3NM4Df2BiMxcLUvduIGVZ5oTb\nnD9N4uxXwJkKhQpT5L4JOA9sxZw/fW1jvho6pjD/xxSKyGQRecJteaGIfOi2/D8RGS4iP19k/w9F\npHZO2+ztK0SkkYdjzvGYItJIRN66zL6VRCR72c6DunYNZ+asuQD8vn4zJf1LEhoanKlNlcoV2L//\nECdPxgKwdNlqevToAkCtWtVZvnwtAMtXrKVb147XMtxsGtWvS0k/3zw9599R0OOD/I9xx4EIyocE\nUS44kELe3nRqegMrNv2Zrd25hCTr3wtJlA7wA6BWpTIE279XKxdCUnIKySmpno/xcDTlS/tTrpQ/\nhbwdhDesyYptBy7afv7GPXRqVNPjcVw0vkORlC8dQLnSAVZ8jWuxYuvei7afv2EXnZpYL4UikJzi\nJCXVSXKKk1SniyC/4p6PMTqe8v7FKOdfjEIOL8JrhrLiwJVV0QRIdrpIcblIdrpIdRoCixX2eIw+\nta8jNeIYzsgoSE0lYfEyirZslqmNMyqGlP0Hs3UfeleuCN4OktZvAsAkJGKSkjwan1e5arhORWPi\njoPTiXP7r3jXapz9Otr1sSqIqSkePf8VxRhaGRN/AnP6JLicpO7egKNq/Svb2eW0EkIAh7f15FQF\nVkGoFK4FegNTRMQLKAX4uW1vBuRcSweMMQ9eq8BExGGMcV5pe2PMRmDjtYrnSpUtE0rE0cj05WMR\nUZQtE0p09PH0dfsPHKZGjapUrFiOiIgobu8Wjo+PDwDbtu2iR/fOvP3OR3Tv3hk/P18CAwOIjY3L\n82tR/0zH404TGlgyfTk4sCTbDxzN1ObRnu0YNOkTvly0joSkZN4fMzDbcZZs2EGtSmXwKeT5l6rj\n8ecIDchInEP8S7D9cHSObSNPnSHy1Gma1Cyfvi45NZW+k2bh8PLigY6NaVuvmufjC8x4KQwJ8GX7\nocgc20aeOk3kyXiaXGdVAutVLUfj6yrQfsTbAPRp05AqYaVy3DdXMZ5LIsS3aEaMJYqwIzp7BWjp\nvhg2H4ulgn9xRrS+jlDfotQrE0Cj8oF0eH85GOhTvwJVslQYPcERXApnTMZrn/P4SXzq1Lqifb3L\nl8N19hxBrzyHo0woSRs2c3rqBx4deyZ+gZjTp9KXzelTeJWrnqmNV1hlpGQpnHu3UKh5t8z7BwRT\n5LFJkJhA8tLZuI7s9lhs6eco4Y85G5sR47k4vMIqZ2vnXa0BjrI1cMXFkLLiK8y5OHv/AAr3GIr4\nlyZl1dyCWSUE/ZxCCkClEPgVSBsoUwfYAZwVkQARKQzUAjYDJURkrojsFpFZYg88SavaiYhDRGaI\nyA4R2S4iw9xPIiJe9vaJ9nJHEVknIptF5GsRKWGvPywik0RkM9DrEnH3EpH1IrJXRFrY+7ZOq2iK\nSGkRWSwiO+1q5hERSXtVdojIB/a2RSJSNKcTiMjDIrJRRDa6XOf//p29hPj40wweMoYvZ01j5fLv\nOHI4AqfTyn+fGvUCLVs2ZcP6hbRs0ZSIiKj0bUp5yvx12+jWsgGL3x7N1JH9eXraHFxub7b7I2KY\nMnshzw7ono9RWhZu2kP7G2vg8Mp4yZz3woN8MaofLz/QmdfmruToifj8i2/9Lto3uC49vr+Ox3Iw\n6hSLXh3MolcHs2H3YTbvPXqZo1wbLasE88vAVsy5tzlNKwYxbuF2K8b48xyKPc/CB1uz8KHWrD96\nis0RsZc5Wt4SbweF69cl/q3pHH/gURxlwyh2a3geByH4dL6P5AWfZdtkzsZx4fXHSHx3FMkLPqVw\nr6FQOMe3k2vOefAPEj4aQ+LM53Ad2YVPpwEZcZ6LI3HmcyR+/DSOOs2gWMHuafkvy/ek0BgTCaSK\nSAWsquA64HesRLERsB1IBm4EngBqA1WAW7Icqj5Q1hhzvTGmLvCJ2zZvYBawzxjzjJ2cPQO0N8Y0\nwKruDXdrf8oY08AYM/sSoXsbY5rYMY3PYft4YJkxpg4wF6jgtq06MNXeFg/ckdMJjDHvG2MaGWMa\neXlduuvn0UH3s3HDIjZuWERUdAzlypdJ31a2XBjHIrNXQH7+ZTHNmnelectu7Nl7gH37DgIQFRVD\nr94P0bhJOM+OmwTA6dNnLnl+pdwFB5QkOjajGnA89jQhAX6Z2ny3ciPhN9UFoF71CiSlpBJ39gIA\nMadOM2zK50wc1IvyIR4eY5YWo38JouPOpi/HxJ8j2D/nStWCTdm7jkPstuVK+dOoejl2Hz2e0665\niy824/9dTNxZgv1zfjNdsOHP9K5jgGX/z959h0dVrHEc/87uppLeQxKBhA4BpAoiREDACliwYEFE\nBAW7gr0XULErei1gv4gNG0gXQaRLkd6TkN57ds/cP3ZJsklIQJYket/P8+Rxz5455/yyxOzsOzMn\nm3bTJbY53p7ueHu6c3bnOP7cn1TrsaeU0ceD1PziyowFJYT6OA8BB3i5426xv9WM6hzDjlT797Rs\nbxrxEf54u1vwdrdwdstQthx1fcfalpaBObxy+ow5LARbenodR1Q9Np3y3fvsQ882g5IVq3Bv36b+\nA0+CzstC+Vf+jCv/YKeqHO6emMJi8Bz3GF53v4Epug0eY+7H1DzWPixbXACAkXwAnZWKKTjSpfkA\ndEEOyjeoMqNPIDq/2r9VSWHFMLF120pM4WdQnS7MRWckYY5y7WvoMoZu2K8mqNE7hQ6rsXcIj3UK\nf6+yvcrRZq3WOlFrbQCbgZbVzrEfiFVKva6UGg5U7cW8A2zTWj/j2D4Le+dylVJqM3ADUHUG9n9P\nIPPXjv9uqCULQH/gCwCt9QKg6tjrAa315nqOPylvz5pDz15D6dlrKPPnL+S6MZcD0Kd3d/Jy85yG\njo8JDbX/IgoI8GfixBt4/wP7BOHg4MCKFYDTpk5h9py6+sZC1NQpNorDKRkkpmVRbrWyYM0WBnZ3\nHrKLDA7gj+32OXz7k9IoK7cS5NeMvMJiJr80hzuuHMaZbV27MMIpY4sIDqdlk5SRS7nVxsINuxgY\nH1uj3YGULPKKSunaqk87Gl8AACAASURBVPLNNq+opGKeY3ZBMZv3JxMb6drOa6eWze350nPs+dbt\nYGDXmm+mB45mkldUQte4qIrnIoP82LD7CFabQbnVxobdh12eD6BThD+Hs4tIyi2i3GawcFcKCbHO\n85fTC0oqHq/Yn0arIPsH3AhfTzYkZmM1DMptBhsTs2gV5Prh47IdO7HERGGOjACLBa/zBlH86+8n\nduxfu1C+PpgC7FMhPHqeSXmVBSquYCTtwxQciQoIBbMZc3w/rDurzEIqLabo+fEUz5xM8czJGIl7\nKP10BkbyfnvFzfG7WgWGoYIjMbJduzIawEg5iAoIQ/mFgMmMpX0vbPv/dG7UrHK6iDmuG0aWvRCh\nfALB4mbf4eGNKarNackoXKMpzCkEe8evHxCPffj4CHAP9o7dsYpf1dm9Nqpl11pnK6W6AsOAidjn\nKR6rX68GzlVKvaS1LsE+x3mR1vrq4+Q5kbHaY3lqZDmJY48d79J6/08/L2H48EHs2rGKouJixo+v\nLIKuX/cLPXvZF468PPNJunSxVxeefublikrhwIH9eOapB9BoVq5cw5TbH3JlvHrd99jzrNu0hZyc\nPAaPvJZbb7qOyy5u4CGbOjT1fND4GS1mMw/ccAmTZnyIYWhGDuxB6+hw3py3iE6tokno0YF7xpzP\nk+99wycLVqFQPHnL5Sil+GLR7xxOzeTdb5bx7jfLAHh76o0E+7u2w2Axm5g2ehCT3vwaw9CM6NuJ\n1s1DeOuH1XQ8I5yELvbb4CzYsIvhPdo63Splf0oWT3++GJNSGFozbmgvp1XLLst3zXlMeuULDK0Z\ncXYXWkeF8tZ3v9KxRSQJ3ewdxAXr/mJ4L+dbuQzp0Z61Ow9xxePvoRT06xRba4fylDOaTEwd1JFb\nv15vz9gpmrgQX95avYeO4f4kxIXx+eZDrNiXjtmk8Pd044lh9urwkDYRrDuSyeiP7Z/7+7UMYWBc\nWF2X+3tsBjkvvk7Ia9NRJjOF3/+M9cBB/CaMpWzHbkpWrsatQzuCZzyJydcHz3P64nfzWFKvHgeG\nQe5rswh540WUUpTt3E3htz+6Np9hUPbDB3je8JD9di8bl6HTEnEbNBojeR+2nRuOe6i5ZUfcB49G\n22ygDcrm/weKXTvVCLCfe9lneFx2JyiFddsqdGYybv0uwUg5hG3/n7idOQhzbDfQNnRJIWUL7G/d\nKigCj4GjAQ0oytcvRGe4vmrtClruU4jSuvFLmEqpbtgrb/u11kMcz20AooDOjq97tdYXOfa9AazX\nWs9WSi0H7gUOAmVa6zylVGfgE611tyr7BwAJwKVAIPYK3SCt9V6lVDPsQ8+7lVIHgZ5a64w68i53\n5FnvGIper7VuqZRKOJZTKfUmcFhrPV0pNRRYCIQCPsAPWuvOjnPdC/horR+v6zWyuEc1/j9UHYqT\nVzZ2BNEAbAc2NXaEOuncExsWbFTuno2doF76r6b975z14dbGjlCvwKGuX9jjSirQv/5Gjcz77v80\n6FLlggcua9D3WZ/nvmpyS7GbSqVwK/ZVx59Ve85Ha51xgjczjQI+dKxgBnig6k6t9UyllD/wMTAG\nGAt87ljMAvY5hse/38PJe8Jx/uuwD4enAPnYO4VCCCGEaEqa6Dy/htQkOoWO2774VXtubJXHy4Hl\nVbYnV3mcUOWw7rWcO6HK46oLQpYCNW4GpbVueQJ5q54zA8ecwGo5c4FhWmurUqov0EtrXYq9otm5\nyvFN9w7IQgghhPi/0SQ6hf9SZwBzHZXLMuDmRs4jhBBCCHFc0imsg2NeYPVb37yqtf6wtvZVaa33\nYL+NjhBCCCGaOhk+lk5hXbTWtzV2BiGEEEKIhtBU7lMohBBCCNF4tNGwX/VQSg1XSu1SSu1VSk2r\no91lSimtlOp5qi+BdAqFEEIIIZoQpZQZeBM4H/sf27haKdWxlna+wB3Y/xLcKZNOoRBCCCFE0/oz\nd72BvVrr/VrrMux/IW1ELe2eAqYDJbXsO2nSKRRCCCGEaGBKqQlKqfVVviZU2R2F/a+7HZPoeK7q\n8d2BGK21y/7Mjiw0EUIIIcT/Pd3Aq4+11u8C7/6dYx23u5uJ/Q9xuIxUCoUQQgghmpYkIKbKdrTj\nuWN8sf8hjOWOP897FjD/VBebSKVQCCGEEKJp3adwHdBGKdUKe2fwKuCaYzu11rnY/zwwAEqp5cC9\nWuv1p3JRqRQKIYQQQjQhWmsrMBlYCOwA5mqttyulnlRKXXK6riuVQiGEEEIIo/57BzYkrfVPwE/V\nnnv0OG0TXHFNqRQKIYQQQgipFAohTsIJ3IW/Uamm/znXfk/apk2bmv7r2OQ19Z/FpjV/rmmQ10Qq\nhUIIIYQQQiqFQgghhBBSKUQqhUIIIYQQAukUCiGEEEIIZPhYCCGEEAKtZfhYKoVCCCGEEEIqhUII\nIYQQstBEKoVCCCGEEAKpFAohhBBCSKUQqRQKIYQQQgikUiiEEEIIgZZKoVQKhRBCCCGEVAqFEEII\nIWROIVIpFEIIIYQQSKVQCCGEEAKMxg7Q+KRT+C/18swnOX/4IIqKi7npprvYtHlbjTZXXHEJD0yb\ngtls5qefFvPAg88CcMYZUbz37kxCQoPIzsrh+rG3k5R0tMGyP/zsTH5dtZagwAC+/WRWg133RDX1\nfNA0Mq7aspvpH/+EYRiMSujBTRcPdNp/NCOHh9/9ivyiEgzD4I7RQzmnWzt+37qXV+f+QrnVhpvF\nzF1XDaNPp7jTk3H7AWZ8uQxDa0b168y4YX2c9r8wbxnrdh8BoKTMSlZ+Eb+9NBmA7rfNpHVUCACR\ngb68OmmU6/Nt28f0zxdiGJpR53TjpgvOds73xS+s23UIgOKycrLzCvnt9fsAeHneElZu2QvAhIv6\nM7x3J5fnA1h1IJ0Xlv2FoTUjO8cwro/zv9X8bYm8/OtOwnw8ALiyW0su7RIDwCsrdrLyQBpaa/q0\nCOH+czuilHJ5Ro+zehFw92SUyUTh/J/I/+hzp/3u3boQcNdtuLWOJeuRpyhe+mvFPnN4GIEP3Ys5\nLBTQZNz1ALajqS7NZ27dFfcLbgBlwrpxKeUr59fermNvPK+6m+JZD2Ik7wdAhZ+BxyXjUR5eoDXF\n7zwE1nKX5gMwteyE+6Cr7Rm3rsS69mfnbJ364T7wCnRBNgDlm5Zh27oSFRqD+3nXotw9QWvK1/yI\nbdc6l+cTriGdwn+h84cPok3rVrTv2J8+vbvz5hvP0a//xU5tgoICmf7cw/Q+azgZGVl88P4rDDq3\nP0uX/caM6Y/y8afz+PjjLzk34WyeefoBxt54e4PlH3nBeVxz2SU8+NSLDXbNk9HU80HjZ7QZBs/O\n+Z53pt5IeJAf1zw6i4TuHYiLCqto85/vljOsd2dGD+nDvqQ0Jr/4ET93a0eArzev3X0tYYF+7DmS\nyqQXZrP4tamnJeNz/13CrNsvJzzAlzHTP2Vgl9bERQZXtLnv8nMrHn++bCM7E9Mqtj3cLcx98HqX\n56qa79lPf+adu8cQHujHNU+/T0K3tsQ1D63Md9XQisefLVnHzsMpAPy6ZQ87D6Uw97GbKbNaGf/C\nx/SPb42Pl4eLM2qeX7Kdty/vTbivJ2M+XcXA1mHEBfs6tRvWLpJpg507pZuTstmcnM3c688B4MYv\nfmdDYhY9Y4JxKZOJwPvuIH3KfdjS0gmb/TbFK1djPXCo8vtITSX7qen4jBld4/Cgx6aRN/tTStdu\nQHl5un7emVK4XzSOkjnPoPMy8bzlWaw7N6DTk5zbuXvidtb52I7scfrePC+7jdKv3sRIPQxePmCz\nujbfsYxDxlD65Ux0fjae1z6Mbd9mdKZzscC6ax3lSz5zPtZaRtlP76Nz0lDN/PG87hGKD26D0mLX\n5zxFsvq4ic4pVEq9rJS6s8r2QqXUe1W2X1JK3a2U+uE4x7+nlOpYx/mXK6V6ujjzbKXU5a485991\n8cXD+PjTeQD8sXYj/gH+RESEObWJbXUGe/ceICMjC4AlS1cyatQFAHTo0IZly1YBsGz5Ki65eCgN\nqWe3ePz9fOtv2Eiaej5o/Izb9iUSEx5MdFgQbhYLw8+KZ/mGHc6NFBSUlAJQUFRCaIA9b4eWzQkL\n9AOgdXQYpWVWyspd/0a37WAKMaEBRIcE4GYxM6xHO5b/ufe47X9ev5PhPdu7PMdx8x1IJiYsiOjQ\nQNwsZob37sTyzbuP237B2u2c76gG7k/OoHvbM7CYTXh7uNMmOoxV2/a5PmNKDjEB3kQHeONmNjGs\nXSTL955YFU0pKLPaKLcZlNkMrIZBkLdrO60A7h3bY01MwpZ8FKxWihctxWtAP6c2tqOplO/dD4bz\n+KGlVQuwmClduwEAXVyCLi11aT5TdGuMrBR0dhrYbNi2rsbSvubbk/vg0ZT/Nt+pCmiO64KRetje\nIQQoLgDt+o6NKaIVOjsNnZsBhg3rzrWY47qd0LE6OxWdY/8wpQtz0UX5KK+m/fvz/1mT7BQCq4B+\nAEopExACVP2Y2Q9wP97BWuvxWuu/TkcwpZT5dJzXlaKaR5B4JLliOynxKFHNI5za7N13kLZt42jR\nIhqz2cyIS4YRE9McgC1b/mLUyPMBGDnyfPz8fAkKCmy4b0D846Vl5xER5F+xHRbkR2p2nlObSZcO\n5sdVf3Le7TO47cWPmHb9RTXOs3jddjq0jMTdzfWDGmk5BUQEVr45hQf6kpZbUGvb5Mw8kjPz6N3u\njIrnysqtXPP8J1w34zOWbt5T63GnlC87nwhH5xggLNCX1Oz84+TLISkjh94dWgLQNiaM1dv2UVxa\nTnZ+Eet2HiIlK6/WY08pY0EJ4b6eFdvhvl6kF9TsNC3Zk8LoOSu5d/5GUvLsFaKuzQPpGRPMee8s\nYeisJfRrGUpssI/LM5rDQrClVlZ4bWkZmEND6ziikiUmGiO/gODnnyDso3fwn3ILmFz7tql8g9C5\nmRXbOi8L5Rfk1MYU2RLlF4xt9ybnY0MiQYPH9Q/gOfE53KqNCLkuYyA6P7syY0E2yrfme4KlTXc8\nb3gc90sm1rrfFNEKzBZ0TvppyXnKDN2wX01QU+0Urgb6Oh53ArYB+UqpQKWUB9AB2Aj4KKXmKaV2\nKqU+VY7JKMcqgUops6OCt00ptVUpdVfViyilTI79Tzu2hyqlfldKbVRKfamU8nE8f1ApNV0ptRG4\nor7wSqnBSqlNjmt+oJTyUEr1Ukp97dg/QilVrJRyV0p5KqX2u+ZlO3E5OblMnvIAn3/6NiuWfcOh\ng4nYbDYA7p/6FAMGnMW6tQsZcM5ZJCYerdgnhKv8/PsWLjnnTBa9dj9v3ns9D82ah1GlUrM3MZVX\n/ruQR24c0Ygp7RZu2MmQM9tgrtIh+Onpm/ls2rU8N+4CXpi3nCPpOY2Wb8HavxjSo31Fvn6d4ugf\n35obnp/NtHe/oWtcFGaT6+fqnYgBcWH8OD6BuTecw1ktQnh0wRYADmcXciCrgIUTBrHwlkGsPZzJ\nxsSsRsl4PMpixqNbPDmvzSLtxkmYoyLxvnBYA4dQuA+/nrKFn9TcZzJjatGO0nlvUPL+Y5g79MIU\n27lh8znY9v1J8X+mUTLncYyDf+F+/jjnBs38cb/gJsoWfAg0zQ6RaKKdQq11MmBVSp2BvSr4O/AH\n9o5iT2ArUAacCdwJdARigbOrnaobEKW17qy1jgc+rLLPAnwK7NFaP6yUCgEeBoZorbsD64G7q7TP\n1Fp311p/UVd2pZQnMBu40nFNCzAJ2OTIA3AO9o5uL6CP43ur7VwTlFLrlVLrDaOwrssyaeINrF/3\nC+vX/cLRlFSiHVU/gKjoSJKSU2oc88OPi+jX/2L6D7iEXbv3sWePvW969GgqV4y+mV69h/HIo9MB\nyM11fZVB/HuFBfqRkpVbsZ2WlUd4laoXwDcrNjCsj/0NrGubMygtt5KdXwRAalYud736GU/fcjkx\n4S6eY3YsY4APKVUqb6nZ+YT5116pWlDL0HG4Y7g7OiSAnm1j2HkkrbZD/36+QF9SqlRX07LzCQ+s\nfdit6tDxMTdf1J+5j93MO/eMQWtocRpexzAfT1LzSyq2U/OLCfVxHgIO8HLH3WIfYBkVH8OOVPvP\nxbK9qcRHBuDtbsHb3cLZrULZkpyNq9nSMjCHV06fMYeFYEs/sUqVLS2d8t377EPPNoOSFatwb9/G\npfl0fhbKv/LfRvkFofOqdI7dPTGFReN546N43fU6pujWeFxzL6bmsejcTGwHd0BRPpSXYdu9GXNk\nS5fms2d0rgwqH+fKIQAlhRXzGa1bV2IKb+H0PXheejvlv32DcbTBayDiJDTJTqHDauwdwmOdwt+r\nbK9ytFmrtU7UWhvAZqBltXPsB2KVUq8rpYYDVXs27wDbtNbPOLbPwt65XKWU2gzcAFT5qea/J5i7\nHXBAa31s8s8cYIDW2grsU0p1AHoDM4EB2DuIK2s7kdb6Xa11T611T5OpWZ0XfXvWHHr2GkrPXkOZ\nP38h142xT2/s07s7ebl5pKTUfMMKDbX/IgoI8GfixBt4/wP7irzg4MCKFYDTpk5h9pw6+8FC1NAp\nNorDKZkkpmVRbrWyYM1WBnZ37lRFBvvzx3b7G8T+pDTKyq0E+TUjr7CYyS9+zB2jh3Jm2xa1nd41\nGVtEcDgth6SMXMqtNhZu2MXALjVXOR9IySSvqJSusZUftPKKSirmOWYXFLF5XxKxka7tdHVq2ZzD\nqVkkpmdTbrWxYO12BnZtWzPf0Qzyi0roGhdd8ZzNMMgpsHewdx9JZXdiGn07xbo0H0CnCH8O5xSS\nlFtEuc1g4a6jJMSFO7VJL6jsNK7Yl0orxxBxhK8nGxKzsBoG5TaDjYlZFftcqWzHTiwxUZgjI8Bi\nweu8QRT/+vuJHfvXLpSvD6YA+1QIj55nUl5lgYorGEn7MAVFoAJCwWzGHN8P684NlQ1KiymaPoHi\nl6dQ/PIUjMS9lH72Ikbyfmx7t2AKPwPc3MFkwtyyA0b1BSquyJhyEBUYjvIPAZMZS/ve2Pb96dyo\nWeV0EXNcN4xji1BMZjxG3IZ1++/Ydm+gSTMa+KsJasqrj4/NK4zHXlU7AtyDvWN3rOJXdfKKjWrf\nj9Y6WynVFRgGTARGA8dq2quBc5VSL2mtSwAFLNJaX32cPHWX6k7Mr8D5QDmwGHtF0Qzc54JzV/jp\n5yUMHz6IXTtWUVRczPjxlQXP9et+oWcv+8KRl2c+SZcu9vU4Tz/zckWlcODAfjzz1ANoNCtXrmHK\n7Q+5Ml697nvsedZt2kJOTh6DR17LrTddx2UXN/CQTR2aej5o/IwWs5kHrr+ISS/MwTAMRg7oQevo\ncN78ajGdWkWR0L0D91xzPk++/y2fLFiNUvDkhEtRSvHFojUcTs3k3W+X8e63ywB4+/6xBB+nivf3\nM5qYduUgJr3xFYZhMKJvZ1o3D+Gt71fRsUU4CV1aA7Bg/S6G92zndKuU/UczefrzxZiUwtCacUN7\nO61adlW+B64ZzqRXPre/hmd3o3VUKG9+u5xOLZuT0M3eQVywdjvDenVyyme1Gdw4/SMAmnl58Oz4\nEVjMrq8BWEwmpg7qxK1frcUwYETnaOJCfHlr1W46hvuT0DqczzcdZMW+NMwmhb+nG08M6wLAkLaR\nrDuSyeg5KwFFv1YhDKzWoXQJm0HOi68T8tp0lMlM4fc/Yz1wEL8JYynbsZuSlatx69CO4BlPYvL1\nwfOcvvjdPJbUq8eBYZD72ixC3ngRpRRlO3dT+O2Prs1nGJT9+CGe1z8IJhPWjcvQ6Ym4DboCI2k/\ntl11dKRKCilf/SNetzwDGqx7NtWYd+gS2qBsyWd4XHanPePWVejMZNzOHoGRchDbvj9x6z4Yc1xX\nMAx0SaFjmBjM7Xphim6D8mqGpbN9gU/pzx+i04+4Pqc4ZUqfhpVKrqCU6gZ8DezXWg9xPLcBiAI6\nO77u1Vpf5Nj3BrBeaz1bKbUcuBc4CJRprfOUUp2BT7TW3arsHwAkAJcCgcAGYJDWeq9Sqhn2oefd\nSqmDQE+tdUYdeWcDPzi+dlc5z2xgk9b6VaVUAvAR8JFjyHoNEA7E6nr+ISzuUU3zH8qhOLnWYqf4\nl7Htb9qf9GsMaTVByt2rsSPUy9ixsbEj1Cnr/T/rb9TIAoeF1d+oESk/11dlXc373vcadCJs9hUJ\nDfo+G/jl8saZ6FuHplwp3Ip91fFn1Z7z0VpnnOANTqOADx0rmAEeqLpTaz1TKeUPfAyMAcYCnzsW\ns4B9juHx7wFRC611iVLqRuBLpZQFWAccu3vwH9g7gcfujLoFiKivQyiEEEIIcbo12U6h1toG+FV7\nbmyVx8uB5VW2J1d5nFDlsO61nDuhyuPHquxain3xR/X2LU8gb9VsS7AvgqnephjwqLI9ob7zCiGE\nEKIBNNF5fg2pKS80EUIIIYQQDaTJVgqbKqXUm9S89c2rWusPa2svhBBCiKZP/syddApPmtb6tsbO\nIIQQQgjhatIpFEIIIYSQOYUyp1AIIYQQQkilUAghhBACLZVCqRQKIYQQQgipFAohhBBCyJxCpFIo\nhBBCCCGQSqEQQgghhMwpRCqFQgghhBAC6RQKIYQQQghk+FgIIYQQQhaaIJ3Cf4wz/MIaO0KdbPs3\nNHaE+qkmXhj/B0xoMcf2aOwI9bIu/aSxI9StVafGTlAv2197GztCnRKPBDR2hHr55xU2doQ6pX2d\n3dgR6hV3b2Mn+P8jnUIhxL9Gk+8QCiGarH/A5/LTromXToQQQgghREOQSqEQQggh/u9JpVAqhUII\nIYQQAqkUCiGEEEJIpRCpFAohhBBCCKRSKIQQQggBWjV2gkYnlUIhhBBCCCGVQiGEEEIImVMolUIh\nhBBCCIFUCoUQQggh0IbMKZRKoRBCCCGEkEqhEEIIIYTMKZRKoRBCCCGEQDqFQgghhBACGT4WQggh\nhEDLzaulU/hv9eiz95Mw5GxKiku4b8pjbN+ys0abiy8dzq13jkNrTWpKOndPepjsrBymPX4ng4cN\noLysnEMHE7l/ymPk5xW4NN+qLbuZ/vFPGIbBqIQe3HTxQKf9RzNyePjdr8gvKsEwDO4YPZRzurXj\n9617eXXuL5RbbbhZzNx11TD6dIpzaTaAVX/uZvrHPzjy9eKmS2rJ986XjnyaO64c5si3h1f/u7Ay\n39Xnn5Z80PRfw/o8/OxMfl21lqDAAL79ZFaDXx9g1Z5kZvy4HkNrRvVozbgBnWq0Wbj1EO8s2wIo\n2kYE8Pzo/gAczSnkiW/XkJpbhFLw+nXnEhXo49p8f/PncOu+Izz1/rcAaDQTRw1mcK+a35urmdt3\nx/PSm0GZKF+ziLIl82ptZ+nSD69xD1D40l0YR/aeliwtnrqJwEHdsRWXsu+uNyjaur9Gm2bxscS9\nMgWTpzvZSzdy6JH3AQi6qC/R91yJV5totl0wlcIt+yqO8e7QglbTJ2L29QJDs/WC+9Gl5aeUtb7X\nza3fcNz6XwjaQJeWUPrfNzBSj4DZgufo2zDFtAatKf3mXWx7t51SluPxOrsnIdMmosxm8r76mZz3\n5zrt9+zRmZCpE3FvG0vqfc9SuOi3in2Rs57Bo0t7SjZtJ+W2R09LPuEa/9pOoVLKBmyt8tQXWuvn\nGytPQ0oY0p+WsWcwqPcIuvWI56kXHuTSYdc7tTGbzTzyzH0MO/sysrNymPrYHVw//kpenfEOvy1f\nwwtPvY7NZmPqo7dz653jmP7kay7LZzMMnp3zPe9MvZHwID+ueXQWCd07EBcVVtHmP98tZ1jvzowe\n0od9SWlMfvEjfu7WjgBfb167+1rCAv3YcySVSS/MZvFrU12WrTLffN6ZNs6R7y0SerQnLiq8Sr5l\nDOsTz+ghZ7EvKZXJL8zh51fuJ8C3Ga/dc70jXwqTZsxm8evTXJqvMmPTfQ1PxMgLzuOayy7hwade\nbPBrg/01fO77dcwaO4hwP2/GzFrAwPbRxIX5V7Q5lJnHB79uZ/bNQ/Hz8iCroKRi38NfrWb8wM70\nbR1JUWk5Srm2ynAqP4eto8P57KlbsZjNpGfnccVDrzOwe3ssZrNLMzpRJjwvn0jR24+gczLxvnsm\n1m1/2DsvVXl44TbwYmwHa35QdZWAQd3xahXJ5rNvw6d7W2Kfm8C2i2r+f9jq+VvYf9/bFGzcTftP\nHibg3DPJWbaJop2H2T1+BrHTJzofYDYR9/od7Lv9NYr+Oogl0Addbju1sCfwupVvWEH56gX2CJ16\n4zHyJorfeRy3vkMBKJoxBeXjj9ctj1M0827Q+tQyVWcyEfrwbSTf/ADWlAyi//s6hcvWUL7/cEUT\n69F00h5+iYCxl9c4POfDL1GeHviNvtC1uVxMFpr8u+cUFmutu1X5+r/oEAIMOX8g38z9AYDNG7bi\n5+9LaHiIUxulFEopvLy9APD19SE1JR2A35avwWaz/6LbtH4rEc3DcaVt+xKJCQ8mOiwIN4uF4WfF\ns3zDDudGCgpKSgEoKCohNMAXgA4tmxMW6AdA6+gwSsuslJVbT3O+LjXzAQXFx/KVEurI5JwvnNKy\ncpfnqz1j03oNT0TPbvH4+/k2+HWP2ZaYSUywL9FBvrhZzAyLb8HyHc4dmK/X7+XKPm3x8/IAIMjH\nE4B9abnYDE3f1pEAeHu44eXu2s/Yp/Jz6OXhXtEBLC230hCDYqYWbTAyjqIzU8FmxbrpVyzxfWq0\n87hgDGVLvkJbT626VpfAYb1Jn7ccgIKNuzH7N8MtLNCpjVtYIGZfLwo27gYgfd5yAofb85bsTaJk\nX3KN8wYM7EbRjkMU/XUQAGt2ARin1pM4odettLjiofLwrDw2/Ayse7YAoAty0cWF9qqhi3nEt6P8\ncDLWxBSwWin4eTnNBvV1amNNTqVs9wF0La9H8R+bMYqKazwvmp5/baXweJRSvYBXgWZAKTAYKAfe\nBnoCVuBurfUypdRY4BLAG4gDvtFa3+84z9XAg4ACftRaT3U8X+A41wXAUUebGcAZwJ1a6/lKqV+B\n27XWmx3H/Abce3pHJgAAIABJREFUprX+0xXfY0RkGEeTUiq2U5JTiYgMIz01o+I5q9XKo/c9y88r\n51JcVMzB/Ud49P7napzrijEj+OHbX1wRq0Jadh4RQZXVmLAgP7buS3RqM+nSwUycPpvPf1lDcWkZ\n7067scZ5Fq/bToeWkbi7ufbHOC07t1o+f7buc+4s2PN9yOe//G7P98BNteTbRoeWzV2ez56xab+G\n/wRpecVE+HtXbIf7e7M1MdOpzaGMfABu+M9CDEMzcVAXzm7TnEMZefh6unH3Z7+SlF1An7gI7hja\nDbPJdZ+zT/XncMveIzz2n684mpHDMxOvOL1VQsDkH4yRXfk7xsjJxNyirXOb6DhUQCi2v9bDoEtP\nWxb3iCDKkiuzlCVn4h4RRHlatnObo5k12tTFM7Y5aE37zx7BLdifjO9+4+hb355S1hN53QDc+l+A\ne8JIMFsoevMhe9vkA1g698a6cQUqIBRzTBymgFCMw3tOKVN1lrBgrI6iAYA1NQPP+PYuvUZTIDev\n/ndXCr2UUpurfF2plHIH/gvcobXuCgwBioHbAK21jgeuBuYopY59HOsGXAnEA1cqpWKUUs2B6cAg\nx/5eSqmRjvbNgKVa605APvA0cB4wCnjS0eZ9YCyAUqot4Flbh1ApNUEptV4ptT6vJKP67lNisVgY\nc+PlXHzu1ZzVaSg7t+9m0p3jnNrcetdNWK02vvvyJ5de+0T8/PsWLjnnTBa9dj9v3ns9D82ah1Hl\nE+jexFRe+e9CHrlxRINnq8g3oDuLXp/Gm/eN5aG359bM98VCHhk3so6zNEDGJvwa/hPYDIPDmfm8\nN+48nh/dnye//YO84jJshmbToXTuHn4mn04cTlJ2AfM31ZyzdrrV9XPYpXUM30y/k8+evJX3v19B\nadnpq8ydEKXwGHkTpd+937g5ToGymPHt3YG9k19h+8gHCRreB7/+8Q1y7fLffqLw6QmUfj8Hj6FX\n2p/7Y5F9yPmel/EYNR7bgZ0yBipOyb+5U1h9+Pi/QDvgqNZ6HYDWOk9rbQX6A584ntsJHAKOfVRb\norXO1VqXAH8BLYBewHKtdbrj+E+BAY72ZcACx+OtwAqtdbnjcUvH818CFyml3IBxwOzavgGt9bta\n655a655+niG1Nalw3bjR/LDsC35Y9gVpqRlERkVU7ItoHk7K0TSn9h3j7d/e4YP26tKP3y2iR6+u\nFfsvu+piBg0dwF0TH6rzun9HWKAfKVm5FdtpWXmEO4a9jvlmxQaG9ekMQNc2Z1BabiU7vwiA1Kxc\n7nr1M56+5XJiwoNPQz7/avlya8m3nmF94mvPl5nLXa98wtMTrzgt+ewZm/Zr+E8Q5udFSm5RxXZq\nbhFhvl5ObcL9vRnYPho3s4moQB9ahPhyODOfcH9v2kUGEh3ki8Vs4twO0exIznJtvlP8OTwmNioM\nb0939iamujRfdUZuJqbAyt9TpoBgdG6VyquHF6aIFnhPfpZmj76HuUU7vMY/7LLhzvCxw4lf9BLx\ni16iLC0b9+aVWdybB1OW4vzvU5aShXtkcJ1tqis7mkH+mr+wZuVjFJeRs3QjzeJjTyl3va9bNfbh\n5bMcBxuUfvseRS/cQcn7z6C8mmGkJZ1SnlqvmZaJJSK0YtsSHoI1zbWFiqZA64b9aor+zZ1CVymt\n8thG/UPu5VpX/HMbx47XWhvHjtVaFwGLgBHAaOydylPy8Qdzuejcq7jo3KtY9NMyRo2+CIBuPeLJ\nzytwGjoGSDmaTut2sQQF2+fZ9B94Fnv3HABgwKB+TJgylgnX3klJcQmu1ik2isMpmSSmZVFutbJg\nzVYGdnceiogM9ueP7fbKy/6kNMrKrQT5NSOvsJjJL37MHaOHcmbbFi7PVpkvo0q+LQzs3qFavgD+\n2L6v9nwvzeGOK4edtnyVGZvua/hP0CkqmMOZ+SRlF1ButbFw6yEGto92anNuhxjWH7B3prILSziU\nkU90kA+dooLILy4jq9D+/8fa/anEVlmg4pJ8p/BzmJiWhdUxLzg5I5uDyek0Dw2scQ1XMg7vwRTS\nHBUUDmYLljMHYN22trJBSRGFD4+h8MnxFD45HtuhXRS/97TLVh+nzl7A1vPuYet595C9YC2hlycA\n4NO9Lba8IqehY4DytGxs+cX4dLd/QA69PIHshWurn9ZJzvLNeHdogcnLHcwm/Pp2pHh3Yp3H1Kfe\n1w1QIZEVj80de2KkO+Y7unmAu32+q7ltN7Rhq7mwxwVKt+3C7YwoLFHhYLHgc34ChcvWuPw6ovEp\n3VS7q6dIKVWgtfap9pw7sBO4Umu9Tinli334+Hagk9b6Jsdw7iLslcKrgZ5a68mO438AXgR2AWuA\nHkA2sBB4XWv9XdXrKqUeBwq01i9Wz6SU6gF8D6zUWl9Z3/cTG3LmSf1DPTF9GgMG9aOkuIT7b3+c\nrZv/AuCHZV9w0blXAXDN2MsZO+FqrOVWkhKPct/kx8jJzmXp2u9w93Anx1Gl2LxhKw/f+0yd1/vr\npwdPJh4rN+9ixqf226mMHNCDm0ck8OZXi+nUKoqE7h3Yl5TGk+9/S1FJGUrBnVcNo198G979dhnv\nf/8rLSIqP+G/ff9Ygv1P4FYg6sQ/A63cvIsZn/yAYWhGDuzBzSPO5c15i+jUKpqEHh3Yl5TKk+99\nQ1FpGQrFnVcPd+Rbyvvfr6BFlYU9b0+98cTyneSwT2O8hubYHieVsS73PfY86zZtIScnj+CgAG69\n6Touu3jYKZ3TuvSTk2q/cncSL/y0AcPQjOgex80JnXlryZ90bB5MQodotNa8tGAjq/ckY1KK8QM7\nM7xLSwB+33uUmQs2orWmQ1Qwj17SGzdL/fP2VKsTvzXM3/05/P63TXzw/QrczGaUUtwyahCDenY8\n4euWfzr7hNtWZe7QA89RN4PJRPkfiylbNBf388dgO7wH23bnjo7X5Gcp/e6Dv9Up3D7Xrd42LZ+9\nmYCEMzEct6Q5dluZ+EUvsfW8ewBo1iWu4pY0Ocs2cvCh9wAIHN6Hlk+Pxy3YD2teIUXbD7DzmqcA\nCLl0AM2nXAoacpZu4PDTH9d6/U6jT3y4vr7XzWPUzZjbdgPDii4qoPSrdzBSDqOCwvCe+ARaa3RO\nJiVfvIbOTq//gkDa4rITzgfgfU4vgqdORJlN5H3zCznvfk7gbddTun03RcvX4NG5LRGvPIrJzxdd\nVoYtI5sjIycA0HzOS7i3ikZ5e2Hk5JH26MsUr95Q7zXjti1s0El+h7oPadAOUYuNi5vcJMZ/c6ew\n+i1pFmitpzkWmrwOeGHvEA7BvrjkeAtNanQKtdbL61pociKdQsf2TuyLT44NNx/XyXYKG9rJdgob\nxUl0ChvFP2AukCs7hafDyXYKG8PJdAoby9/tFDaUE+kUNraT6RQ2hpPtFDYG6RQ2vH/tkkOtda0f\n2R3zCc+qZVeNpZla69lUme+ntb6oyuPPgc9rOcanyuPHj7fPsVjFBLh2aa8QQgghTpqsPpY5hY1C\nKXU98AfwkGOuoRBCCCFEo/rXVgqbMq31R8BHjZ1DCCGEEHb/0tl0J0UqhUIIIYQQQiqFQgghhBAy\np1AqhUIIIYQQAqkUCiGEEEKgtVQKpVIohBBCCCGkUyiEEEIIIWT4WAghhBDin/BHpU47qRQKIYQQ\nQgipFAohhBBCGLLQRCqFQgghhBBCKoVCCCGEEHJLGqRSKIQQQgghkErhP4a/xbuxI9RJ52U2doR/\nPtX0P6NZl37S2BHqZBl0bWNHqFf51683doR6mXy9GjtCnfybFTR2hHqVHyhs7Ah1sri7NXaEJkf+\nzJ1UCoUQQgghBFIpFEIIIYRA68ZO0PikUiiEEEIIIaRSKIQQQgghcwqlUiiEEEIIIZBKoRBCCCGE\n/EUTpFIohBBCCCGQSqEQQgghhPxFE6RSKIQQQgghkE6hEEIIIYRAho+FEEIIIeTm1UilUAghhBBC\nIJVCIYQQQgi5JQ1SKRRCCCGEEEilUAghhBBCbkmDVAqFEEIIIQRSKfzXuv/pOzl7cF9Kikt47I5n\n2Ll1t9N+72befPDdWxXbYZGh/PTVL7z46KsVzw2+MIEX33+GMcNu4q8/d7os26rtB5kxbzmGYTDq\n7M6MG9rbaf8L85azbnciACXl5WTlF/Pbi7cC0H3yK7RuHgJAZJAvr04c4bJc/7yMB5jx5TIMrRnV\nrzPjhvWplnEZ63YfsWcss5KVX8RvL022Z7xtJq2jHBkDfXl10ijX59uTzIwf19vz9WjNuAGdarRZ\nuPUQ7yzbAijaRgTw/Oj+ABzNKeSJb9eQmluEUvD6decSFejj8ox1efjZmfy6ai1BgQF8+8msBr32\nMasOpPPCsr8wtGZk5xjG9Ylz2j9/WyIv/7qTMB8PAK7s1pJLu8QA8MqKnaw8kIbWmj4tQrj/3I4o\n5fpKiLl1V9wvvBGUCeuGJZSv/K72dh374Hn1PRS/PQ0jeT8qIBSv21/GyEgGwDiyh7Lv/+OSTM3O\n6UH4w7egzCZy5i4k890vnfYrdwvNZ9yLZ+fW2HLySbrjOcqT0vC7JIHg8ZdVtPNo14oDI2+ndMd+\nYt5/EktoEMpipmj9dlIefwsMwyV53c7sjffNU8BkonTRj5R89ZnTfs9LRuMx9EK0zYbOzaHw9ekY\n6akAmELCaDb5fkwhYYAm/8mpGGkpLsnllKFfL4LuvRXMJgq++Zm82V847ffoHk/gPbfi3iaWjAee\npmjJSqf9qpk3zee9T9HyVWRPf8Pl+VxBVh9Lp9CJUsoGbK3y1Eit9cFTPOdEoEhr/ZFSajbwg9Z6\n3qmcsz79B/fljNhoRvS9kvjunXhw+r1cf8EEpzZFhUVcNWRsxfanC99n6U/LK7a9m3lzzfgr2LJh\nu0uz2QyD5+YuZdaUSwkP8GXMjM8YGB9HXGRwRZv7Lk+oePz58k3sPJJese3hZmHug9e6NNM/NuN/\nlzDr9svtGad/ysAuratlPLcy47KN7ExMq8zobmHug9ef3nzfr2PW2EGE+3kzZtYCBraPJi7Mv6LN\nocw8Pvh1O7NvHoqflwdZBSUV+x7+ajXjB3amb+tIikrLT0tnpj4jLziPay67hAeferHBrw1gMzTP\nL9nO25f3JtzXkzGfrmJg6zDign2d2g1rF8m0wc4d7s1J2WxOzmbu9ecAcOMXv7MhMYueMcG4lFK4\nX3wTJbOfRudl4jnxOaw716PTk5zbuXvi1vd8bEecP5zqrBRK3rrftZlMJiIev5XDYx+iPCWDVl+9\nQv7SNZTtPVLRJODyYdjyCtg3ZDx+Fw4g7L5xJN35PHnzl5M3fzkAHm1bEv32I5Tu2A9A0h3PYRQU\nAxD1xkP4nd+fvB9/dUle71vuJP+xezAy0/F78R3K1q7COHKooon1wB5K7p4AZaV4DB+B19iJFL7w\nBADN7nyQ4i8/wfrnevD0cllHtXrGoKlTSLt1KtbUdCI/eZPiFaspP3C4MuPRNDIfn4HfdaNrPUXA\npLGUbtxa6z5RO6XUcOBVwAy8p7V+vtp+D+AjoAeQCVx5qn0WGT52Vqy17lbl6+CpnlBrPUtr/ZEL\nsp2wgcP688PcBQBs3bgdXz9fQsKO/2ZwRmwMQSGBbFzzZ8Vzt069mQ/f/ISy0lKXZtt2MIWY0ACi\nQwJws5gZ1qMdy7fsO277n9fvYnjPdi7NUJ9/bMY/9x63/c/rdzK8Z/uGy5eYSUywL9FBvvZ88S1Y\nvuOIU5uv1+/lyj5t8fOyV7mCfDwB2JeWi83Q9G0dCYC3hxte7g3/+bVnt3j8/Xzrb3iabEvJISbA\nm+gAb9zMJoa1i2T53tQTOlYpKLPaKLcZlNkMrIZBkLeHyzOaoltjZKags9PAZsO2dTWWDr1qtHMf\nfKW9gmgtd3mG6ry6tKXsUDLlR1Kg3Erej7/iO7ivUxufIWeR+/ViAPIW/IZ33641zuN30UDyflhR\nsX2sQ4jFjHKzuKyqZGnTASMlCSP1KFitlK1cinvv/k5trFs3QZn9d7F111+YgkMBMMW0ALPZ3iEE\nKCmuaOdK7p3bYU1Mxppkz1i4cDleCWc7tbEdTaV8z4FaO6XuHdpgDg6keM16l2dzJUOrBv2qi1LK\nDLwJnA90BK5WSnWs1uwmIFtr3Rp4GZh+qq+BdArroZRqqZRaqZTa6Pjq53g+QSm1Qin1nVJqv1Lq\neaXUGKXUWqXUVqVUnKPd40qpe6udc5BS6tsq2+cppb5xVeawyFBSkiurQqlH0wiLDD1u++Ejh/DL\n/CUV2+3j2xLRPIzfFv/uqkgV0nIKiAisfKMND/AhLaeg1rbJmXkkZ+bSu11MxXNlVivXTP+U6174\nnKV1dIL+7zIG+pKWW1fGPHq3O6MyY7mVa57/hOtmfMbSzXtcny+vmAh/78p8/t6k5Rc7tTmUkc+h\nzDxu+M9CrntnAav2JDuez8PX0427P/uVK9/8iZkLNmI7HdWPJi6toIRwX8+K7XBfL9ILar7hL9mT\nwug5K7l3/kZS8uyvcdfmgfSMCea8d5YwdNYS+rUMJTbY9cPvyi8InZtZsa1zM1G+QU5tTJGtUP4h\n2HZvqnl8YBiet07Hc9zjmFq45kOLJSIY69GMiu3ylAws4c4fii3hwZSnOKr7NgOjoAhzoJ9TG78L\nBzh1CgFiPniKtms+wygsJn/Bby7Jq4JDsGVU/r42MtMxBYcct73HeRdQvuEPAMzNY9CFBfhMewq/\nl9/Da+xEMLn+bd0SGoI1pTKjLS0dcx2FBidKEXjXRLJffsfluf7legN7tdb7tdZlwBdA9blII4A5\njsfzgMHqFIdVZPjYmZdSarPj8QGt9SggDThPa12ilGoDfA70dLTpCnQAsoD92Mu7vZVSdwBTgDuP\nc51lwFtKqVCtdTpwI/BB9UZKqQnABIBo31hCvCNc8k1WN2zkYB6e/NSxa3LPE1N49I5nTsu1TsbC\nDbsYcmZbzFV+yf301HjCA3xIzMjh5le/ok3zEGJCAyRjnRl3MuTMNs4Zn76Z8ABfe8ZXvqRNVGiD\nZ7QZBocz83lv3Hmk5RUx7r1FfDn5QmyGZtOhdL649Xwi/Jsxde5vzN+0n1E9Wjdovn+CAXFhDG8f\nibvFzLw/D/Pogi28O7oPh7MLOZBVwMIJgwCYOG8tGxOz6B4dVM8ZXUwp3M+/ntKv36qxS+dnU/Ti\nrVBcgKl5KzyuuY/i1++B0uJaTtSwPLu2wygupXTPIafnj4x7BOXuRvOZ99Osb1cKV9Xs6J5O7gPP\nw9K6HXkP3mF/wmzG0rELeXeNx0hPw+e+x3AfNJyyxT81aK66+I6+hOJVf2BLy6i/cSNrYquPo4Cq\nwyuJQJ/jtdFaW5VSuUAw8LdfbKkUOqs6fHxs5r0b8B+l1FbgS+xl3GPWaa2Paq1LgX3AL47ntwIt\nj3cRrbUGPgauVUoFAH2Bn2tp967WuqfWumd9HcLRN17KF4tn88Xi2WSkZhLRPKxiX3hkGGlH02s9\nrm3H1pjNZnZs2QVAMx9v4trF8t7Xb/DjunnEd+/EK3Om07Graz7FhwX4kJKdX7GdmlNAWEDtFYwF\nG2oOy4Y72kaHBNCzTTQ7j6TVduj/X8bsfML8j5OxlqHj8ADfyoxtY1yeMczPi5Tcosp8uUWE+Xo5\nZ/D3ZmD7aNzMJqICfWgR4svhzHzC/b1pFxlIdJAvFrOJcztEsyM5y6X5/gnCfDxJza+cZ5maX0yo\nj/MQcICXO+4WMwCj4mPYkZoLwLK9qcRHBuDtbsHb3cLZrULZkpzt8ow6LwvlX1kxUv7B6Pwq/1bu\nnpjCYvAc9xhed7+BKboNHmPux9Q8FmxWKLZXt43kA+isVEzBkaecyZqSiSWystLmFhGCNTXTuU1q\nJm4RjtETswmTjze27LyK/fYq4fJaz6/LyilY/Ds+g8865awAOjMDc0jl72tTcChGZs33dEvXHnhd\ncR35zzxYMQxvZKRjO7DXPvRs2Cj74zcscW1dkqsqa3oGlojKjOawUGxpmXUcUckjviO+o0cS9cMn\nBN55Cz4XnkfAlPEuz/hPpJSaoJRaX+VrQv1HnV7SKazfXUAq9qpgT8C9yr6qYzlGlW2D+quwHwLX\nAlcDX2qtracScu6HX3PVkLFcNWQsyxb8ykWjhwMQ370TBfkFZBznf+Dho4aw4NvFFdsF+YUM6nQh\nF/a6nAt7Xc7Wjdu584apLlt93KlFBIfTsknKyKXcamPhhl0MjI+t0e5AShZ5RaV0bVX5JpFXVEJZ\nuf1lyi4oZvP+ZGIjXTxx/h+VMcc5Y5e4Gu0OpGTaM8Y2P07GIjbvS3J5xk5RwRzOzCcpu8Ceb+sh\nBraPdmpzbocY1h+wz5HLLizhUEY+0UE+dIoKIr+4jKxCe4do7f5UYqssUPl/0SnCn8M5hSTlFlFu\nM1i46ygJceFObdKrLM5ZsS+VVo4h4ghfTzYkZmE1DMptBhsTsyr2uZKRtA9TcCQqIBTMZszx/bDu\nrDJvrLSYoufHUzxzMsUzJ2Mk7qH00xkYyfvB29c++RH7MLIKjsTIPrE5k3Up3rob95bNcYsOBzcL\nfhcOIH/JGqc2BUv+wP/SIQD4De9P0ZotlTuVwu/8c5wWkShvTyyhgfYNswmfhN6U7XeeI/t3Wffs\nxBQZjSksAiwW3M8ZRPnaVU5tzK3a0GzSPeQ/8wA6N6fiedvenahmPig/+/8fbl26Yzty0CW5qirb\nvgtLTBSW5vaMzYYlULxi9Qkdm/HwcyRdeA1JF11L9ivvUPDjInJef8/lGV2hoecUVi38OL7erRIn\nCYipsh3teI7a2iilLIA/9gUnf5sMH9fPH0jUWhtKqRuwrwI6ZVrrZKVUMvAwMMQV5zzmt8W/039w\nX+avmUtJcQmP3/lsxb4vFs92WnV83iWDmDLm3lrOcnpYzCamjR7EpDe/xjA0I/p2onXzEN76YTUd\nzwgnwdGxWbBhF8N7tHVadbo/JYunP1+MSSkMrRk3tJfTatv/u4xXDmLSG19hGAYj+na2Z/x+FR1b\nhJPQxT7UusCxCMYp49HMahl7uzyjxWxi2kU9mTRnqf017B5H6/AA3lryJx2bB5PQIZp+rSP5fe9R\nLn3te0xKcdewMwlwLIa4a3h3bvlwCVprOkQFc1kjDB3f99jzrNu0hZycPAaPvJZbb7qOyy4e1mDX\nt5hMTB3UiVu/WothwIjO0cSF+PLWqt10DPcnoXU4n286yIp9aZhNCn9PN54Y1gWAIW0jWXckk9Fz\nVgKKfq1CGFitQ+kShkHZDx/gecNDYDJh3bgMnZaI26DRGMn7sO3ccNxDzS074j54NNpmA21QNv8/\nUFx46plsBilPvE3MB0/bb0kz7xfK9h4m5I5rKdm6h4Klf5Dz5UKav3gvcYvfs9+S5q7K+fnevTpj\nTcmwL1RxMHl5Ej3rMZS7G5gURWu2kP25i4ZoDRtF776C7+Mv2m9Js+QnbEcO4nXNOKx7d1K+djXe\nN05EeXnhc799xbGRkUbBMw+CYVD04dv4PvUyoLDt20XpLz+4JldVNoOs6a8T9ubzYDJRMH8B5fsP\n4T/xBsr+2k3xr7/j3rEdoS89jsnPB68BffGfeANHr5CK4ClYB7RRSrXC3vm7CrimWpv5wA3A78Dl\nwFLHSOTfpk7x+H8VpVSB1tqn2nNtgK8ADSyA/7F33+FRVG0fx79nd7MpJIH0hE7o0jtYACmCiIqo\n6CuogIiCBQvYC4oFsMADKvbHrg9iw0YxVKnSBESkEyC9kZ4tc94/dkmyJBCETUHvj1cud2bOzP4y\n2WXO3nNmlru01oFKqb7AZK31UHe7Fe7pTaWXKaWmArla65dPviWNUupG4D6tdYXnITpFX1Sj/1Br\nP7m5uiOc/9R5ULhP9/79z7zJ0q9ybwXkDfav51Z3hArpIycXJGqW+C/Kv6iqJom6wAsd3EqUc8Sn\nuiNUqNGWX6p0kN/6usOr9DjbM+Hr0/5+SqkhwGxcxaj3tdbPK6WeBTZprRcqpfxwDUXrhOvahhu1\n1gfOJZNUCks5uUPonrcXaF9q1sPu+SuAFaXa9S31uHiZ1npqqfmjT9r8xYB37tYqhBBCiH8MrfVP\nwE8nzXuq1ONC4HpvPqd0CquJUmozkAc8WN1ZhBBCCCGkU1hNtNZdqjuDEEIIIVwquqH0v8F5MIhJ\nCCGEEEJUNqkUCiGEEOJfr4bdvLpaSKVQCCGEEEJIpVAIIYQQ4t/3DetlSaVQCCGEEEJIpVAIIYQQ\nQiNjCqVSKIQQQgghpFIohBBCCGHU6C+TrRpSKRRCCCGEEFIpFEIIIYQwZEyhVAqFEEIIIYRUCoUQ\nQggh5OpjpFN43ig07NUd4bSUb63qjlAhrZ3VHeG0lDJXd4SKNWlT3QlOy/713OqOUCGf4fdUd4QK\nFU69u7ojnJY2av7B2xR4HryfhTiJdAqFEEII8a8n32giYwqFEEIIIQTSKRRCCCGEEMjpYyGEEEII\nudAEqRQKIYQQQgikUiiEEEIIIReaIJVCIYQQQgiBVAqFEEIIIaRSiFQKhRBCCCEEUikUQgghhJCr\nj5FKoRBCCCGEQCqFQgghhBCcB1+pXemkUiiEEEIIIaRSKIQQQghhyJhCqRQKIYQQQgipFP5jPfb8\ng/QecCGFBYU8ds+z7Nrxl8fygFoBfPL928XT0TGRfL/gZ158chYx9aJ4ce7TBNUOwmw28eq011kV\nt9ar+dbs3M+MzxdjGJprLunIbUMu8lj+0hdL+O2vwwAU2OxkZufx69wpAMz6Mo5VO/aiDU3PC2J5\n+P8uQynvfsJbs3M/M7/4BcMwuOaSjoy9vJdnvv/9wm+7XfkKbXYycvL5dc4DrnwLlrF6+3601vS8\noDEP3TjQ6/lOZDzrfbggjtXb9wEwfujFDO7exvv5ft/DjI9/cO3Dvt247ao+HssT07J44q0vyckv\nxDA0k24YxCUdW7Jj/xGmvfctABrNndf0p3837+cDWHMwlZeW78LQmmFtGzC2R1OP5Qt3HmXWqt1E\nBvoCcEM8H1LfAAAgAElEQVTHxgxv3wCA2St3s/pgClprejQK56FLL6iUv/PpPPHCq6xas5HQkDp8\n+8mbVfrcJ5hbd8HvujvAZMK+djG2pV96LPe5eAg+vYeC4UQXFVL0+RyMpCNgMuM3chKmBs3AZMKx\ncRm2JfO9kqlW7y5EPzkeZTaR+b8lpL/lmUlZLdR9+UH82zbDmZnD0XunYz+Wgk+9SJoueRPbgWMA\n5G/bTdKTrwMQfGUfwieMAK1xpGRw7IGXcWZmeyWvpX03/G++G0wmbCt+ouj7zz2WW/tfie/Aq8Ew\n0IUF5L/3Ksaxw6jAYAImPY0lthW2VYsp+HCOV/KUx+/CboROnghmE7nf/Ez2B194LPft3I6QBydi\nbR5L2qPPkR+32mO5qhVA3QXvkb9iDZkzXqu0nOdCV3eAGkA6haUopXK11oGlpkcDXbXWd5/FtvoC\nk7XWQ92PbVrrte5lHwA/aK0XeCP3yXr3v5BGsQ0Y3ONaOnRpy1MzH+bGy8d6tMnPy2d4v1HF0wuW\nfsjSH1cAcOf9Y1m0MI4vPviKpi2a8NZnsxjQdZjX8jkNgxc+/Zm3HhhJVEgwNz33Hn07tqBp3Yji\nNlNuvKz48Wdxv7E7PgmAbfuOsG3fERZMHQ/A6Okfsumvw3Rr1dir+V78bAlv3n8jUSHBjHz+A/p0\naE7TuuEl+W4YUPz487hN7D6S7M53lG37jvLl1NsAGDPjYzbtiadby0Zey3ci49nuw1Xb97L7cBLz\nn74dm8PBuJc+5uJ2zQj09/Vuvg8X8tYjY4kKDeamp96gb5dWNK0XVdzmne+WM6hHO0YM6Mn+Y8nc\n/dKH/Dz7IZrVj+KzaROxmM2kZmZz/eNz6dO5FRaz2Wv5XBk10+P+YN513YkK8mPkp2vo0yySpmFB\nHu0GtYzhkf6endJtxzLZlpDJ/FsuAWDMF+vYfDSDrg3CvJqxIsOGDOSma6/isWkvV+nzFlMm/EZM\nJP+1x9FZaQRMmY1jx3pXp8/Nvmk59l9/AsDcrge+w2+n4I2nsHS+BCw+5L8wEXx8qfXEm9g3rUBn\npJxbJpOJmKkTOHzrE9iT0oj9ZhY5ceux7SvJVOf6QTiP57Kv3+0ED+1N5MNjOHbvDABs8YkcuPIe\nz22aTUQ/OZ79gybgzMwm8uExhN48lNQ5n51bVgBlwn/0JPJenIKRkUrQtHnYt6zFOHa4uIltbRy2\nuO8BsHS+EP+RE8ib+QjabqPwy/9ibtAEc/0m557lVEwmQh++h5SJD+NITiXmk9cpWLkW+8H44iaO\nxBTSp84k+OYR5W6izoTRFG3ZUXkZhVfI6eOq0Re4sKqerN/lvfluvusf4d837yS4dhARkac+WDWO\nbUhoeCib1m8FXNWZwKBaAAQFB5KSnObVfDsPJtAgMpT6ESH4WMwM7t6GFdv2nLL9oo1/cLm7kqWU\nosjuwO5wYrM7cTgNwoIDT7nuWeeLCCnON6hb69Pm+/m3XQzufoE7H9jszpPy1fJqvuKMZ7kPDySk\n0blFQyxmEwG+VprXj2TNzv3ezbf/KA2iwqgfGYqPxcLgnu1ZsfnPMu1yC4pc/88vIiIkGAB/X2tx\nB7DI7qi0UT47k7JoUCeA+nUC8DGbGNQyhhX7ks9oXaXA5nBidxrYnAYOwyA0wHud6jPVtWM7agcH\nVdywkpgat8BIS0CnJ4HTgWPLKiztPavqFBYUP1RWv5JyjNauaZMJrFZwOtCF+eecyb9DC2yHE7Af\nSQK7g+M/rCJoQE+PNkEDenD86zgAsn/+lVq9Opx+o0oBCpP7g5MpMAB7SsY5ZwUwN22FkXwMIzUR\nnA5s65fh0+Wkw0VByX5Rvn4U78SiQpx7doLd5pUsp2Jt2xLH0QQcxxLB4SBv8Qr8+3qemXAmJmPf\nexCMst8LYm3dHHNYCAXrN1VqznNlVPFPTSSVwjOklIoA3gQaumfdp7Veo5TqDvwH8AMKgDFa679K\nrdcYuBNwKqVGASc+gvZWSj0ARAMPebNqGBUdSVJCycEtKSGFyJhIUlPSy20/5JqB/Pzd0uLp12e+\nw7vz5zLytuvxD/Bn7HV/u1B6WimZOUS7OwAAkSFB7DiQUG7bhPQsjqVl0b11YwA6NK1Pt1aNGfDg\nbDRw46VdiS1VwfNKvqxcokNL8kWFBLHj4KnyHSchLYvurRqVyteQAZPnAnDDpV2IjfFuPji3fdii\nQSRvLVzNLZf1pNBm57fdh4mNiSh33bPPd5zo0Nol+UJrs2P/EY82E4b3584Z/+XzJesoKLLx9qO3\nFS/bvu8IT7/zFYlpWTx/5/VerxICpOQWEhXkVzwdFeTPzsSsMu3i9iax5WgGDUNqMblva6KD/elQ\nN4SuDcIY+FYcaLihUyNiw7z74eR8YKodhpFZ8qHRyEzD3LhlmXY+vYdivfQasFjIn/MoAI6tv2Jp\n35Naz3+KsvpS9PXbkJ97zpksUWHYE0syOZLS8O/gmckSHYY9MdU14TQwcvIxu99P1vrRNFk4ByM3\nn9RXPyZ/0x/gcJL41OvE/vQGRkEhtkMJJD0975yzAphCwzHSS6qjRkYalqaty7SzDrwa38uvR1ks\n5D7/oFee+0xZIsJxJJVkdKakYm3b6sxWVoqQ++8k7YkX8evRuZISCm+RSqEnf6XUthM/wLOllv0H\nmKW17gZcC7zrnr8buERr3Ql4Cnih9Aa11odwdSZnaa07aq1PDLSIAS4GhgLTywujlBqvlNqklNqU\nVXCOp1RO4/JhA/nx6yXF00OGD+Kb//3ApR2v5M6b7mfG61OrfKzUCYs27mJAl1aYTa6XanxyBgcT\n01jy0iSWvjSJjbsPsWVPfAVbqTyLN+5iQOdS+VIyOJCYzpKZd7Nk5t38tvsQW/YcqWArlevkfXhh\nm6Zc3K4Zt07/gEfe/oYOTethNlX93/fnddu5qndnls59hNenjObxefMx3FWG9s0a8M2M+/js2Ym8\n9/1Kimz2Ks8H0LtpJD+O68v8Wy+hZ6Nwnlq0HYD4zDwOZuSyeHw/Ft/Rj43x6Ww56p3K0T+RfdUP\n5D1zG0Xf/RffwTcCuDqPhkHe46PIe3oM1n7DUWHR1ZrTkZrB3ktGc/Cqe0l+4V3qzZ6CKdAfLGZC\nRw7hwFX3sLfXzRTtPkj4hOurNJtt6XfkPDCKgi/exm/YqIpXqCGCRlxFwZoNOFO8e8ZJVA7pFHoq\ncHfcOmqtO+Lq5J0wAHjN3VlcCAQrpQKB2sCXSqmdwCzgTEfEf6u1NrTWu4Co8hpord/WWnfVWnet\n4x952o3dNPY6vl72CV8v+4TU5DSi65ZsMrpuJCmJ5XcqW7ZpjsViYdf23cXzrrvpKhZ99wsA2zbt\nwNfPl5CwOmf4a1UsMiSIpFIDtFMyc4gKKf8UWOnTngDLtv5Fu9h6BPhZCfCzclG7pvy+/6jXsgFE\n1gkkKaMkX3JmDpF1TpHvtz+LTx278u2hfWzdknxtm/K7e9C6VzOewz4EuH3oxcx/+nbeenAkWkOj\nKO+OhYsMqU1SxvGSfBnHiSpV2QT4ZuUmBvVoB0CH5g0psjvIzPE8fRhbL5IAPyv7jp7Zad2/lTHQ\nj+ScwuLp5JwCIgI9TwHX8bditbiqlNe0a8Cfya7fafm+ZNrF1CHAaiHAauGiJhFsT8j0esaazjie\njimkpBJuCglHHy//jASAY/PK4tPLlq59ceza7LoAJfc4zgO7MDdsfs6ZHMnp+JSqzluiw7Ene2Zy\nJKXjc6I6bjZhCgrAmZmNtjlwZuUAULhzH7bDiVib1MOvdSwAdve43OyfVuPfuWw172wYGWmYwkr+\nfTeFhmNkpp6yvX3dcny6XnTK5ZXBkZqGJbokozkyAucpzjydzLfdBQSNGEa9Hz4h5L47CLxiIHXu\nGVdZUc+JoVSV/tRE0ik8cyagZ6lOYz2tdS4wDViutW4LXInrNPKZKCr1+JxfHZ+9v4Dh/UYxvN8o\n4n5eydUjhgDQoUtbcrJzT3nq+IprLuPHbxZ7zEs4lkTPS7oBENu8Mb6+VjLSvHfAa9O4LvHJGRxN\nzcTucLJo4x/06dCiTLuDiWnk5BfSoWn94nnRocFs3nMYh9PA7nCy+a94mnj59GybxnWJT8nkWGoW\ndoeTxb/9SZ8OZQ9WBxPTyc4vpEPTesXzYkKD2bznSEm+PfHExnj/4oNz2YdOwyAr19X52nMkmT1H\nU+jVJta7+WLrEZ+UxtGUDOwOB4vWb6fPSQfRmLA6bPjDNZbxwLEUbHYHocG1OJqSgcPpBCAhLZND\nCanUjQjxaj6ANtG1ic/K49jxfOxOg8V/JdK3qefns9Tckk7jyv3JNHGfIo4O8mPz0QwchoHdabDl\naEbxsn8T4/AeTBF1UWFRYLZg6dwbx/b1Hm1URN3ix+Y23TBSXcMcdEYKlpbusXxWX0yNW2Ekn3tV\nvWD7HqyN6+FTPwp8LNQe2pvcuA0ebXLiNlB7eH8Agi+/mLx1rgqwOTTYNcYR8GkQjbVxXWzxSTiS\n07E2a+haDtS6uJPHhSvnwnlgN6boepgiosFswdqzH/bN6zzamKJK/o2xdOyJM8n7HzRPx/bHX1ga\n1MNSNxosFmoN6kvByjO7I0XaEy9y7IqbODZ0FJmz3yL3x6VkzX234hVFtZAxhWduCa7xgC8BKKU6\naq234aoUnniHjj7FujlA8CmWed3KX9bQe8CFLN74NYX5hTw2aVrxsq+XfeJx1fHgqwdwx//d57H+\nzKf/w7OvPsatd96E1ppH730Wb7KYTTx602AmzP4cwzAYdlFHmtWL4PVvV9CmcV36dnR1bhZt/INB\n3dp4nLoe2LU1G3cf4rqn30IpxYVtmxa392a+R24ayITZX2BozdUXtadZvQje+G4VFzSKoW9HVwdx\n0W+7GNyttUe+AV1asXH3Ya6f+i5KwYVtYsvtUHoj49nuQ4fTYMyMjwCo5e/LC+OuxmL27udDi9nM\no7dexYSZ/8UwNMP6dKFZ/SheX7CUNk3q07dLax4ceTnPvvsNnyxag0Lx7B3XoZRi657DvP/9SnzM\nZpRSPDb6akKCvH+xjsVk4uF+bZj41UYMA65uW5+m4UG8sWYPF0TVpm+zKD7feoiV+1MwmxS1/Xx4\nZlB7AAa0iOG3I+mM+HA1oLiwSTh9mpZb8K9UU56ezm9bt5OVlU3/YaOYeNvNXHvloKoLYBgUzp9H\nwF3PgTJhX78EIyke6xWjcMbvxbljA9beV2Ju1dF1IUl+LoUfvQKAbdUP+I26n4DH5wEK+/qlGAmH\nzj2T0yDpmXk0/GAaymQia8FSivbGE3HfKAp27CU3bgNZ85dQ75XJNFv2Ds6sHI5OmglAQLe2RNw3\nChxOtGGQ+OTrGMdzMYC0OZ/R+POZaIcD+7EUEh6ade5ZAQyDgg/mUuvhGWAyY1v5M8axQ/hdOxrH\nwT04tqzF97JhWNp2AacDIy+H/DdnFK8ePPsz8A9AWXzw6XoRudMf8rhy2SucBhkz5hL5+nQwmchd\nuAj7gcPUvvNWbLv2ULBqHdYLWhLxylRMwYH49+5F7TtvJfH6mlkRPBW5JQ0orWU3nHC6W9IopcKB\n14HWuDrTq7TWdyqlegEfAnnAj8AorXXjk25J0wJYgOuCo3uA2yh1S5qTn7c8rSO71+g/1Nav7qm4\nUTXT2lndEU5LKe9fTOF1fgHVneC0jK2/VneECvkMr/nvlcKp3r24zNuO/FwzT72VVrdnQcWNqtHx\nP2v+icJGW36p0j/0lzEjq/Q4e33ipzXuhSyVwlJO7phprT8APnA/TgNuKGeddUDpUtUT7vkrgBXu\nx3uA9qXaeNzVs6IOoRBCCCEqV029TUxVqvkfFYQQQgghRKWTSqEQQggh/vWMGncyt+pJpVAIIYQQ\nQkilUAghhBDCqLQv1Tx/SKVQCCGEEEJIpVAIIYQQokbf962KSKVQCCGEEEJIpVAIIYQQQq4+lkqh\nEEIIIYRAKoVCCCGEEPKNJkilUAghhBBCIJ1CIYQQQgiBnD4WQgghhJBb0iCVQiGEEEIIgVQKzxtt\n/KOrO8JpGX9uqe4IFTNq9jBibar5n9Gcu/ZVd4TTMgX5V3eEChVOvbu6I1TIb+pr1R3htOrlja/u\nCBWytGhQ3RFOK39janVHqHHkljRSKRRCCCGEEEilUAghhBBCbkmDVAqFEEIIIQRSKRRCCCGEkEoh\nUikUQgghhBBIpVAIIYQQAi1XH0ulUAghhBBCSKVQCCGEEELGFCKVQiGEEEIIgVQKhRBCCCGkUohU\nCoUQQgghBFIpFEIIIYRAV3eAGkAqhUIIIYQQQjqFQgghhBBCTh8LIYQQQmDIzaulUiiEEEIIIaRS\n+I81durtdLq0K7aCIl6bPJuDOw+UafPMF89TJzIEW6ENgGk3P012+nEAel1xESPu/z/QcOjPg/zn\n3le8mm/NwVReWr4LQ2uGtW3A2B5NPZYv3HmUWat2ExnoC8ANHRszvH0DAGav3M3qgylorenRKJyH\nLr0Apbz7EW/NoVReWvEnhgHD2tZnbPdYz3x/HGXW6r+IDPRz5evQkOHt3PlW/cXqg6loND0ahvFQ\n39Zezwc1fx+WZm7VGb/ht4MyYV+/FFvcgnLbWdpfiP/YR8l75X6MI/sqLU9xrmYdsF4xBpQJx+Y4\n7Ku/K7/dBT3w+78HKZj3CEbCAVSdCPzvnYWRlgCAcWQvtu/f8X6+1l3wu+4OMJmwr12MbemXHst9\nLh6CT++hYDjRRYUUfT4HI+kImMz4jZyEqUEzMJlwbFyGbcl8r+eryBMvvMqqNRsJDanDt5+8WeXP\nf4KlbTf8bpro2o+rfqbopy88llv7DsXa/2rXfiwspODDVzES4jE3aYn/6PvdrRSF332EY8uaSs1q\njm2HdcBI199t20rs63/0/F3aXYy13w0YOZkAODbH4fh9ZaVkqXVJF6KeuANlNpE1fzHpb3u+/pTV\nQt2Zk/Fr2wxnVg7HJr2I/VgKwVf1JWzctcXtfFs24eCweyn68wAR999C7Wv6Yw4O5K+O1578lNVK\nbknzL+gUKqWcwI5Ss4ZprQ95+TlGA1211nd7c7tnq9OlXYhpUpd7+txB804tGf/cBB4dNqXctnMm\nvcr+HZ4H3+jGMQy/63qeGP4wedl5BIfV9mo+p6GZHvcH867rTlSQHyM/XUOfZpE0DQvyaDeoZQyP\n9G/jMW/bsUy2JWQy/5ZLABjzxTo2H82ga4Mw7+Zbtot5w7u58n22jj5NI2kaFuiZr0UMj/S7wDNf\ngjvfzRe58s1f7/V8xRlr8D70oEz4XXcn+fOeRGelE/DAqzh2bsBIPuLZztcfnz5X4jy0u3JylMml\nsF55G4UfPIfOTsfvzhdx7N6ETj3m2c7qh0+vy3Ee2eMxW2ckUfjGQ5WYz4TfiInkv/Y4OiuNgCmz\ncexY7+r0udk3Lcf+608AmNv1wHf47RS88RSWzpeAxYf8FyaCjy+1nngT+6YV6IyUystbjmFDBnLT\ntVfx2LSXq/R5PSgTfjffQ97LD6MzUgl86nXs29ZiJMQXN7GtX4ZtxQ8AWDr2wu/GCeS/+ijOY4fI\nfWYiGAaqdiiBz75FzrZ1YFRS90EprJfdQuEXM9HZGfiNnopj71Z0eoJHM8efG7Et+bhyMpxgMhE9\ndSLxox/HnpRGk69mk7NsPbZ9Ja+/OtcNwpmdy/4B4wi+ojeRU8Zy7L7pZC9cQfbCFQD4tmhM/XlP\nUvSnqzCRs3wDmZ98T9Ol71ZufnFW/g2njwu01h1L/RwqvVAp9Y/rGHcb2IMVXy0HYO/WvwgIrkWd\nyJAzXn/A/w1i0Uc/kpedB1BcPfSWnUlZNKgTQP06AfiYTQxqGcOKfclntK5SYHM4sTsNbE4Dh2EQ\nGuBbyfmiWbH/DPMBNqeB3XDnc2qv5ys/Y83ah6WZGjXHSEtEpyeD04Fj6yos7XqUaec7ZCS2uK/Q\nDnulZfHIVb8ZRnoSOjMFnE6cO9Ziad2tTDtr/xtcFcQqylWcr3ELjLQEdHqSa79tWYWlfS/PRoUF\nxQ+V1a/knhpau6ZNJrBawelAF+ZXXXi3rh3bUTs4qOKGlcgc2xIjJQGdmghOB/aNK/DpdJFno1L7\nRvn6gXbvSFtRSQfQx1rp9ywx1Y3FyExGZ6WC4cT55wYsLTpX7pOegn/7FtgOJ2A/kgR2B9k/riKo\nv+frL3BAT45//QsA2Yt+JaBXhzLbCR7ah+wfSiqZhdv+wpGaWbnhz5JRxT810T+uQ3Qm3JW94UAg\nYAb6KKWmACMAX+AbrfXT7rajgHsBK7ABmKi1diqlxgCPAlnA70CRu31j4H0gHEgFxmit45VSHwAF\nQCcgEhgL3AL0AjZorUd76/cLiw4jPSG1eDojKZ2wqDCyUsq+ESe+fC+G02DDonUsmPM/AOo2qQvA\nc1/NwGQyMX/252xbucVb8UjJLSQqyK94OirIn52JWWXaxe1NYsvRDBqG1GJy39ZEB/vToW4IXRuE\nMfCtONBwQ6dGxJ5UwTv3fEVEBfmX5Av0Y2dS2Y5x3N5kthzLoGGdWkzu24rooBP5Qhn49nJXvo4N\nvZ7PlbFm78PSTLXDMDLTiqeNrHTMjVp4tqnfFFUnAueuTdBveKVlKU0Fh6KPpxdP6+PpmOo398wV\n0wRVOxznnq34XHyV5/ohkfhNnAGFBdjivsA47N0KZ5n9lpmGuXHLMu18eg/Feuk1YLGQP+dRABxb\nf8XSvie1nv8UZfWl6Ou3IT/Xq/nOFyok3KNCamSkYm7aqkw7a7+rsA66DmWxkDez5MyKObYV/mMn\nYwqLIv+d6ZVXJQRUYAg6O6N4WudkYKrbtEw7c8uu+DdoiZGRhO2Xz9A5GWXanCtLdBiOxJLXnz0p\nDf8Onq8/S1QY9iT3scZpYOTmYw4JxpmZXdwm+IreHL3zWa/nE5Xj39Ap9FdKbXM/Pqi1vsb9uDPQ\nXmudoZS6DGgOdMdV7FmolOqNq1N3A3CR1tqulHoDGKmUWgo8A3QBjgPLga3u7c4FPtRaf6iUGgvM\nAYa5l4Xg6gReBSwELgLGAb8ppTpqrU/kBEApNR4YD9AptD2xgY28t1eA/0x6hYzkDPxq+TPlzUfo\nM/xSVn69HLPFTEzjGJ6+4THCYsJ5dv4LPDDoXvLdlcOq0LtpJINbxWC1mFnwezxPLdrO2yN6EJ+Z\nx8GMXBaP7wfAnQs2suVoBp3rh1ZZNoDesZEMblkXq8XEgu3xPLV4B29f1534rDwOZuSxeFxfV76v\nf6uWfFDz92ExpfAddhuFn82unuc/FaWwXn4LRV+/UWaRzskk/+WJUJCLqW4TfG+aQsHcB6GooJwN\nVS77qh+wr/oBS9e++A6+kcKPX3V1Hg2DvMdHoQICCbj/JRy7t7mqjqJctmULsS1biE/PfvheOZKC\nd2cC4Dywm9wnxmGKaYj/uIdwbN9Y5VXj0hz7tuLYtR6cDiwd++I79HYKP59RbXlOx69DS4yCIor2\nHq7uKGdEbl797zt9fE2p+Uu11ic+Xl3m/tkKbAFa4eok9sfV8fvN3bHsD8QCPYAVWutUrbUN+F+p\n7fYCPnM//hi4uNSy77XWGtcYx2St9Q6ttQH8ATQ+ObjW+m2tdVetddeKOoSDbxnCSz/N5qWfZpOZ\nkkFY3YjiZaHRYaQnp5dZJyPZ9esX5hWw+ruVNOvoqt6kJ6ax6ZeNOB1OUo4kk3gwgZjGMad9/r8j\nMtCP5JzC4unknAIiAj1PX9bxt2K1mAG4pl0D/kx2VeqW70umXUwdAqwWAqwWLmoSwfYE756KiAz0\nJTmn5OCenFt4inyut881bRvwZ3K2O18K7aJrl+RrHMH2cip4556xZu/D0ozj6ZhCwounTXXCPCp0\n+Ppjim5EwN0vUOupdzE3aon/uCdcF0lUIp2dgapdMo5S1Q7zrLhY/TBFNsBv7NP4P/AapvrN8R35\nEKa6seB0QIGr8mYkHERnJGMK8957BMrZbyHhnvvtJI7NK4tPL1u69sWxa7Prwonc4zgP7MLcsPkp\n1/0n05lpqNDI4mlTaAQ689T70b5hednTy4CRGA9FBZjrN6mUnAA6NxMVXPLhTAWFonNOem8W5Lle\nf4Dj95WYohtXShZHUjqWmJLXn090OI6TjiOO5HR8ot3HGrMJU2BAmSph9g8rKiWfqBz/hk7hqZQu\neyngxVKdx2Za6/fc8z8sNb+l1nrqOTxnkfv/RqnHJ6bPqWq76KOfmDLkPqYMuY+NSzbQ99pLAWje\nqSX5OfllTh2bzCaCQlxjfcwWM136d+PIX65PcxuXbKBNz3YABIUEEdOkLsnxZzZe7Uy0ia5NfFYe\nx47nY3caLP4rkb5NozzapOaWdHhW7k+mifv0ZnSQH5uPZuAwDOxOgy1HM4qXeTVfZn6pfEn0jY30\naOOR70AKTUJrlcqX6Zkv1PunZmv6PizNiN+LKbwuKjQKzBYsnXrj2LmxpEFhPnlPjCTv2XHkPTsO\n5+G/KHj3uUq/+tg4th9TWAyqTgSYzZjbXYhj96aSBkUF5E8fR8Grd1Pw6t0YR/dS9OlMjIQDEBDk\nGpyJ6zSyCovByPTeewTAOLwHU0RdVJh7v3XujWP7eo82KqJu8WNzm24Yqa4LEnRGCpaW7vFdVl9M\njVuVvbDnX8J58C/MkfVQ4dFgtuDTvS/2rWs92pii6hU/trTvgTP5KIBrHZPrMKnCIjFFN8BIq7xq\nq5FwEFNIFKp2OJjMmFv3wLF3q0cbVavkwj9z884YJ12E4i0FO/ZgbVwXn/pR4GMh+Ire5MR5vv5y\n4zZQe/gAAIIHX0z++u2lgiqCL7+E7B9XVUq+ymCoqv2pif4Np4/PxGJgmlLqU611rlKqHmAH4oDv\nlFKztNYpSqlQIAjX2ML/KKXCgGzgelzjCgHWAjfiqhKOBFZX8e/ClmWb6HxpF15b9RZFBUW8MXlO\n8bKXfprNlCH34WP14YmPn8FisWAym9j+6zZ++XwJANtWbqFD747M+uU1DKfBxy98QG5WjtfyWUwm\nHiyFhAgAACAASURBVO7XholfbcQw4Oq29WkaHsQba/ZwQVRt+jaL4vOth1i5PwWzSVHbz4dnBrUH\nYECLGH47ks6ID1cDigubhNPnpM6Qd/JdwMSvN2FozdVt3PnW7nXlaxrJ59sOs3J/aql8rk70gObR\nrnwfu25bcWHjcPo0jTzd051Dxpq7Dz0YBoVfvUnAnc+4bgmy4ReMpHisl4/EGb8X5x8bK95GJeWy\n/fA+frc+7rr9x5bl6JSj+PQbgZGwH+fuzadc1dz4Aqz9R6CdTtAGtoXvuCo4Xs5XOH8eAXc9576V\nzxLXfrtilGu/7diAtfeVmFt1dF1Ikp9L4UeuW0fZVv2A36j7CXh8HqCwr1+KkXDIu/nOwJSnp/Pb\n1u1kZWXTf9goJt52M9deOahqQxgGBZ/OpdaD012vv9WLMBIO4zvsVpyH9uDYtg5r/6uxXNDZtR/z\ncotPHVuat8X3ihtdlTmtKfh4Djo3u4InPAfawLb0Y/xunOK6TdL2Vei0Y/hccg1G4iGc+7Zi6XoZ\nluad0IYTCvMo+qGSruJ1GiQ9M48G7z/nuiXNgiXY9sUTPmkUhTv2krtsA1lfLqbuy5Np+su7rlvS\n3F9yGjugW1scSWmuC1VKiXxoLMFX9kX5+9Js9UdkzV9M2txPK+d3EH+b0vqffRZdKZWrtQ48ad5o\nTrqFjFJqEq7xfQC5wCit9X6l1A24Ligx4eoo3qW1Xn/ShSbbAJvW+m6lVCPgv5R/ockPWusF7otR\nftBat3U/d/GyU/0e1zW6qkb/oT56vOxg6BqnEgeIe4Wp5hfunbsq/96B58JU6gKhmsrIrPkXfPhN\nfa26I5xW/pTx1R2hQpYW9SpuVI3i30+tuFE1a733pyqtp01vNKpKj7OPHP6kxtUL//GVwpM7hO55\nHwAfnDTvP8B/ymn7PzzHDJ6Y/19cnb+T5x8G+pUzf3Spx4eAtuUtE0IIIYSoDv/4TqEQQgghREVq\n9Om4KlLzz1cJIYQQQohKJ5VCIYQQQvzrGVIrlEqhEEIIIYSQTqEQQgghhEBOHwshhBBCUMNvWlYl\npFIohBBCCCGkUiiEEEIIIZeZSKVQCCGEEEIglUIhhBBCCBlTiFQKhRBCCCEEUikUQgghhMBQ1Z2g\n+kmlUAghhBBCSKVQCCGEEEK+5k46heeNUUWB1R3htDLe+726I4gqcPRIneqOcFq1a+VWd4QK6fPg\nHFW9vPHVHeG0Al56u7ojVCh3wtjqjnBaf+XUre4IFWpd3QH+haRTKIQQQoh/PakTyphCIYQQQgiB\nVAqFEEIIIeQ+hUilUAghhBBCIJ1CIYQQQggMdJX+nAulVKhSaqlSaq/7/yGnaRuslDqqlHqtou1K\np1AIIYQQ4vzyCBCntW4OxLmnT2UasOpMNiqdQiGEEEKI88vVwIfuxx8Cw8prpJTqAkQBS85ko9Ip\nFEIIIcS/nq7in3MUpbVOdD9OwtXx86CUMgGvAJPPdKNy9bEQQgghRBVTSo0HSt8p/m2t9dullv8C\nRJez6uOlJ7TWWilVXj9zIvCT1vqoUmd203zpFAohhBDiX6+qb0nj7gCe8ut5tNYDTrVMKZWslIrR\nWicqpWKAlHKa9QIuUUpNBAIBq1IqV2t9yvGH0ikUQgghhDi/LARuBaa7///dyQ201iNPPFZKjQa6\nnq5DCDKmUAghhBDivLolDa7O4ECl1F5ggHsapVRXpdS7Z7tRqRQKIYQQQpxHtNbpQP9y5m8CxpUz\n/wPgg4q2K51CIYQQQvzreeGK4POenD4WQgghhBBSKfynavfcLUT174izwMaWSW9yfMehMm1aPzKC\nBtdfgrVOLX5oOrZ4fuNb+tNkzEBwGjjyitg25V1y9hzzWjbfnt2o88DdKJOJvIU/kfPR5x7LrR3b\nU+f+u/BpFkvGk9MoWFZyI3ZzVCQhj0/GHBkBaNLufxRnYrLXsknGc9do2m2E9OuMs6CI/fe/Rv6O\nA2Xa1GoXS9PZ92Dys5K5bAuHn3wPgNChvaj/4A34N6/PziEPk7d9f/E6Aa0b0WTGnZiD/MHQ7Bjy\nELrI/rfz1bqkC1FP3IEym8iav5j0t7/0WK6sFurOnIxf22Y4s3I4NulF7MdSCL6qL2Hjri1u59uy\nCQeH3UvRnwdo8N6zWCJCURYz+Zv+IGnqG2Cc3bWMtXp3IfrJ8Sizicz/LSH9rXLyvfwg/m2b4czM\n4ei907EfS8GnXiRNl7yJ7YDrvZq/bTdJT74OQPCVfQifMAK0xpGSwbEHXsaZmX1W+U5madsNv5sm\ngsmEfdXPFP30hcdya9+hWPtfDYYTXVhIwYevYiTEY27SEv/R95/4rSj87iMcW9Z4JdPf8cQLr7Jq\nzUZCQ+rw7SdvVvnzA1g6didgzN1gMlMU9yNF337msdx36PX49r8C7XSis7PIf2MmRprr/eo/cjw+\nnXsBUPDVR9jXLq+0nDX5uOINVX31cU103nYKlVJRwCygJ5AJ2ICZWutvqjWYm1KqK3CL1vpepVRf\nwKa1XlsVzx3VvyOBsdH80usBQjo3o8OMsawa8lSZdklLtnDg/SUMXPeqx/yjX6/l0EdxAERf1pm2\nU0ex7qYZ3glnMhEyZRKp90zBmZJK5AfzKFi9FsfBw8VNnMnJZE6bQeDIEWVWD336EbI/+JSijZtR\n/n5gVELBXzKetTr9OuPfJIZtF91FYOcWxL44np1Dy17s1mT6HRyYMo/cLXto9ckT1Lm0E1nLt5K/\nO54942YSO+NOzxXMJprOncT+e+eQv+sQlpBAtN359wOaTERPnUj86MexJ6XR5KvZ5Cxbj23fkZLf\n4bpBOLNz2T9gHMFX9CZyyliO3Ted7IUryF64AgDfFo2pP+9Jiv50dXiPTXoRI7cAgHqvPU7w5ReT\n/eMZfatUmXwxUydw+NYnsCelEfvNLHLiTsp3/SCcx3PZ1+92gof2JvLhMRy71/X+tMUncuDKezy3\naTYR/eR49g+agDMzm8iHxxB681BS53h2PM6KMuF38z3kvfwwOiOVwKdex75tLUZCfHET2/pl2Fb8\nAIClYy/8bpxA/quP4jx2iNxnJoJhoGqHEvjsW+RsW3fWnemzNWzIQG669ioem/ZylT5vMZOJgNsm\nkTttMkZGKkEvvol90xqMo6Xeywf3kv3wHWArwnrZVfjffAd5s57F0rkn5tgWZE8ZBz4+BE2djX3r\nBijI93rMGn1cEV5zXp4+Vq67MH4LrNJax2qtuwA3AvUr8Tn/Vgdaa71Ja32ve7IvcKHXQ51C9KAu\nxM9fDUDmln34BAfgG1mnTLvMLfsoSskqM9/hPrgBmAN88eZIC+sFrXAcPYYzIREcDgqWLsO/t+eu\ncSYmY993oMzBwdKkEVjMFG3cDIAuKEQXFXktm2Q8dyGDupO6YAUAuVv2YK5dC59Iz+9p94kMwRzk\nT+6WPQCkLlhByOAeABTuO0bh/oQy263TpyP5fx4mf9chAByZuWfVefBv3wLb4QTsR5LA7iD7x1UE\n9e/l0SZwQE+Of/0LANmLfiWgV4cy2wke2ofsH1YWT5/oEGIxo3ws6LN8y/h38Mx3/IdVBA3o6dEm\naEAPjn/tOrhm//wrtcrJ50EpQGHy9wXAFBiAPSXj7AKexBzbEiMlAZ2aCE4H9o0r8Ol0kWejwpIO\nivL1o3jn2IpK/oY+1mob0NW1YztqBwdVz5MD5matMJKOYaS43sv2NcuwdvXch44/trn2F+DcswtT\naIRr3fqNcOz6HQwnFBXijN+PT8fulZKzJh9XvEVX8X810XnZKQT64aq8Fdf6tdaHtdZzlVJmpdRL\nSqnflFLblVJ3ACil+iqlViilFiildiulPnV3LlFKdVFKrVRKbVZKLXbfCBJ3+9lKqU3AJKVUY6XU\nMvd245RSDd3trldK7VRK/a6UWlXq+X5QSjUG7gTuV0ptU0pdopQ6qJTycbcLLj3tDf4xIRQklPyj\nX5iYgX9MyGnWKKvJmIEMXD+LNk/exPbHP/JWNMyR4TiTS+6x6UxJwxwRcUbrWhrUx8jJJWz6M0R+\n9Ba177kDTN5/CUvGs2eNDsWWkFY8bUtIxxodWrZNYvpp25zML7YuaE2rz56k3eKXiZlY7td8VsgS\nHYYjsSSfPSkNS1SYZ5uoMOxJqa4Jp4GRm485JNijTfAVvT06hQAN3p9Gi/WfYeQVkLPo17PLFxWG\nvVQ+R1IaPifniw7DnlgqX05JPmv9aJosnEOjz6YT0LWNeyNOEp96ndif3qD5uo/xbdaQrPln9DWo\nFVIh4eiMktehkZGKCgkr087a7yoCZ3yE34jbKfzs9eL55thWBD73LkHT3qHgo9lVXiWsCUyhERjp\nqcXTRkYqKuzU72Vr/yuwb90IgPOQuxNo9UUF1cbSphOmsMhKyVmTjyvCe87XTmEbYMsplt0GHNda\ndwO6AbcrpZq4l3UC7gMuAGKBi9ydsbnAde6K4/vA86W2Z9Vad9Vav+Ju96HWuj3wKTDH3eYpYJDW\nugNwVekwWutDwJvALK11R631amAFcIW7yY3A11rrMoOjlFLjlVKblFKbluTvO5P94jUH/7uUpT3v\nZ9dzn9Py/rM7AHubspjx7diOrDlvkjJmAuZ6MQRcMai6Y3mQjJVDWcwEdW/Nvrtn88ewxwgd3IPg\ni9tVSxa/Di0xCooo2nvYY/6RsU+y98JRKKtPxdW7SuBIzWDvJaM5eNW9JL/wLvVmT8EU6A8WM6Ej\nh3DgqnvY2+tminYfJHzC9VWazbZsIbkP30Lhl+/ie2Xx/XRxHthN7hPjyH32Lnyv+D+weO2z8T+S\n9ZKBWGJbUrjQNW7TsX0T9q0bCHr+dWrd9ySOPX/U6I51TTyulGZU8U9NdL52Cj0opV53V+l+Ay4D\nblFKbQM2AGFAc3fTjVrro1prA9gGNAZaAm2Bpe51nsDzNPT/Sj3uBZwYiPMxcLH78RrgA6XU7YD5\nDCK/C4xxPx4D/Le8Rlrrt90d0q6XBTQ77QabjBnIpb+8wKW/vEBhchb+dUsqL34xoRQkZp5BrLKO\nfruOmMFdz2rd8jhT0jBHlXySNUeG40xNPc0apddNxb5nv+uUqdOgcOUarK2aV7yiZKzUjFGjB9Nu\n6Su0W/oKtpRMrHXDi5dZ64ZhS/I8VWlLysAaE3baNiezJaaRs34XjowcjAIbWcu2UKtd7N/O6khK\nxxJTks8nOhxHcrpnm+R0fKLdlRqzCVNggMdFGa4q4Ypyt69tdnJ/WUdg/57lLq8wX3I6PqXyWaLD\nsZ+cLykdn5hS+YJc+bTNgTMrB4DCnfuwHU7E2qQefq1d+8kenwRA9k+r8e/c+qzynUxnpqFCS16H\nptAIdGb6KdvbNywve3oZMBLjoagAc/0m5az1z2ZkpGIqVRk0hUag08u+ly3tuuA3fBS5Mx4DR0kN\nofDrT8iZMo7caZNRSuFMPFJm3bN1vhxXhPecr53CP4DOJya01nfhuoljBKCAe9xVuY5a6yZa6xPn\nSkoPnHLiutBGAX+Uat9Oa31ZqXZ5FYXRWt+JqzPZANislCp7/sSz/RqgsfsCFLPWemdFz1GRg/9d\nyvIBj7F8wGMkLtpEwxGXABDSuRmOnIJyx3icSq0mJd+/HT2gE7kHk841XjHbn7uxNKiHOSYaLBb8\nB/ajYNW6M1t311+ooEBMdWoD4Nu1E/aDhytYSzJWdsbkDxaxY+CD7Bj4IJmLNhJxXV8AAju3wJmd\njz3F88BhT8nEmVNAYOcWAERc15fMxRtP+xxZK7YR0LoRJn8rmE0E97qAgj1H/3bWgh17sDaui0/9\nKPCxEHxFb3Li1nu0yY3bQO3hrq8cDR58Mfnrt5csVIrgyy/xuIhEBfhhiXCfRjObCOzbHduBszsw\nF2zfg7VxveJ8tYf2Jjdug0ebnLgN1B7uumdt8OUXk7fOlc8cGlw8DMCnQTTWxnWxxSfhSE7H2qyh\nazlQ6+JOHheunAvnwb8wR9ZDhUeD2YJP977Yt3peT2eKqlf82NK+B85k199NhUcX51VhkZiiG2Ck\nee/fmvOFc99fmGLqY4p0vZd9LuqHbZPnPjQ3bkbA+AfInfEYOrvUv+UmEyrQ9Xc1N4zF3LApjt83\neS3b+XJc8Zbz7BtNKsX5evXxMuAFpdQErfU897wA9/8XAxOUUsu01nalVAvgdNe9/wVEKKV6aa3X\nuU8nt9Ba/1FO27W4Tvd+DIwEVgMopZpqrTcAG5RSl+PqHJaWAwSfNO8jXFXHaWfyC/8dyb9sI6p/\nRwaun4WjoIit971VvOzSX15g+YDHAGjz5P9R/5oLMftbGbRlLoc/W8Hul78iduxlRPRui7Y7sB3P\nY8u9807xTGfBaZD18lzC58xAmczkff8zjoOHCB4/GtufeyhcvRaf1i0Jm/kspqBA/C7pRfDto0n+\nv7FgGByf8ybhr72MUgrb7j3kffuj97JJxnOWFbeZOv0703HtGxjuW9Kc0G7pK+wY+CAABx99u/iW\nNFnLt5C1zDUaJGRwDxo/Nw6fsGBafvw4+X8cZPdN03AezyPxrYW0/WkmaMhatpmsuM1ntd+SnplH\ng/efc92SZsESbPviCZ80isIde8ldtoGsLxdT9+XJNP3lXdctae4vuUIyoFtbHElprgtB3Ez+ftR/\n82mU1QdMivz128n8/Kez24HufA0/mIYymchasJSivfFE3DeKgh17yY3bQNb8JdR7ZTLNlr2DMyuH\no5NmFmeLuG8UOJxowyDxydcxjudiAGlzPqPx5zPRDgf2YykkPDTr7PKdzDAo+HQutR6c7rolzepF\nGAmH8R12K85De3BsW4e1/9VYLugMTgc6L5eCd115Lc3b4nvFjeB0gNYUfDwHneud2+T8HVOens5v\nW7eTlZVN/2GjmHjbzVx7ZRUOpzCc5L/3HwIffwlMJmzLf8Y4egi/G8bg3P8X9k1r8b95AsrPn1oP\nPuNaJS2ZvBmPg9lC0DTXKCadn0/e3OddF51Ughp9XBFeo/TZXiZXzdwXg8wCegCpuCp6bwJfAs8B\nV+KqAqYCw3CNJ5ystR7qXv81YJPW+gOlVEdc4wNr4+ooz9Zav6OUWuFeZ5N7nUa4TvWGu7c7Rmsd\nr5T6GtcpagXE4Rq32OfE87k7pgtwDSO4R2u9WikVDRwEYrTWFX7c+jb6phr9h+raqOZ96hPed/RI\n2asNa5LatQqrO0KFtKGqO0KF6vX2/hXz3hTw0tvVHaFCuRPGVtyoGq1cXbe6I1RoWNJnVfpmmdh4\nRJUeZ984NL/G/WNwvlYK0Von4qralecx909pK9w/J9a/u9TjbUDvcp6j70nTh3Fd+Xxyu+HlZCh+\nPq31HqD9ScsvBhacSYdQCCGEEJWrRldeqsh52yk8nyml5gKXA0OqO4sQQgghBEinsFpore+puJUQ\nQgghqkpNvfijKp2vVx8LIYQQQggvkkqhEEIIIf71auoNpauSVAqFEEIIIYRUCoUQQgghtIwplEqh\nEEIIIYSQSqEQQgghhIwpRCqFQgghhBACqRQKIYQQQsiYQqRSKIQQQgghkEqhEEIIIYSMKUQqhUII\nIYQQAqkUCiGEEEJgaBlTKJ3C88Ryv5pd2B54WXh1Rzj/qZpfuK+dnVfdESpgxn4wu7pDnJYp0Fzd\nESpkadGguiOcVu6EsdUdoUKB896v7ginFdluSnVHEDWQdAqFEP8YNb1DKISouaROKGMKhRBCCCEE\n0ikUQgghhBDI6WMhhBBCCAw5gSyVQiGEEEIIIZVCIYQQQgj5mjukUiiEEEIIIZBKoRBCCCGEfM0d\nUikUQgghhBBIpVAIIYQQQq4+RiqFQgghhBACqRQKIYQQQsjVx0ilUAghhBBCIJVCIYQQQgi5+hip\nFAohhBBCCKRSKIQQQgiB1jKmUDqF/1DDn76VCy7thL2giE8nz+PoH4dO2XbcO5MJbxjF9EFTABjy\nwAjaDeyCoTW5adl8Onke2SmZXs1nbtYB6xVjQJlwbI7Dvvq78ttd0AO//3uQgnmPYCQcQNWJwP/e\nWRhpCQAYR/Zi+/4dr2Y7H/IVZxxyqyvjlmXYVy88Rcbu+N34AAVvPoaRcAAAFdUQ36vGoXz9QWsK\n3nocHHbv5mvVGb/ht4MyYV+/FFvcAo/lPhcOxufiK0Ab6KJCiv73GkbyETBb8BtxF6YGzUBrir55\nG+e+nV7NVpyhU3cCbr8HTCaKlv5I4VefeSz3u2oEvpddgXY60cezyJs7AyM1GQBTeCS17n4IU3gk\noMl59mGMlCSv5rO074b/zXeDyYRtxU8Uff+5x3Jr/yvxHXg1GAa6sID8917FOHYYFRhMwKSnscS2\nwrZqMQUfzvFqrlMxx7bDOmAkmEw4tq3Evv5Hz9+n3cVY+92AkeP698SxOQ7H7ysrPZelY3cCxtwN\nJjNFcT9S9K3n39l36PX49nf/nbOzyH9jJkaa6+/sP3I8Pp17AVDw1UfY1y6v9Lwne+KFV1m1ZiOh\nIXX49pM3q/S5m0wbS53+nTEKbOy7by55Ow6WaVOrfSzNZt+Nyc9KVtwWDj75PgCNnryFkMu6om0O\nCg8nse++13Bm52MJCaTlO1MI7NiUlP+t4ODj71bp7yROTTqFZ0ApFQbEuSejASeQ6p7urrW2neV2\nOwORWutF556yxAV9OxLRJIbn+t5Ho07NuP75ccwa9kS5bdsP6oYtv8hjXtzb3/PTq/MB6D16MIMn\nDWf+4+95L6BSWK+8jcIPnkNnp+N354s4dm9Cpx7zbGf1w6fX5TiP7PGYrTOSKHzjIe/lOd/yncg4\ndCyFHz7vynjHCzh2by4/Y8/LcR7ZWzLPZMLv2rso+up1jOR48A8Ep8PL+Uz4XXcn+fOeRGelE/DA\nqzh2bnB1+tzsm1diX+t66ZvbdMd32G0UvDUVn16XAZA/8x5UYG3875hK/qsPgLc/xZtMBNxxHzlP\nP4iRnkrwy29h27gG48jh4iaOg3spfGA82IrwHXw1/qPvJO+lZwCodd9jFHz5CY7fN4GfPxheHpGk\nTPiPnkTei1MwMlIJmjYP+5a1GMdK8tnWxmGL+x4AS+cL8R85gbyZj6DtNgq//C/mBk0w12/i3Vyn\nzPv/7d11eFxl2sfx7z0TrbsiVYq01JHiLWVx3eIOb3EKbFl0oXiRRRdZ3IosssiipQa0QFvqWB2p\ne5M2OnO/fzxnkpkkTZM0zTnD3B+uXMycOTP5NZPM3POokHHY2eS/cR+6cS1Z546geN50dM3ShNOK\nf5pM4eev1E0mcM/zBcPIvWO4+zne8xRFUycS/aP05xhZNI+N110EhQVkHHYs2WddxKaHbietzz6E\nO+3CxmsvhPR0Go54mKLp30He5rrLDxx/5GBOP+lYbrzjgTr9vk0G9iGrU1umD7icBn260mnkUGYf\ndUO58zqNHMqC4U+SO20eu426iSYDe7N+7HTWfzmTX+9+FSJRdr7pTHa44kR+vetVovlF/Hbf69Tb\ndSfqddupTv9NlbF1Cm1MYZWo6hpV7aWqvYCngIdi12MFoTjV/Xn2AQ6v7bzdD+vHlHe/BODX6fPJ\nbliPRi2blDsvo14mh1x4FJ899m7C8YLcvIRzav29eIcuRNcsR9ethEiEyOxJpO3Wv3y+Qae4Frpa\nbsFK9nwlGdeWybhrvwoynkzR1x8kZAx33pPoit9cQQiQl1vrBVdo565EVy9D16yASDHF078krcfe\niScVlP6eSWZW6X1b70TxvFkAaO4GNG+TazWsZWlddyO6fAnRFcuguJjCr8aSsdf+CecUz54Ohe5D\nU/EvPxJq3tJl3HFnCIddQQiQn1dyXm0Jd96V6IolRFctg0gxhd+OJb3vgMST4ooT9zP0nseCfCJz\n50BRjT6v1kioXSei61ag61dBNELkp+9I26VPnX3/LQl32dU9zyvd81w0cSwZ/fZLOKf4hxklz19k\n7o+EmrnnObzDzhT/OBOiEfcz/W0B6b32qvN/Q79ePWjcqGGdf99mh/dn1VuuJTd32jzSGtUnvVXi\ne0l6qyaEG9Yjd5r74LnqrQk0O9z9jDZMmAkR92EpZ9pcMto1ByCaV0DO5J+J5tf9a6epnBWF20BE\nuojIjyIyCvgB2FFE1sfdfqqIPBt3eY6IzBSRcSKSDdwCnCEiM0Tkr7WVq0nrZqxfuqbk+obla2nc\nplm584762ymMe/YjivLLv3EcNfwURkx6nH7H7V/SalhbpFEzdENpPt2wBmmYmC/UtiPSuAWRudPL\n379pK7IuvZes80cQ2nnXWs2WDPkApGGZjBvXIo3KZuyANGpeLqO0aAsKmWffQNbF95C+/zG1ni/U\nuDnRdatLrkfXr0EaNy93Xvr+R1L/5qfJPOZc8t/5tzt36SLSuu8FoRDSrDXhHTsTatKy1jNK8xZE\nVq8szbhmFaHmLbZ4fubgIyn6/jsAwu12RDfl0uD6O2j00LNkn3sxhGr35TTUrAXRNXH51q4m1LT8\nzyFj8HE0fPBVsk8bSt5L/6rVDNUhDZqiG9eWXNectUjDpuXOC3frR/YFd5J5wuXl/q62h1CzlkTX\nrCq5Hl27Cmm+5d+njEFHUTR9MgCRxV4RmJGJNGxM2h69CTVvtd0zB0VGm2YULC39Oy5YtoaMtol/\nxxltm1MY935TsGwNGRW837Q6dRDrxpZ/vTTBYkXhttsV13K4O7CkkvNuBQapak/gBFXNA24HRnkt\njm+XvYOIDBWRqSIydU7OgloN3X73nWm+UytmfTalwts/euBNRgy4jKnvf82B5/ylVr/3VomQccTZ\nFH76crmbNGcdmx+4lPwnrqPw05fIHHIlZGZbvooyHn42hZ+9Wv62UJjQzt0oePtf5D93K+Hd+hPq\n1L3uMwJFX3/MpjuHUvDhS2Qedoo79t1o1+X8t4fIPOFCIot+BvV3sYiMgwaT1qUb+f99wx0Ih0nb\nfU82v/AEG/92EeHW7cgYWOuN/lVSOPp9cq45k7w3nibr+DN9yVBVxfOnk/fE38h77mYii+aQQqDh\n0wAAIABJREFUefT/+R0pQcYBg0nr1I38D9zzXDxrKkXTv6PhXY9T/6p/UDz3h9ofJpAC2g87CY1E\nWP3Ol35HqVS0jr+CyIrCbbdAVadW4byJwMsiciFV/Lmr6tOq2k9V+3Vv2LnSc/c/6zCu/Xgk1348\nkg0r19GkXemnucZtmrFh+dqE8zv02YWd9uzELV8/xrC3RtCyY1suf+OWco/7/Xtf0/Pwvcsd3xa6\ncW1Cq5E0bo7mxOXLyCLUakeyzr+V7Gv+RWiHrmSe8XdC7Tq5sW95uYBrUdK1Kwg1b5tS+cBrhYnP\n2KhZQiuNy7gDWefdQvbVjxHaoQuZpw8n1K4TumENkcU/weYcKCokMncG4bYdajVfdMMaQk1LW91C\nTZontGyW5bqX9/HuHKXgvWfZfP8w8p+7C8muT3RlZZ+3akbXrCbcorTVJ9S8JdE1q8udl9azL9lD\nziLnrhtLuuGjq1cRWTTfdT1HIxR+9zVpnXep1XzRtasTWqVCzVoQXbdqi+cXfTOO9DLdonVJc9cl\ntFZLw2ZoTpkJanmbSsavFs+cQKhNh+2eK7p2VUm3P7iWQ11T/ueY1qMvWSeeSe69NyYMt8h/91Vy\nrr2Q3DuGIyJElv1e7r5/Jm3OPZyeox+g5+gHKFq5jsx2pX/HmW2bU7gs8e+4cNmakm7hknPi3m9a\nnnwIzQ7ty7zLHt7+4c02s6Jw222KuxwFJO56Vtzl/8O1FnYApolI+X6VbfD1K59z/5HXc/+R1zP7\n86n0P/FAAHbu3YX8nM1sXLU+4fyJr47mlr0v5fb9r+CRISNYtWgZ/zr1dgBadmhTcl73wf1YsSBx\noPi2ii5ZQKh5W6RJSwiHCfcYQPHPcXV1QR6bR15I3oOXk/fg5UT/mEfBqPvczNl6DUHcj1iatkKa\ntyW6bkVK5SvJ2KxNmYzfJ2a8dyh5D11B3kNXEP1jPgWvPUB06UIi82cRar0TpGdAKES4w25Ey05Q\n2dZ8v80j1KId0qw1hNNI630gxXMmJ5wjLUqL5fDu/Yiu8n7P0jMhI9Md36UXGo0kTFCpLcXzfibU\ndgdCrdpAWhoZBwykaPLEhHPCHbtS/5K/kXPXDeiG0r+hyPyfkfoNkEaNXeQ9+xD5fXGt5oss/JlQ\nm/aEWraBcBoZ+wyk6PtvEs4JtW5fcjmt1z5Eltd+8VxV0aWLCDVtjTRuAaEw4d32pnhemaEL9RuX\nXA537UN0Te2+tlQkMv+XhOc5fb+BFE6dlHBOuEMX6g29htx7b0Q3xr1WhkJIg0bunJ06Ed6pc+k4\n0j+p5S9+yszBw5k5eDhrP5lMyyEHAdCgT1eKczZTtDLxvaRo5XoiOZtp0KcrAC2HHMTaT10PVJND\netH+suP46dyRRPPqbnxrTWkd/xdENvu4FqlqVETWiUhXYAFwAqWzlDup6rci8h1wFNAeyAFqffTw\nj+Oms/shvfjHhEcozCvgtWtLlzC49uOR3H/k9ZXe/5jrTqNVp3ZoNMraJav5T20vFxCNUvi/58k6\n5ya3dMW0cejKP0gfeDLRpQuIxBc3ZYQ77E7GoJPRSAQ0SuEHz7jWh1TKF8v40QtknX1jacZVf5A+\ncAjRJQuJ/LLljORvomjSR2RfdBcoFM+bXuHYyG3Nl//OU9S7+DYIhSj67guiy38j44gziPw2j8gP\nk8k44GjCu/SCaDG6OZf811xLgjRsTL2Lb0NV0fVryH/1wdrNVpIxwuanH6bhiAfckjRjPiby+2Ky\nTz+f4vk/UzR5EvXOuxjJzqbB392M4+jqleTedSNEo2x+4Uka3vEQIEQW/ELB5/+r5XxR8l58jPrX\n3QuhMIUTPiG6ZDFZJ51L8aK5FE+bROZhx5PWvS9EioluymHzU/eW3L3Rw69Bdj0kLZ30fvuRO/Lv\nCTOXa51GKRz9ClmnXuuWSZr1Jbp6CekHnEB02WIi86eT1u8w0rr2RqMRyN9Ewf/qYCmSaITNzz1C\ng5vud0v7jPuE6B+LyTrlPCILfqFo6iSyz7oEycqm/t9iz/MKNt17E4TTaHiHW85HN29m02N3uUkn\ndezaW0cyZfos1q/fyKDjz+TSC87ipGO2/7CedWOm0WRQH/p88ziRvALmX/14yW09Rz/AzMHDAVh4\nwzN09ZakWTd2OuvHTgOg410XEspIZw+vFypn2lwWXvc0AH0mP0m4QTahjDSaHb4XP552O3lz/9ju\n/yZTObHFGqtHREYAuar6gIh0Ad72ZiXHbj8FuAdYCXwPZKrqhSLyAdAR15L4uapeIyItgU+AMHBX\nReMKY4Z1ODXQT9TdZwV1hEQSqfbk9boX3bgdCtxaVLRoo98RtirUIOx3hK1K776j3xEqVThtOxa3\ntaTBk8/7HaFSU3pc63eErRqw7B3Z+lm158idjqzT99mPf/u4Tv99VWEthdWkqiPiLs8HepW5/U3g\nzQrud2wFx1YB5dcRMcYYY4ypY1YUGmOMMSblWc+pTTQxxhhjjDFYS6ExxhhjTGDXDqxL1lJojDHG\nGGOspdAYY4wxJqhrB9Ylayk0xhhjjDHWUmiMMcYYE7WWQmspNMYYY4wx1lJojDHGGGPrFGIthcYY\nY4wxBisKjTHGGGMM1n1sjDHGGGMTTbCWQmOMMcYYg7UUGmOMMcbY4tVYUZg0VmmB3xEqJU1b+B0h\n+UWD/4K08t11fkeoVFpGut8R/hQ2T17ld4RK/ZLTzu8IW9Wqx7V+R6hU/9n3+x3BBJAVhcYYY4xJ\neVFbksbGFBpjjDHGGGspNMYYY4yxEYVYS6ExxhhjjMFaCo0xxhhjbJ1CrKXQGGOMMcZgLYXGGGOM\nMdZSiLUUGmOMMcYYrKXQGGOMMQa1dQqtpdAYY4wxxlhLoTHGGGOMjSnEWgqNMcYYYwxWFBpjjDHG\nGKz72BhjjDEGte5jayk0xhhjjDHWUvindfaIC+h1SF8K8wp4avhjLJ6zsNw5N79xB01aNaUwvxCA\nkWfdxsY1Gxh0xl8YfPYRRCNRCjbn8+wNT7Bk3h+1mi/UYQ8yDj4VQiGKZ39F8ZRPE24P7z6AjAP/\niuauB6Boxlgic75GGjYj89hLQUIQClM8YyzFsybUarZkyFeSceBpIF7GyZ8kZtxjABkHDUFz17mM\n08cRmf0V0nJHMgafiWRkgSpF335E5JcptZ4ve79+tLj+YiQcZuM7n7D+uf8k3J7VtzstrruYjF06\nseLau9k0+uuS29o+dReZe+5K/vQfWH7ZLbWerSTDgP40G34phEPk/vcTNr74RsLtmX160PRvl5LR\ntROrb7iTzWO+Srhd6tej3dvPsXn8RNbd+6+UyVf/gL60vvkiJBxi/X8+Y83TbyV+34w02t03nKzu\nXYisz2HJsHsoWrKSRsceTPMLTyrN360ji46/koKfFtLy6rNpfMIgwo0a8Euvk8p+y23W486zaT2o\nF5G8QqYNe4oNsxeXO2e3609mxyEHkNGkPv/rfH7J8Q5nD6LjeYMhEqV4UwEzrn2WnLlLtjlTxzvO\np8mgPkTzCpl/1WNsmr2o3Dn19+xEl4cvJ5SVwfox01j0j+cB2PkfZ9P0sH5oYTH5vy5n/lX/IrJx\nM2lNG9DtmWtp0KszK98cz6Kbnt3mnFtz890P8uXEyTRr2oT3Xn1qu3+/7cWWpLGi8E+p1yF9aNOx\nHdccdCldeu/C+XdexC3HX1fhuY8Pe4hFsxckHJv0/peMGfUZAH0O7c+ZN5/HvefcUXsBRcgYeDoF\n7zyE5qwj64ybiCyYia5dlnBa8dwpFI19PeGYbtpA/hsjIVIM6ZlknT2CyIIZ6KYNqZMvlvHQMyh4\n60GX8cyb3fdZUybjL1MoGvNa4n2LCyn8+Dl0/UqkfmOyzvoHeYvnQEFe7eULhWh582Us/b8bKF6+\nmh3efIxN476laOFvpTGWrWLlzf+kybl/LXf39S+8hWRl0ujko2ovUwUZm113BSsvvY7iFato++rj\n5E2YRNGi+IwrWTPiPhqddXKFD9HkknMpmDY7tfKFQrQZcSm/nXsTRctX0/Gdh8kZ+y2F838v/b5/\n/QuRjbksOPRCGh11IK2uPZ8lV41k4wfj2fjBeAAyd+nADk/+g4Kf3AfWnHHfse7VD+k8uvaLmNaD\netGgUxu+2PcamvbpQs97z+fLI8t/2Fj++TQWPv85g795MOH4H+9OYvHLYwBoc1gfuo84k29Ov3eb\nMjUZ2IesTm2ZPuByGvTpSqeRQ5l91A3lzus0cigLhj9J7rR57DbqJpoM7M36sdNZ/+VMfr37VYhE\n2fmmM9nhihP59a5XieYX8dt9r1Nv152o122nbcpYVccfOZjTTzqWG+94oE6+n9l+ttp9LCIREZkh\nIj+IyEwR+ZuIVLvbWUQ6iMjpNYtZ8hiTani/2L9hjoh8KCJNavg4z4rI7hUcP1dEavwxXERya3rf\nivQdvBdfvTMOgPnT51KvUX2atGpa5fvn5ZYWB5n1Mmt9lEWoTUd0/Sp0w2qIRij+eQrhzr2qdudo\nxBVcAOE0EKnldMHPV5Jx3cq4jJOrnFHXrUDXr3SXN21AN+cg2Q1rNV9mj24U/baU4j+WQ3ExuZ+M\np/7AfRPOKV66gsK5i9BotNz9876bQXRzLRapFcjo3o3iP5ZSvGQZFBez6bPxZB+8X8I5kWUrKJq3\nCCrImLFbV8LNm5L37dSUype95y4U/rqUot+XQ1ExGz/6koaDEp/bBofuw4Z3vwBg46dfU2/fnuUe\np9HRB7Hxf6Wt6PkzfqF41bpazRrT5i99+e0/rhV13bT5pDeqR2ar8m8D66bNp2Dl+nLHi+NeE8P1\nMqEWXhWbHd6fVW+5f3/utHmkNapPeplM6a2aEG5Yj9xp8wBY9dYEmh2+FwAbJsyEiHvec6bNJaNd\ncwCieQXkTP6ZaH7RNmesqn69etC4Ue2+hvghitbpVxBVpaUwT1V7AYhIK+A1oBFwazW/VwfgdO/+\nNaKqA2p41/h/w0vAZcBdNfj+F9bw+9eppm2as3bpmpLra5evoWnrZqxfWf4F96IHriAaiTLl02/4\n76OlXUCDzz6CIy88lrT0NO46rXa776RBEzRnbcl1zV1HqG3HcueldelDuP0uRNetoGj8myXdoNKg\nKZknXIk0aUnRl2/Xeitc0PMBSMOmaE7p8+kydiqfsWsfwjvsQnTdcorGvZlwH3DFJeE0dP2qWs2X\n1qo5xctLH7N4xWqyeuxaq99jW6W1bEHx8pUl1yMrV5HRvYoZRWh69cWsvvkesvbuk1L50to0p3jZ\n6pLrRctXk92zW+I5rZtTFHv+I1GiuZsJN21EZN3GknMaHXUgf1x8e61m25Lstk3JW1r6N52/bC3Z\nbZtWWABuScfzBtPloiOR9DQm/rXabx/lZLRpRsHS0p9jwbI1ZLRtTlFcpoy2zSmMey0vWLaGjDbN\nyj1Wq1MHsfqDiducyZhqtfip6kpgKHC5OF+KSEnzhIh8LSI9ReQgr2VuhohMF5GGwEjgAO/Y1SKS\nJSIviMhs75xDvMc4V0TeF5HxIjJPRG6Ne/xc7/8NRGSMiEzz7n9cNf4Z3wDt4x7zWhGZIiKzROQ2\n71h9EfnIaxmdIyKneMfHi0g/7/J5IjJXRCYD+8U93osi8te467WRebt4fNhDXP+Xq7h9yI106787\nB5x4cMlto1/+hKsPvITXR77M8VcMqfNskYUzyXvuBvJfuY3orz+ScXjp+B7NXUf+K7eR//xNhPcY\nAPXq/hNq0PMBRBbMJO+Z68l/aQTRxT+SccT5iSfUb0zGkRdQ+OkL1EbLRyppePKx5E38jsjK1Vs/\n2QdBz5fVsxvRvAIK5v3qd5QqW/TCaEbvczU/3vk63a4+3u84JdoPOwmNRFj9zpd+R0l6qlqnX0FU\n7TGFqrpQRMJAK+A54FzgKhHZBchS1Zki8iFwmapOFJEGQD5wPTBcVY8GEJG/uYfTHiKyK/C59xgA\newHdgc3AFBH5SFXj+0DygRNUdaOItAC+FZEPdCs/ZS/3IC83InIY0NX7fgJ8ICIHAi2Bpap6lHde\n4zKP0xa4DegLbADGAdO38qOrdmYRGYorwunfrBddGnTY4oMPPvsIDjl1MAALZ82nmdeVANCsTXPW\nrVhb7j6xY/mb8pn0/pd07tWVr94dn3DONx98zfl3XrSVf1r1aO56pGHpp11p0BTNKfOJPX9TycXi\nOV+RfmD5gee6aQO6egnh9l2JzJuWMvkANGcd0rB0SIDLWKYlOD7j7K9IPyhu7F5GFlknXknR1/8l\nuqz8JKRtVbxyDWltWpZcT2vdguKAFSjFq1aT1qZVyfVwq5ZEVq6p5B6lMnvsTmbvHjQcciySnY2k\np6Gb81n/WO2NhwtqvuLla0hr26LkenqbFhSvSMxVvGIN6W1aUrx8DYRDhBrUK9dKuPF/47c5S2U6\nnjeYDmccAsC6GQvJblf6N53Vthl5y2rWVf3He9/Q897zt35iBdqcezitzzgUgNyZ88ls14Ic77bM\nts0pXJb4cyxctqakW7jknOWlr+UtTz6EZof25YeTR9QojzFlbeuSNG8BR4tIOnA+8KJ3fCLwoIhc\nCTRR1eIK7rs/8CqAqv4M/ArEisLRqrpGVfOAd71z4wlwt4jMAr7Atfy1riRntojMAJZ75432jh/m\nfU0HpgG74orE2cBgEblXRA5Q1bL9f3sD41V1laoWAm9W8r1rmhlVfVpV+6lqv8oKQnAtezceeQ03\nHnkNUz//jgNOci+GXXrvQl7O5nJdx6FwiIZNXQtWOC1M70H9+P0XN4C9TYe2Jef1HtiX5YsTJy9s\nq+jyxUiTVkijFhAKk7ZrfyILZyaeVL+0Dg937kV07XLAFT+kpbsbMusRat+V6LoVKZWvJGPT1kjj\nWMa9iCzYSsbYJJRQmMzjLqP4h2+IzP2+1rMBFMz5hfSd2pPWvjWkpdHgiIPZNO7b7fK9aqrwh19I\n27E9ae3aQFoa9f9yMHkTqjZsefXN97DkqNNZcvSZrHv43+R+NLpWC8Ig58ubPZeMDu1I36E1pKfR\n6KgDyRmT+NzmjvmOxie64qfR4fuz+dtZpTeK0OiIA9j40fZt2Vr0wmjGHXoj4w69kWWfTmWnkw8A\noGmfLhTn5FWr67h+xzYll9sc2pvcRctrlGn5i58yc/BwZg4eztpPJtNyyEEANOjTleKczQldxwBF\nK9cTydlMgz5dAWg55CDWfupWCmhySC/aX3YcP507kmheYY3ymEQ2prAGLYUi0gmIACtVVUVkNHAc\ncDKu5QxVHSkiHwFHAhNF5C/V/DZlf1plr5+Ba83rq6pFIrIYyKrk8fJUtZeI1AM+w40pfBRXqN2j\nqv+u4N/Zx8t/p4iMUdWqDn4pxiu2vQk5GTXMXGMzxn5Pr0P68tCXT1KQV8C/hz9WctvdHz/IjUde\nQ3pGOte/civhtDChcIg5X89i7OuuVj7snCPpvv+eFBdF2LQxlyevebR2A2qUwnGvkXnSVSBC8ZyJ\n6JqlpA84lujyX4ksnEl674GEO/UCjaD5m7wuTpBmbcg86GTcr4RQNPUzdPW2Lw2RVPliGcd4GUMh\nimd7Gfc7jujyxUQWzCS9zyDCnXtCNJqQMdytP6EduiLZ9Unr7obpFnzyArrq98q+Y/VEoqy++3Ha\n/vtuJBxi438/p2jBrzS97GwKfpjL5vHfktl9F9o8fAuhRg2pf/A+NLvsbH4/figA7V76Jxkdd0Dq\nZbPzF6+y8paHyJtUywVsJMraex+j1eMjIRQi94NPKVr4K40vPofCH+eS9+U3ZOzejZb/HEGoUQOy\nD9yXxhefw7IhdTS0OKj5IlGW3/YkOz5/p1uS5u3PKZz/Gy2GnUn+7Hnkjv2O9W99RrsHhtP5i2fd\nkjRXl87Urde/O8XLV7uJKnFa/f18Gh1zMJKdSZevXmb9fz5j9WOjaiXyii9m0HpQLwZ/+xDFeQVM\nv6r0Jf+QL+5m3KE3ArDHP05jhxMGEM7O4C/THuPX18bz8wPv0On8w2h5YHe0qJjCDZuYduWT25xp\n3ZhpNBnUhz7fPE4kr4D5Vz9eclvP0Q8wc/BwABbe8AxdvSVp1o2dzvqxrteh410XEspIZ4833Jjv\nnGlzWXjd0wD0mfwk4QbZhDLSaHb4Xvx42u3kza3dZcXiXXvrSKZMn8X69RsZdPyZXHrBWZx0THXf\n9k0QyNb6tUUkV1UbeJdbAqOAb1T1Vu9YX+BD4CtVjY2966yqC7zLb+NaBH8HHlTVg7zj1wB7qOoF\nXrfxaFxL4WnA3bju4zzgO+B8VZ0ayyIiw4AuqnqFNxZxLNBRVRdX4d/QG3gP6AwMBO4ABqlqroi0\nB4pwxfJaVc0XkaOBC1X1eBEZDwwHlgDfAn2Ajd73n6mql4vIzUBDVb1ORI4H/utq5y1njs+3Jafv\nfEIwP1Z4nh3WYusnmcpFA/0UA7DsxVosHLeDtIyI3xH+FDbnZGz9JB/9klOjBSTqVCsp8DtCpfrP\nvt/vCFuV3qLT9lm+YQv2bLNvnb4Iz1r+TZ3++6qiKi2Fsa7XdFwr2CtAySJOqvq9iGwEXoi7z1Ve\n4RMFfgA+8S5HRGQmrpv5CeBJEZntPe65qlogbgmPycA7wA7Aq2XGE4IrTD/07jsV+Lmq/2BVne51\n4Z6mqq+IyG7AN973zQXOBLoA94tIFFckXlLmMZaJyAjcpJX1wIy4m58B3vf+nZ8CsYFdNc5sjDHG\nGLO9bbUoVNVwZbeLSDtcd+nncfe5YgunDyxz/bwtnPeHqpab3hVrTVPV1cC+5e61BWVb4VT1mLjL\njwCPlLnLAlw3c9nHOTju8gskFsKx4yuAfeIOXbe1zFtrJTTGGGPM9hUN6IzgurRNE01E5Gxc9+5N\nqlp+9VRjjDHGGJMUtmmbO1V9GXi5lrLEHvNFSmcxV5mINAfGVHDTIFWt2joOxhhjjElJGtAZwXXp\nT7P3sVf4VXEvMmOMMcYYE29b1yk0xhhjjDF/An+alkJjjDHGmJqyiSbWUmiMMcYYY7Ci0BhjjDEG\nreP/toWINBOR0SIyz/t/0y2cd5+I/CAiP4nIo+ItyrwlVhQaY4wxxiSX64ExqtoVt/LK9WVPEJEB\nwH7Anrhd4voDB1X2oDam0BhjjDEpL8nGFB4HHOxdfgkYj7dZRhwFsoAMQHA7062o7EGtpdAYY4wx\nJrm0VtVl3uXlQOuyJ6jqN8A4YJn39Zmq/lTZg1pLoTHGGGNSXl0vXi0iQ4GhcYeeVtWn427/AmhT\nwV1vir+iqioi5cKLSBdgN2AH79BoETlAVb/aUiYrCo0xxhhj6phXAD5dye2Hbuk2EVkhIm1VdZmI\ntAVWVnDaCcC3qprr3ecTYF9gi0WhdR8bY4wxJuVFVev0axt9AJzjXT4HeL+Cc34DDhKRNBFJx00y\nqbT72IpCY4wxxpjkMhIYLCLzgEO964hIPxF51jvnbWABMBuYCcxU1Q8re1DR5JptY2qJiAyNH7sQ\nRJZx2wU9HwQ/Y9DzQfAzBj0fWMbaEPR8W9OpRe86LYgWrp5e6ZqBfrCWwtQ1dOun+M4ybrug54Pg\nZwx6Pgh+xqDnA8tYG4Kez2yFTTQxxhhjTMpTjfodwXfWUmiMMcYYY6ylMIUlw7gPy7jtgp4Pgp8x\n6Pkg+BmDng8sY20Ier5KRet4ncIgsokmxhhjjEl5Ozffs04Lol/XzLKJJsYYY4wxJnis+9gYY4wx\nKc96Tq2l0BhjjAkkETmxKseMqS1WFBpj6pyI9PA7gzEiEvY7w1bcXMGxm+o8RYqIonX6FUTWfZxi\nROR2Vb0l7noYeFlVz/AxVgIR2R/oqqoviEhLoIGqLvI7F4CIZAInAR2I+/tR1dv9ylSWiCwAvsVt\nev6Vqv7gc6SKPOH9LF8ERqnqBp/zJBCRd4HngE/UFi+rMRHZk/J/K+/6Fqi8eSLyDvCCqv7od5gY\nEfkLcDjQXkQejLupEWC/j2a7saIw9ewoIjeo6j3em/J/gOl+h4oRkVuBfkA34AUgHXgV2M/PXHHe\nBzYA3wMFPmfZkt2BvYEDgPtFpBswS1VP8DdWKVU9QES6AucD34vIZNwb82ifo8U8AZwHPCoib+Gy\n/eJzpgReN+K9QCtAvC9V1Ua+BvOIyPPAnsAPlBYyCgSpKOwJnAo8KyIh4HngDVXd6G8sVgJzgHzc\nzy8mB7jel0QVEJEcqLDJK1C/i1VlYwptSZqUIyICjMJtkH0I8LGqPuxvqlIiMgPoDUxT1d7esVmq\nuqe/yRwRmaOq3f3OURkRSQP6AwcB+wPNcUXhRb4Gq4DXUn088CiwEfdmcmNQWpNEpDFwGq7L7nfg\nGeBVVS3yNRggIvOBY1T1J7+zVEREflTV3f3OUVUichDwGtAEeBu4Q1Xn+5wpS1XzvcuNgfZBatH8\ns2nfdI86LYiWrPshcEvSWEthihCRPnFXHwH+DUwEvhSRPqo6zZ9k5RSqqoqIAohIfb8DlTFJRHqo\n6my/g1RiI67ofxB4RlXX+JynHK9b8TzgKGA0rriZJiLtgG8IQGuSiDQHzgTOwrWmj8IV2ecAB/uX\nrMSKoBaEnm9EZPcgFzHeh5KjcL+LHYB/4p7nA4CPgV18C+d8JCInAGFgGrBWRMaq6rU+56qQiLQC\nsmLXVfU3H+NUW9QayaylMFWIyLhKblZVHVhnYSohIsOBrsBg4B5c9+JrqvqYz7lm47pJ0nD5FuK6\nj2PdJIFoyQQQkeNwxcteQCEwCfhSVcf4GiyOiEzAjdl7S1Xzytx2lqq+4k+ykgz/xQ1heAV4UVWX\nxd02VVX7+ZgtNvv0IKAN8B5xQxkC1Mp6EPABsJzg/q0sBMYBz6nqpDK3PaqqV/qTrCTDdFXtLSIX\nAB1U9R9B6jmJEZFjcQV1O1zX987AT6q6h6/Bqqltk93rtCBatv7HwLUUWlFoAkdEBgOH4d5EPgvC\nODMR2bmy21X117rKUlUisitwBHAV0EpVs32OlDRE5BBVreyDlG9E5IVKblZVPb/OwlTjc3ZEAAAb\nbUlEQVTC696+BtdqXTI5Ikh/KyKyv6p+XebYfqo60a9M8bwPowNxH05uUdXJAS0KZ+JyfuEVsYcA\nZ6rqBT5Hq5Y2TXar04Jo+fqfAlcUWvdxigny7FmvK+cLVT0E16UYGLE3MhFpVsHNOXUcp1LebMqe\nwALcDOSzge98DVWGiBwN3IH7PQwTkIHp8WvAVbQeXBBa4VT1PKi4eBGRoEzIAlilqh/4HWIrHgX6\nlDn2WAXH/HIXMAH42isIOwGBWImhjCJVXSMiIREJqeo4EQnMWHVTdVYUpp7Azp5V1YiIREWkcdCW\nKIkzDdgRWIcrZJoAy0VkBfB/qvq9n+E89wDTVTXid5BKPAycCMzWYHVXHFPJbUGbOVtR8RKkgma6\niLwGfEjAurdFZF9gANBSRK6Ju6kR7kNKIKjqG8AbcdcXAsf5l2iL1otIA+BLYJSIrAQ2+Zyp2oL1\nUuQPKwpTzw6qerjfISqRC8wWkdHEvaj4PbYnzmjgbVX9DEBEDsO1vL6AW8Zkbx+zxcwELhORA73r\nE4CngjBjNs7vwJyAFYQlrXBBliwFDZCNKwYPizsWlMI6A2iAew9sGHd8I/BXXxJVQESeoYIlX1R1\nqA9xKnMcbvmcq4EzgMaA771PpvqsKEw9QZ89+y7BeNPYkn1U9f9iV1T1cxF5QFUv8rrmg+BJ3PqO\nT3jXz/KOXehbovL+DnzsTTiJb0V6cMt32f5E5ExVfbVMsVXC73yepChoglxgq+oEYIKIvBikMY4V\n+CLuchZwAu4DVaCoanyr4Eu+BdlGQd1lpC5ZUZh69gfOFZFFBHBGoKq+JCIZlC4F8UvAWriWich1\nlHbpnAKs8MZDBmWngf6q2jPu+lhvIHiQ3IVrFc7CFTlBEVsCqWGlZ/koWQoaEdkB150dG+f4FTBM\nVf/wL5UjIg+r6lXAv2LLX8VT1WN9iFWOqr4Zf11EXgG+3sLpvimziHUG7kPpJr/HCJvqs6Iw9Rzh\nd4DKiMjBuE+ai3EF644ico6qfulnrjinA7filgEBt9bj6bhuu5P9ClVGREQ6q+oCAG9wetDGF7YL\n4iLgqvpv7/+3+Z1lS0TkQ7w3YLcWfaKgFDS4IRWvAUO862d6xwb7lqhUbMmjB3xNUX0dgdZ+hyhL\nVUs+RHkbJBwH7ONfopoJ2GgWX9iSNCkqqIuMisj3wOmxLcVEZBfgdVXt62+y5CEig3BvvgtxhfXO\nwHlBWmJFRO7DzTT/3O8sFRGRjsAVlJ+l73vB5a3/t0VeS6LvRGSGqvba2rGgEJGmwI6qOsvvLDEi\nso7SFrgQsBa4XlX/41+qqomtseh3jupo0WiXOi2IVm+ca0vSGH9taZFRICiLjKZr3B6zqjpXRNL9\nDASl3U3xrTTxglAsxKjqGHH7CnfzDv2iqoGaaQ5cAgwXkUIgNjzA9yVp4ryHW1z7Q4IzLAAITtFX\nBWtE5Ezgde/6aUCgdtcRkfHAsbj3wu+BlSIyUVUrHFNal7wWt57AEu9QNGgTs2LKLN8Uwu1fn+9T\nHLMNrChMPXfgmvUTFhn1OVO8qSLyLPCqd/0MYKqPeWIC391U0bp6ni4iEoilQGLiu5sCKl9VH/U7\nRGW8wv8eYHcSW/07+RYq0fm4MYUP4T5ITcJtJxckjVV1o4hcCLysqreKSCBaClVVReTjIA6zqED8\nUk7FuOE/QVw6p1K2zZ0Vhako6IuMXgJcBsSWoPmK0lm0vomtPxjwVppkWmMv1modWzZnvKr+z888\nZTwiIrcCn5M4Ozooe4SDGyJwK67oOgRXcIV8TRTHmwQTmBb0LUgTkba48cA3+R2mAjNEpLeqTvc7\nSGWCPNPcVI8Vhakn6IuMpgGPxJb+8Gb1BmWpl9iOESNw3e5plM7e9r11pqovzN7EHV+XjRCRkUB/\nYJR3aJi3Q8cNPsaK1wO3lM9ASruP1bseFNneUAHxCrAR3pjcW/wMJSKPUcEQi5gArTkKbi29z4CJ\nqjrFm5Q1z+dMiEiaqhYDvYEpIrIA9zode70JxALlSfZcb1VAe+frlE00STEiUh/Iw7UoxBYZHaWq\ngRjrIyLfAoeqaq53vQHwuaoO8DeZIyI/4xZo/Z64Gb1B+flVhYhM8/tNxeui66WqUe96GLcLSyCW\nRvL27d1dVQv9zrIlIjIJt8TU28BY3NizkarardI7bv9c53gX98N1bceWVRkC/KiqF/sSLInE/kZF\npHNFt8dWFvDbn+25btqgS50WROty59tEE+OvuEVGo8BLIhLCDQAfteV71amsWEEIoKq5IlLPz0Bl\nbFDVT/wOsY2C8kLUBDebEtyHkyCZg8u30u8glRgG1MMNtbgD14V8TqX3qAOxVmgRuQTY32vxQkSe\nwg0HCYwAr6UoEJzib0uS6bmuClu82orClCEijXBj9doDH+C2a7sMGI7bFi0oReEmEekTG7slIn1x\nLZu+EpFYy9o4EbkfNz4vqGPNtiYIr3z34PbGHYd7AzwQuN7fSAmaAD+LyBQSn+fAjJFT1SkAIhIN\n6Jiuprit92KFfwPvWJAEdS3FslsYJgjIzjrxkuG5NlVgRWHqeAVYB3yD2+7sRtyb8fGqOsPPYGVc\nBbwlIktx+drgdg3x2z/LXO8XdzloY822xveWQlV93VsOpL936DpVXe5jpLJu9TvA1nh7ID+HewPe\nSUR6Ahep6qX+JisxkvKF/whfE5XXUlVfiLv+oohc5VuaUmHc8+r732oVJcNzvVU2nM7GFKYMEZmt\nqj28y2FgGbCTqgZuLSlvXcL4NfaCtM1dpfyexOENB/hrZYvbisi/VPXyOoy1pRztKZ2wA0CAdq4J\nPBH5DrfX8QexRYJFZE6QljARkTbA3t7V7wJW+CMiY3Atg/FrKZ6nqoP8SxWMcb/VFfTnuioa1e9U\npwXRxk0LA1f0B2b5ArPdlRRWqhoB/ghSQSgi/b0XFbwisA9uf9x/ikgzX8NVzzA/v7k3cePvWzkn\nCAXhvbgtAm8CrvW+hvsaKo6I7CMiU0QkV0QKRSQiIhv9zlWWqv5e5lBgtjP0Fl8+FOipqu8DGSKy\nl8+xyjoftxzNctwH5b8SjLUUA1csVEREdvX+3we3IcLv3le7uCE3SSOqWqdfQWTdx6mjZ9ybmgDZ\n3vXYEgd+7yTxb9wbCCJyIK474gqgF/A07sU6GQThxfwLERmOmwlYstyQqq7d8l3q3PFAtwDutBLz\nL+BU4C3cUIGzgV18TVTe7yIyAFCvdX0YbneioHgCN6FtIG7plxzgHUqHDPjK6zE5MUjjROP42lJZ\nDdcAQyk/vAaSb1iNwbqPTRki0lRV1/nwfWeqak/v8uPAKlUd4V0P7H6pZQWh20dEFlVwOBBrKcaI\nyCfAkPiZ5kEiIlNVtZ+IzIotkxO0vVxFpAXwCO7DlOAW2h4WlOWR4pZVmR7XvV3ydx4EIjJZVYPW\neml8Ur9ehzotiDZtXhyERoQE1lJoyhqD67qta+G4BVsH4T59xiTT76nvf+Sq2tHvDFWwGbdbwxgS\nZ/cGZbHbzSKSgct4H65rMVDDbVR1NW6t0aAq8lrjFEBEWhKwfaSBiSLyL8q3qifTagK+E5EhwKeq\nmiMiN+PeQ+4I+k4sprxkerM1dcOvouZ1YIKIrMYtQfMVgIh0ATb4lClBVSZx4MbJ+cpb1/Ea3ESi\nod4eud0Cto3cB95XUJ2FKwIvxy1WviNwkq+JPEm0i8SjwH+B1iJyF24IyM3+Rion1gNxe9wx6/as\nvn+o6lsisj+u5fp+4ClKJ54khaCO86tL1n1sEvjZ/Ski+wBtcTuYbPKO7QI0iFu30Jfu7biMU1W1\n39bP9I+IvInbceVsVe3uFYmTgtYF77XExcbpBWKWuYjspKq/+Z2jMnG7SADcRpnlc/zewjCeNxFh\nEO7D5hhVDdKYR1NLYkMEROQeYLaqvha04RZVkZ29c50WRHl5v/res1SWFYUmQRDGxFXG73zi9uxd\nTYAnccSNhwvyWK6DgZeAxbiCYUfgHL+XpIn//RKRd1Q1EK2DWxL0N16v5airqr7gdR83UNWKxrz6\nQkRaA3cD7VT1CBHZHdhXVZ/zOVpSEZH/4bZZHIzrOs4DJgfpNacqsrJ2qtOCKD//t8AVhdZ9bMoK\n3C9pGX7niy2kfVncMQUCM4kDKBSRbErHcnUmbtxeQPwTOExVf4GSFuHXgb6+pkr8/QrSc7olgf1U\nLyK34mZud8OtBZgOvErplnJB8CIu203e9bm4D3xWFFbPycDhwAOqul5E2uKWmTJJJlADp832JyKd\nRSTTu3ywiFwpIk3iTgn6Ugi+vgmqascKvoJWPNwKfArsKCKjcJOHKl270AfpsYIQQFXn4ooGv+kW\nLpvqOwE4Fq9FXVWXAg19TVReC2+McBTAm+gWmLUek4WqbsbtE76/d6gYmOdfIlNT1lKYet4B+nkT\nOJ4G3sft/XkkBKsbNIiSYRKHqo4WkWnAPriWr2HeTNUgmSoiz+JajsDNop3qY56Y2Hqe8Wt5QnDW\n80REcigtWOsFMaOnUFVVRGIt1vX9DlSBTSLSnNJW9X0IyMS2ZJIkrcJbpfY50IrCFBRV1WIROQF4\nTFUfE5FkWjbA7+7jF3CTOAZ415fgFjgOTFEoIrer6i3AR971kIiMUtUgLV9yCa4LPjZT9ivcYse+\nUtWw3xm2RlWD1tq2Jf8RkX8DTUTk/3C7hzzjc6ayrsHNgu8sIhOBliTPQvlBcgLQG5gGrlVYRJLl\n99TEsaIw9RSJyGnAOcAx3rEgdNsBJePf/lDVAm8ywp7Ay6q63jvF7+7tzqp6ivczRFU3e9t5BcmO\nInKDqt7jDRX4DxC0wj8NeERVH4SS3SUy/Y1kapOqPiAig4GNuBakW1R1tM+xEqjqNBE5CJdPCMgs\n+CSUDK3CW2UTb21MYSo6D9gXuEtVF4lIR+AVnzPFeweIxHVv74jr3gYC0b2dDJM4zgd6iMgNwIfA\n+NjuMAEyBsiOu54NfOFTFlPLRCQsIuNUdbSqXquqw4NWEMbZC+iJmzV7moic7XOeZFS2VfgL4Fmf\nM5kasJbCFKOqP+J12YlIU6Chqt7rb6oEQe/eLjuJYz/gXF8TeSRxA/pHcPtJT8QtCt4nYLs0ZMVv\ncaequd54TfMnoKoREYmKSGNVDewYPRF5BegMzKB0gokCL/sWKgklQ6twVVhLoRWFKUdExuNmBKbh\nxsatFJGJqnqNr8FKBbp7O+CTOMpuSr8O2N07HrRdGjbFF6oi0he3tpn588gFZovIaBLX9AzKjivg\nJkfsrlYNbDOvCBwNJeOYz1DVUT7HMtVkRWHqaayqG0XkQtxYvVtFZJbfoeKcB1xMQLu3gzyJQ1UP\n8TtDNVwFvCUiS3HFdRvgVH8jmVr2rvcVZHNwv3vL/A6SjESkEW7CWHvchJ3R3vXhwEwgqYpC+2Rg\nO5qkHBGZDRyG203iJlWdIiKzVHVPn6OV43Vv76iqgSlaReQFYG7ZSRxBGrMnIsNws6RzcLM9+wDX\nq+rnvgYrQ0TScV1NYAP8/zSSYavAGBEZh9v/eDJxY4NV9VjfQiUREXkf1yPxDW4SYCtKe1Bm+Jmt\nJtIy2tdpQVRcuCRokxStKEw1IjIE+AcwUVUvEZFOwP1B2c6rou5tXNZAdG97M41HAbOBQ4BPVPUh\nf1Mlim1pJyJ/wbW63gy8EoTtC0Xk76p6n3d5iKq+FXfb3ap6o3/pTG1Ipq0CvZnH5ajqhLrOkoxE\nZLaq9vAuh3Etrjupar6/yUxN2ezjFKOqb6nqnqp6iXd9YcBetBur6kbgRFz39t7AoT5nQkT6eBM5\neuMmcZyCW7F/QpkJHkEQ+/R5JO5n+EPcMb/FdxHfUOa2w+syiNlukmarQK/4W4zbYWcCMAVvrT1T\nJSWt+6oawS0nZgVhErMxhSnG22P2SaC1qnYXkT2BY1X1Tp+jxaR5+2aeTOl+pEGQTJM4vheRz4GO\nwA3eIrJRnzPFyBYuV3TdJKek2SrQWz5lKNAMNwu5PfAU/q+HmixiOwBB4i5AQdtdx1SRFYWp5xnc\nRuX/BlDVWSLyGhCUovB24DNcl/EUr3vb9z00k2wSxwW4cVILvcW1m+Mm8ARBZQVDoAsIU2WB3yow\nzmW4dQq/A1DVeSLSyt9IyaOqOwCJSFNVXbe985htZ0Vh6qmnqpPLbMJR7FeYsrwxZm/FXV8IBKZ7\nO8iTOERkV1X9GVcQAnQK3mYrlRYMWf7FMrUlGbYKjFOgqoWxvxMRScM+nGwPY3CvlSbgrChMPau9\nXThiO3L8lQAtx5AE3dvnq+oj3iSO5sBZuCVzfC8Kcfu4DqV8VzcEpIs7yQoG8+c3QURuxH1AGQxc\nitsFyNSuwH06NRWz2ccpxuuOfRoYgBsXtwg4U1UX+5krRkQm4HVvq2pv79gcVe3ubzIntnyPiDyC\n2z7uvyIyPZbVGJM8RCSEG25xmHfoM1W17dlqWfyMdBNs1lKYYrzu2EO9DctDqprjd6YyAt29TbAn\ncZQQkQFAB+L+xlXVtu4yBhCR44AdVPVx4BlvwklLoK+IrFfVt/1NaIw/rChMMd6CyyfhFQyx4ktV\nb/cxVrxAd28T7EkcgO3nakwV/J3E5ZEygL5AA9yYYSsKa5d1HycJKwpTz/vABtzC0AVbOdcPl+G6\nt3cVkSV43dv+RkqaSRwxtp+rMZXLUNXf465/raprgbVeL4qpAW/mdsmEsbidbWyJnyRhYwpTTJDG\n51UmaN3bIvK0qg71tsUqS1XV90kcMSLyFnClqgaphdWYwBCR+araZQu3LVDVznWdKZmJyLG4CW7t\ncLtQ7Qz8pKp7+BrMVJu1FKaeSSLSQ1Vn+x2kIkHt3lbVod7/A7teoYh8iOsmbgj8KCK2n6sxFftO\nRP5PVZ+JPygiF+H2QTbVcwewD/CFqvYWkUMIQA+PqT4rClPP/sC5IrIIVzDEFpTd099YJYLevR3k\nSRxjgXTcNl1FWznXmFR2NfCeiJxO6bZ2fYFM4HjfUiWvIlVdIyIhEQmp6jgRedjvUKb6rChMPUf4\nHWArdlDVwO6BG/BJHO1xSw3dAMwCJgKTgEneeCljDKCqK4EBIjIQiHVxfqSqY32MlczWi0gD4Etg\nlIisBDb5nMnUgI0pTBEi0khVN4pIs4puD0rRICJPA48FuHv7JwI+iUNEMnCTTQYA+3pf61V1d1+D\nGWP+lLwx4Pm4nqczgMbAKFVd42swU23WUpg6XgOOxnXLKolLBCjQyY9QFQh69/YcoA3BWianrGyg\nEe6FuTGwFAhkkW2MSX6qGt8q+JJvQcw2s5ZCEygisnNFx1X117rOEq/MJI5euMHogZrE4bWy7oHb\nl/k74FvgW9uI3hizPYjI16q6v4jkUNrYUPJ/VW3ka0BTbdZSmIJE5ERci5wCX6nqez5HKunexhU0\nQZQMkzh2wg2UnwcsAf4A1vuayBjzp6Wq+3v/b+h3FlM7rKUwxYjIE0AX4HXv0CnAAlW9zL9UICL/\nU9WjvW7jct3bqupr97aIPIAbo7cbAZ7EIW4Nnz1wWQcA3YG1wDeqequf2Ywxf14i0ofSxoavVXW6\nz5FMDVhRmGJE5Gdgt9hECW9D+B9UdTd/kyWHZJnEISI7APvhch4NNFfVJv6mMsb8GYnILcAQ4F3v\n0PHAW6p6p3+pTE1Y93HqmY/rZoyN0dvROxYYQezejhPYSRwiciWlLYRFeC2ZwPMEJKMx5k/pDKCn\nquYDiMhI3LJdVhQmGSsKU09D4CdvtwuA/sBUEfkA/J8wUUH39sUiMjgA3dtlJ3FMAh4M2CSODsBb\nwNW2xZ0xpg4txe15nO9dz8SNazZJxrqPU4yIHFTZ7ao6oa6yVCSo3dsi8inQArckzSTgG2BOkNcr\nNMaYuiAi7+EaGEbjengG41Zo+ANAVa/0L52pDmspTDGqOkFE2gB74f54p6jqcp9jxQtk97aqHl5m\nEsffgO4iYpM4jDGp7r/eV8x4n3KYbWQthSlGRC4EbsEtsSLAQcDtqvq8r8E8IjIB94kzoXsbtx+y\n793bYJM4jDGmLG8S3i7e1V9UNahLd5lKWFGYYkTkF2BAbPshEWmOW1alm7/JnKB2b1cyiWMSMFtV\no37kMsYYv4nIwbidTBbjGht2BM5R1S99jGVqwLqPU88aEheIzvGOBUKAu7c7YJM4jDGmIv8EDlPV\nXwBEZBfcZMG+vqYy1WYthSlGRF4GegDv44qu43CLMc8CUNUH/UsX/O5tY4wxiURkVtn96Ss6ZoLP\nisIUIyKVTohQ1dvqKktFgt69bYwxJpGIPA9EgVe9Q2cAYVU9379UpiasKDSBIiKTgINVtdC7ngGM\nV9UB/iYzxhhTERHJBC7DbToA8BXweOx13CQPKwpTjIi0BP6OW1olK3ZcVQf6FipO0Lu3jTHGJBKR\nYar6yNaOmeAL+R3A1LlRwM9AR+A23GyxKX4GKmMB8B6uIARXHC7C7cTS0K9QxhhjtuicCo6dW9ch\nzLazlsIUIyLfq2rf+EHAIjJFVfv7nc0YY0zyEJHTgNNx3cZfxd3UCIio6iBfgpkasyVpUk9sQdFl\nInIUbs/KZj7mSRD07m1jjDElJgHLcFuA/jPueA7ekB+TXKwoTD13ikhj3DZtj+E+0V3tb6QEo4A3\ncTuFXIzrlljlayJjjDHlqOqvwK8iciiQp6pRb43CXYHZ/qYzNWHdxyZQrHvbGGOSi4h8DxwANAUm\n4sapF6rqGb4GM9VmLYUpQkQeo3TyRjmqemUdxqlMoLu3jTHGlCOqullELgCeUNX7RGSG36FM9VlR\nmDqmxl2+Dah0EWsfBb172xhjTCIRkX1xi1Zf4B0L+5jH1JB1H6cgEZmuqr39zmGMMSb5iciBwHBg\noqreKyKdgKsC1ANlqsiKwhQkItNUtY/fOeIlUfe2McaYOCLSQ1VtYsmfgHUfm6BIlu5tY4wxiZ7w\ntrp7ERilqht8zmNqyFoKU4SI5FDaElcP2By7CVBVbeRLsApY97YxxiQXbyma84AhwGTgRVX93N9U\nprqsKDSBE8TubWOMMZUTkTBwPPAosBHX6HCjqr7razBTZbb3sTHGGGNqTET2FJGHgJ+AgcAxqrqb\nd/khX8OZarGWQhMIydS9bYwxppSITACeBd5W1bwyt52lqq/4k8xUlxWFxhhjjNkm3r71qKptS5rE\nrPvYGGOMMdUmzggRWQX8AswVkVUicovf2UzNWFFojDHGmJq4GtgP2EtVm6lqU2BvYD8RsZ2okpB1\nHxtjjDGm2kRkOjBYVVeXOd4S+NyWFks+1lJojDHGmJpIL1sQQsm4wnQf8phtZEWhMcYYY2qisIa3\nmYCy7mNjjDHGVJuIRIBNFd0EZKmqtRYmGSsKjTHGGGOMdR8bY4wxxhgrCo0xxhhjDFYUGmOMMcYY\nrCg0xhhjjDHA/wOoV5okoEVOMwAAAABJRU5ErkJggg==\n",
            "text/plain": [
              "<Figure size 720x720 with 2 Axes>"
            ]
          },
          "metadata": {
            "tags": []
          }
        }
      ]
    },
    {
      "metadata": {
        "id": "nG1wfuRax46v",
        "colab_type": "text"
      },
      "cell_type": "markdown",
      "source": [
        "## Principal Component Analysis"
      ]
    },
    {
      "metadata": {
        "id": "gL5_z7cgxIVN",
        "colab_type": "code",
        "outputId": "b4ab145c-5f10-4e3a-bb7e-721617689787",
        "colab": {
          "base_uri": "https://localhost:8080/",
          "height": 428
        }
      },
      "cell_type": "code",
      "source": [
        "data_2018.head()"
      ],
      "execution_count": 7,
      "outputs": [
        {
          "output_type": "execute_result",
          "data": {
            "text/html": [
              "<div>\n",
              "<style scoped>\n",
              "    .dataframe tbody tr th:only-of-type {\n",
              "        vertical-align: middle;\n",
              "    }\n",
              "\n",
              "    .dataframe tbody tr th {\n",
              "        vertical-align: top;\n",
              "    }\n",
              "\n",
              "    .dataframe thead th {\n",
              "        text-align: right;\n",
              "    }\n",
              "</style>\n",
              "<table border=\"1\" class=\"dataframe\">\n",
              "  <thead>\n",
              "    <tr style=\"text-align: right;\">\n",
              "      <th></th>\n",
              "      <th>Country</th>\n",
              "      <th>Region</th>\n",
              "      <th>Happiness_Rank</th>\n",
              "      <th>Happiness_Score</th>\n",
              "      <th>Whisker_high</th>\n",
              "      <th>Whisker_low</th>\n",
              "      <th>Economy</th>\n",
              "      <th>Family</th>\n",
              "      <th>Health</th>\n",
              "      <th>Freedom</th>\n",
              "      <th>Generosity</th>\n",
              "      <th>Trust</th>\n",
              "      <th>Dystopia_Residual</th>\n",
              "    </tr>\n",
              "  </thead>\n",
              "  <tbody>\n",
              "    <tr>\n",
              "      <th>0</th>\n",
              "      <td>Afghanistan</td>\n",
              "      <td>Southern Asia</td>\n",
              "      <td>141</td>\n",
              "      <td>3.794</td>\n",
              "      <td>3.873661</td>\n",
              "      <td>3.714338</td>\n",
              "      <td>0.401477</td>\n",
              "      <td>0.581543</td>\n",
              "      <td>0.180747</td>\n",
              "      <td>0.106180</td>\n",
              "      <td>0.311871</td>\n",
              "      <td>0.061158</td>\n",
              "      <td>2.150801</td>\n",
              "    </tr>\n",
              "    <tr>\n",
              "      <th>1</th>\n",
              "      <td>Albania</td>\n",
              "      <td>Central and Eastern Europe</td>\n",
              "      <td>109</td>\n",
              "      <td>4.644</td>\n",
              "      <td>4.752464</td>\n",
              "      <td>4.535536</td>\n",
              "      <td>0.996193</td>\n",
              "      <td>0.803685</td>\n",
              "      <td>0.731160</td>\n",
              "      <td>0.381499</td>\n",
              "      <td>0.201313</td>\n",
              "      <td>0.039864</td>\n",
              "      <td>1.490442</td>\n",
              "    </tr>\n",
              "    <tr>\n",
              "      <th>2</th>\n",
              "      <td>Algeria</td>\n",
              "      <td>Middle East and Northern Africa</td>\n",
              "      <td>53</td>\n",
              "      <td>5.872</td>\n",
              "      <td>5.978286</td>\n",
              "      <td>5.765714</td>\n",
              "      <td>1.091864</td>\n",
              "      <td>1.146217</td>\n",
              "      <td>0.617585</td>\n",
              "      <td>0.233336</td>\n",
              "      <td>0.069437</td>\n",
              "      <td>0.146096</td>\n",
              "      <td>2.567604</td>\n",
              "    </tr>\n",
              "    <tr>\n",
              "      <th>3</th>\n",
              "      <td>Angola</td>\n",
              "      <td>Sub-Saharan Africa</td>\n",
              "      <td>140</td>\n",
              "      <td>3.795</td>\n",
              "      <td>3.951642</td>\n",
              "      <td>3.638358</td>\n",
              "      <td>0.858428</td>\n",
              "      <td>1.104412</td>\n",
              "      <td>0.049869</td>\n",
              "      <td>0.000000</td>\n",
              "      <td>0.097926</td>\n",
              "      <td>0.069720</td>\n",
              "      <td>1.614482</td>\n",
              "    </tr>\n",
              "    <tr>\n",
              "      <th>4</th>\n",
              "      <td>Argentina</td>\n",
              "      <td>Latin America and Caribbean</td>\n",
              "      <td>24</td>\n",
              "      <td>6.599</td>\n",
              "      <td>6.690085</td>\n",
              "      <td>6.507915</td>\n",
              "      <td>1.185295</td>\n",
              "      <td>1.440451</td>\n",
              "      <td>0.695137</td>\n",
              "      <td>0.494519</td>\n",
              "      <td>0.109457</td>\n",
              "      <td>0.059740</td>\n",
              "      <td>2.614005</td>\n",
              "    </tr>\n",
              "  </tbody>\n",
              "</table>\n",
              "</div>"
            ],
            "text/plain": [
              "       Country                           Region  Happiness_Rank  \\\n",
              "0  Afghanistan                    Southern Asia             141   \n",
              "1      Albania       Central and Eastern Europe             109   \n",
              "2      Algeria  Middle East and Northern Africa              53   \n",
              "3       Angola               Sub-Saharan Africa             140   \n",
              "4    Argentina      Latin America and Caribbean              24   \n",
              "\n",
              "   Happiness_Score  Whisker_high  Whisker_low   Economy    Family    Health  \\\n",
              "0            3.794      3.873661     3.714338  0.401477  0.581543  0.180747   \n",
              "1            4.644      4.752464     4.535536  0.996193  0.803685  0.731160   \n",
              "2            5.872      5.978286     5.765714  1.091864  1.146217  0.617585   \n",
              "3            3.795      3.951642     3.638358  0.858428  1.104412  0.049869   \n",
              "4            6.599      6.690085     6.507915  1.185295  1.440451  0.695137   \n",
              "\n",
              "    Freedom  Generosity     Trust  Dystopia_Residual  \n",
              "0  0.106180    0.311871  0.061158           2.150801  \n",
              "1  0.381499    0.201313  0.039864           1.490442  \n",
              "2  0.233336    0.069437  0.146096           2.567604  \n",
              "3  0.000000    0.097926  0.069720           1.614482  \n",
              "4  0.494519    0.109457  0.059740           2.614005  "
            ]
          },
          "metadata": {
            "tags": []
          },
          "execution_count": 7
        }
      ]
    },
    {
      "metadata": {
        "id": "HQiYzFz3zSOD",
        "colab_type": "code",
        "colab": {}
      },
      "cell_type": "code",
      "source": [
        "X_df = data_2018[['Economy', 'Family', 'Health', 'Freedom', 'Generosity','Trust','Dystopia_Residual']]\n",
        "y_df = data_2018[\"Happiness_Score\"]\n",
        "X = X_df.values\n",
        "y = y_df.values"
      ],
      "execution_count": 0,
      "outputs": []
    },
    {
      "metadata": {
        "id": "__A_ZFQX1C_s",
        "colab_type": "text"
      },
      "cell_type": "markdown",
      "source": [
        "## Data Standardisation"
      ]
    },
    {
      "metadata": {
        "id": "FHQUhZShRxRD",
        "colab_type": "text"
      },
      "cell_type": "markdown",
      "source": [
        "Standardization refers to shifting the distribution of each attribute to have a mean of zero and a standard deviation of one (unit variance). It is useful to standardize attributes for a model. Standardization of datasets is a common requirement for many machine learning estimators implemented in scikit-learn; they might behave badly if the individual features do not more or less look like standard normally distributed data"
      ]
    },
    {
      "metadata": {
        "id": "IEpb03L11HPW",
        "colab_type": "code",
        "colab": {}
      },
      "cell_type": "code",
      "source": [
        "from sklearn.preprocessing import StandardScaler\n",
        "X_std = StandardScaler().fit_transform(X)"
      ],
      "execution_count": 0,
      "outputs": []
    },
    {
      "metadata": {
        "id": "mUiK67n00XOR",
        "colab_type": "text"
      },
      "cell_type": "markdown",
      "source": [
        "## Computing Eigenvectors and Eigenvalues"
      ]
    },
    {
      "metadata": {
        "id": "X6M2v4wE1LfB",
        "colab_type": "text"
      },
      "cell_type": "markdown",
      "source": [
        "Before computing Eigen vectors and values we need to calculate covariance matrix."
      ]
    },
    {
      "metadata": {
        "id": "4xfghBBy1Oin",
        "colab_type": "text"
      },
      "cell_type": "markdown",
      "source": [
        "### Covariance matrix"
      ]
    },
    {
      "metadata": {
        "id": "rCbC09UP1N7x",
        "colab_type": "code",
        "outputId": "6991e0fd-0e70-4053-b31d-72daae5ffe4f",
        "colab": {
          "base_uri": "https://localhost:8080/",
          "height": 272
        }
      },
      "cell_type": "code",
      "source": [
        "mean_vec = np.mean(X_std, axis=0)\n",
        "cov_mat = (X_std - mean_vec).T.dot((X_std - mean_vec)) / (X_std.shape[0]-1)\n",
        "print('Covariance matrix \\n%s' %cov_mat)"
      ],
      "execution_count": 11,
      "outputs": [
        {
          "output_type": "stream",
          "text": [
            "Covariance matrix \n",
            "[[ 1.00689655  0.6648755   0.83176787  0.40229111 -0.01650139  0.39689412\n",
            "   0.1102004 ]\n",
            " [ 0.6648755   1.00689655  0.5853608   0.45253244  0.07317343  0.2637419\n",
            "   0.14374024]\n",
            " [ 0.83176787  0.5853608   1.00689655  0.38501861  0.05870315  0.31360812\n",
            "   0.13706971]\n",
            " [ 0.40229111  0.45253244  0.38501861  1.00689655  0.33323511  0.50177215\n",
            "   0.0710739 ]\n",
            " [-0.01650139  0.07317343  0.05870315  0.33323511  1.00689655  0.28857941\n",
            "  -0.13037877]\n",
            " [ 0.39689412  0.2637419   0.31360812  0.50177215  0.28857941  1.00689655\n",
            "  -0.0209424 ]\n",
            " [ 0.1102004   0.14374024  0.13706971  0.0710739  -0.13037877 -0.0209424\n",
            "   1.00689655]]\n"
          ],
          "name": "stdout"
        }
      ]
    },
    {
      "metadata": {
        "id": "fD3SEcc31NVG",
        "colab_type": "code",
        "outputId": "4b270e3f-31e0-403b-e328-f36be6c0f917",
        "colab": {
          "base_uri": "https://localhost:8080/",
          "height": 272
        }
      },
      "cell_type": "code",
      "source": [
        "print('NumPy covariance matrix: \\n%s' %np.cov(X_std.T))"
      ],
      "execution_count": 13,
      "outputs": [
        {
          "output_type": "stream",
          "text": [
            "NumPy covariance matrix: \n",
            "[[ 1.00689655  0.6648755   0.83176787  0.40229111 -0.01650139  0.39689412\n",
            "   0.1102004 ]\n",
            " [ 0.6648755   1.00689655  0.5853608   0.45253244  0.07317343  0.2637419\n",
            "   0.14374024]\n",
            " [ 0.83176787  0.5853608   1.00689655  0.38501861  0.05870315  0.31360812\n",
            "   0.13706971]\n",
            " [ 0.40229111  0.45253244  0.38501861  1.00689655  0.33323511  0.50177215\n",
            "   0.0710739 ]\n",
            " [-0.01650139  0.07317343  0.05870315  0.33323511  1.00689655  0.28857941\n",
            "  -0.13037877]\n",
            " [ 0.39689412  0.2637419   0.31360812  0.50177215  0.28857941  1.00689655\n",
            "  -0.0209424 ]\n",
            " [ 0.1102004   0.14374024  0.13706971  0.0710739  -0.13037877 -0.0209424\n",
            "   1.00689655]]\n"
          ],
          "name": "stdout"
        }
      ]
    },
    {
      "metadata": {
        "id": "H9G-jjWq1Kli",
        "colab_type": "code",
        "outputId": "e6333f13-1557-45ff-99c7-014d7ff1172d",
        "colab": {
          "base_uri": "https://localhost:8080/",
          "height": 490
        }
      },
      "cell_type": "code",
      "source": [
        "plt.figure(figsize=(8,8))\n",
        "sns.heatmap(cov_mat, vmax=1, square=True,annot=True)\n",
        "\n",
        "plt.title('Correlation between different features')"
      ],
      "execution_count": 14,
      "outputs": [
        {
          "output_type": "execute_result",
          "data": {
            "text/plain": [
              "Text(0.5, 1.0, 'Correlation between different features')"
            ]
          },
          "metadata": {
            "tags": []
          },
          "execution_count": 14
        },
        {
          "output_type": "display_data",
          "data": {
            "image/png": "iVBORw0KGgoAAAANSUhEUgAAAccAAAHICAYAAAA7qiFnAAAABHNCSVQICAgIfAhkiAAAAAlwSFlz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\n/qT7wAvheQAAAABJRU5ErkJggg==\n",
            "text/plain": [
              "<Figure size 576x576 with 2 Axes>"
            ]
          },
          "metadata": {
            "tags": []
          }
        }
      ]
    },
    {
      "metadata": {
        "id": "XBU6iZpv1aoc",
        "colab_type": "text"
      },
      "cell_type": "markdown",
      "source": [
        "### Eigen decomposition of the covariance matrix"
      ]
    },
    {
      "metadata": {
        "id": "JxcK9-160YAc",
        "colab_type": "code",
        "outputId": "d45f018e-6f2c-4794-bf5a-bd3da6a6a345",
        "colab": {
          "base_uri": "https://localhost:8080/",
          "height": 340
        }
      },
      "cell_type": "code",
      "source": [
        "eig_vals, eig_vecs = np.linalg.eig(cov_mat)\n",
        "\n",
        "print('Eigenvectors \\n%s' %eig_vecs)\n",
        "print('\\nEigenvalues \\n%s' %eig_vals)"
      ],
      "execution_count": 15,
      "outputs": [
        {
          "output_type": "stream",
          "text": [
            "Eigenvectors \n",
            "[[-0.50019631 -0.24231413  0.75941344  0.23961647 -0.07768169 -0.22469713\n",
            "   0.02096274]\n",
            " [-0.45211513 -0.17782835 -0.17434311  0.07277267  0.66462896  0.42666075\n",
            "  -0.32327474]\n",
            " [-0.47937357 -0.22934236 -0.59955822  0.19459243 -0.39080925 -0.38278635\n",
            "  -0.14494664]\n",
            " [-0.40564177  0.31138703  0.04109732 -0.24560243 -0.52008715  0.6317362\n",
            "   0.08307863]\n",
            " [-0.13732408  0.66245883  0.10668137 -0.2160293   0.08099895 -0.36148147\n",
            "  -0.58907652]\n",
            " [-0.3512783   0.3805001  -0.13780354 -0.09605421  0.34822898 -0.24963682\n",
            "   0.72112761]\n",
            " [-0.09379206 -0.42008227  0.03695838 -0.8849894   0.03445482 -0.16990702\n",
            "  -0.0103074 ]]\n",
            "\n",
            "Eigenvalues \n",
            "[3.02611189 1.3780328  0.15037021 0.92072576 0.38542606 0.52807205\n",
            " 0.65953709]\n"
          ],
          "name": "stdout"
        }
      ]
    },
    {
      "metadata": {
        "id": "FhdiJvfx1gyw",
        "colab_type": "text"
      },
      "cell_type": "markdown",
      "source": [
        "## Selecting Principal Components\n",
        "T In order to decide which eigenvector(s) can dropped without losing too much information for the construction of lower-dimensional subspace, we need to inspect the corresponding eigenvalues: The eigenvectors with the lowest eigenvalues bear the least information about the distribution of the data; those are the ones can be dropped."
      ]
    },
    {
      "metadata": {
        "id": "i7J5GcPM1eN6",
        "colab_type": "code",
        "outputId": "8e3dc0b6-acec-416f-c936-6e9aebf97193",
        "colab": {
          "base_uri": "https://localhost:8080/",
          "height": 153
        }
      },
      "cell_type": "code",
      "source": [
        "# Make a list of (eigenvalue, eigenvector) tuples\n",
        "eig_pairs = [(np.abs(eig_vals[i]), eig_vecs[:,i]) for i in range(len(eig_vals))]\n",
        "\n",
        "# Sort the (eigenvalue, eigenvector) tuples from high to low\n",
        "eig_pairs.sort(key=lambda x: x[0], reverse=True)\n",
        "\n",
        "# Visually confirm that the list is correctly sorted by decreasing eigenvalues\n",
        "print('Eigenvalues in descending order:')\n",
        "for i in eig_pairs:\n",
        "    print(i[0])"
      ],
      "execution_count": 16,
      "outputs": [
        {
          "output_type": "stream",
          "text": [
            "Eigenvalues in descending order:\n",
            "3.0261118901002853\n",
            "1.3780328001023032\n",
            "0.920725758215546\n",
            "0.659537092423095\n",
            "0.5280720501378545\n",
            "0.38542605775753513\n",
            "0.15037021333235356\n"
          ],
          "name": "stdout"
        }
      ]
    },
    {
      "metadata": {
        "id": "mmLhyqUc1o7u",
        "colab_type": "text"
      },
      "cell_type": "markdown",
      "source": [
        "Explained Variance After sorting the eigenpairs, the next question is \"how many principal components are we going to choose for our new feature subspace?\" A useful measure is the so-called \"explained variance,\" which can be calculated from the eigenvalues. The explained variance tells us how much information (variance) can be attributed to each of the principal components.\n",
        "\n"
      ]
    },
    {
      "metadata": {
        "id": "EJfzJpkZ1nKQ",
        "colab_type": "code",
        "colab": {}
      },
      "cell_type": "code",
      "source": [
        "tot = sum(eig_vals)\n",
        "var_exp = [(i / tot)*100 for i in sorted(eig_vals, reverse=True)]\n"
      ],
      "execution_count": 0,
      "outputs": []
    },
    {
      "metadata": {
        "id": "nC1RRaF31qWr",
        "colab_type": "code",
        "outputId": "aff8e82a-8d71-46b7-f875-2d6c301d39cb",
        "colab": {
          "base_uri": "https://localhost:8080/",
          "height": 441
        }
      },
      "cell_type": "code",
      "source": [
        "#with plt.style.context('dark_background'):\n",
        "plt.figure(figsize=(8, 6))\n",
        "plt.grid()\n",
        "plt.bar(range(7), var_exp, alpha=0.5, align='center',\n",
        "        label='individual explained variance')\n",
        "plt.ylabel('Explained variance ratio')\n",
        "plt.xlabel('Principal components')\n",
        "plt.legend(loc='best')\n",
        "plt.tight_layout()"
      ],
      "execution_count": 27,
      "outputs": [
        {
          "output_type": "display_data",
          "data": {
            "image/png": "iVBORw0KGgoAAAANSUhEUgAAAjgAAAGoCAYAAABL+58oAAAABHNCSVQICAgIfAhkiAAAAAlwSFlz\nAAALEgAACxIB0t1+/AAAADl0RVh0U29mdHdhcmUAbWF0cGxvdGxpYiB2ZXJzaW9uIDMuMC4zLCBo\ndHRwOi8vbWF0cGxvdGxpYi5vcmcvnQurowAAIABJREFUeJzt3XuUXWV9//H3N5cyhETupEjyM7FC\niAkhlyGCUEgCKVgoooCAoAQULIoC/lS8LMul6SptqViwPzFcBKoYMGCBVJAgDCJCIROuSbgJQUNV\nEDAQJGlCvr8/ZicOmdvJzJxzJnver7VmnbP32Xs/3/NMVvLJ3s/eT2QmkiRJZTKg3gVIkiT1NgOO\nJEkqHQOOJEkqHQOOJEkqHQOOJEkqHQOOJEkqHQOOJEkqHQOOJEkqHQOOJEkqnUH1LqASO+ywQ44a\nNareZfSKN954g6222qreZfQp9klb9klb9kn77Je27JO2ytQnzc3Nv8/MHbvabrMIOKNGjWLhwoX1\nLqNXNDU1MW3atHqX0afYJ23ZJ23ZJ+2zX9qyT9oqU59ExPOVbOclKkmSVDoGHEmSVDoGHEmSVDqb\nxRgcSVLH1qxZw/Lly1m1alW9S+kTtt56a5YuXVrvMvqUzbFPGhoaGDFiBIMHD+7W/gYcSdrMLV++\nnGHDhjFq1Cgiot7l1N3rr7/OsGHD6l1Gn7K59Ulm8vLLL7N8+XJGjx7drWN4iUqSNnOrVq1i++23\nN9yoNCKC7bffvkdnJQ04klQChhuVTU//TBtwJElS6TgGR5JK5qIFT/Xq8c6auVuX27z//e/nF7/4\nRcXHbGpq4sILL2T+/PncfPPNLFmyhC9/+csdbv93f/d37L///hx00EEdHqc71j9IdocddujW/l2Z\nNWsWhx12GEcddVSH23T03bpj2rRpXHjhhTQ2Nvb4WK31Zo21YsCRJPXYpoSbjR1++OEcfvjhnW5z\n/vnnd/v4fV1f/25vvfVWn6+xPV6ikiT12NChQ4E/TQlw1FFHsfvuu3P88ceTmQDcdttt7L777kye\nPJkbb7xxw75XXXUVp59+OitWrOBd73oX69atA1rmTxo5ciRr1qxh1qxZzJs3r9PjnHvuuVx44YUb\nlsePH8+yZcsAOOKII5gyZQrjxo1jzpw5XX6f22+/nX322YfJkydz9NFHs3LlSlasWMGYMWN48skn\nATjuuOO47LLLNnz/s846i3HjxnHggQfy0ksvtTnm+eefz1577cX48eM59dRTN/RL6+82atQozjnn\nHCZPnswee+zBE088saEvTj75ZKZOncqkSZO46aabAHjzzTc59thjGTt2LB/60Id4880327R72223\n8fGPf3zDclNTE4cddhgAp512Go2NjYwbN45zzjlnwzajRo3i7LPPZvLkyfzwhz98W40dfY9p06Zx\n9tlnM3XqVHbbbTfuueceoCUgfeELX2D8+PFMmDCBSy65BIDm5mYOOOAApkyZwsEHH8xvfvObLn8v\nm8KAI0nqVQ899BDf/OY3WbJkCc8++yz33nsvq1at4pRTTuGWW26hubmZ3/72t23223rrrZk4cSJ3\n3303APPnz+fggw9+23NQKjlOe6688kqam5tZuHAhF198MS+//HKH2/7+979n9uzZ3HHHHSxatIjG\nxka+8Y1vsPXWW/Otb32LWbNmMXfuXF599VVOOeUUoCWANDY2snjxYg444ADOO++8Nsc9/fTTefDB\nB3n88cd58803O7ystsMOO7Bo0SJOO+20DYHtH/7hH5gxYwYPPPAAd911F1/84hd54403+Pa3v82Q\nIUNYunQp5513Hs3NzW2Od9BBB7Fw4ULeeOMNAK677jqOPfbYDcdduHAhjz76KHfffTePPvrohv22\n3357Fi1atGHbSr7H2rVreeCBB/jmN7+5oQ/mzJnDsmXLePjhh3n00Uc5/vjjWbNmDZ/97GeZN28e\nzc3NnHzyyXzta1/r8HfSHQYcSVKvmjp1KiNGjGDAgAFMnDiRZcuW8cQTTzB69Gh23XVXIoITTjih\n3X2POeYYrrvuOgDmzp3LMccc87bPKz3Oxi6++GL23HNP9t57b37961/z9NNPd7jt/fffz5IlS9h3\n332ZOHEiV199Nc8/3zK/48yZM9ljjz34zGc+w+WXX75hnwEDBmyo9YQTTuDnP/95m+PeddddvO99\n72OPPfbgzjvvZPHixe22/+EPfxiAKVOmbDgDdfvtt3PBBRcwceJEpk2bxqpVq/jVr37Fz372sw19\nMGHCBCZMmNDmeIMGDeKggw7illtuYe3atfzXf/0XH/zgBwG4/vrrmTx5MpMmTWLx4sUsWbJkw34b\n930l36O92u+44w4+9alPMWhQy6iY7bbbjieffJLHH3+cmTNnMnHiRGbPns3y5cvbba+7HIMjSepV\nW2yxxYb3AwcOZO3atRXve/jhh/PVr36VV155hebmZmbMmFHxvoMGDdpweQvY8AyVpqYm7rjjDu67\n7z6GDBmyISB0JDOZOXMmP/jBD9p8tm7dOpYuXcqQIUN49dVXGTFiRLvH2PgW51WrVvHpT3+ahQsX\nMnLkSM4999wOa1jff637LjO54YYbGDNmTCc90LEjjzySK6+8ku22247GxkaGDRvGc889x4UXXsiD\nDz7Itttuy6xZs95W01ZbbdXmOF19j/Zqb09mMm7cOO67775ufZ9KeAZHklR1u+++O8uWLeOXv/wl\nQLvhAVrGsuy1116cccYZHHbYYQwcOLDi44waNYpFixYBsGjRIp577jkAVqxYwbbbbsuQIUN44okn\nuP/++zutde+99+bee+/lmWeeAVouPz31VMudaRdddBFjx47l2muv5aSTTmLNmjVAS/BZP0bl2muv\nZb/99nvbMdeHgB122IGVK1du2LZSBx98MJdccsmG8S4PPfQQAPvvvz/XXnstAI8//vjbLjG1tt9+\n+7Fo0SIuu+yyDZecXnvtNbbaaiu23nprfve733Hrrbd2WUd3vsfMmTP5zne+syHwvPLKK4wZM4aX\nXnppQ8BZs2ZNh2e0usszOJJUMpXc1l1rDQ0NzJkzh0MPPZQhQ4bwl3/5l7z++uvtbnvMMcdw9NFH\n09TUtEnHOfLII7nmmmuYOnUq++yzD7vt1tIPhxxyCJdeeiljx45lzJgx7L333p3WuuOOO3LVVVdx\n3HHHsXr1agBmz55NZnL55ZfzwAMPMGzYMPbff39mz57Neeedx1ZbbcUDDzzA7Nmz2WmnnTZcZltv\nm2224ZRTTmH8+PH8+Z//OXvttdcm9d/Xv/51zjzzTCZMmMC6desYPXo08+fP57TTTuOkk05i7Nix\njB07lilTprS7/8CBAznssMO46qqruPrqqwHYc889mTRpErvvvjsjR45k33337bKO7nyPT37ykzz1\n1FNMmDCBwYMHc8opp3D66aczb948Pve5z7FixQrWrl3LmWeeybhx4zapXzoT69NgX9bY2JgLFy6s\nyrF7+3kRXdll1XO80NC9eTW6oy/+Rbex9Xdd6E/sk7bsk/Y1NTUxfPhwxo4dW+9S+ox6zLs0dOhQ\nVq5cWdM2N8XmNhfVekuXLm3zZzsimjOzywf9eIlKkiSVjgFHkqQe6stnb/orA44klcDmMNxA2hQ9\n/TNtwJGkzVxDQwMvv/yyIUelkZm8/PLLNDQ0dPsY3kUlSZu5ESNGsHz58nanB+iPVq1a1aN/GMto\nc+yThoaGDp8zVAkDjiRt5gYPHszo0bW7O7Ova2pqYtKkSfUuo0/pj33iJSpJklQ6BhxJklQ6BhxJ\nklQ6BhxJklQ6BhxJklQ6BhxJklQ6BhxJklQ6BhxJklQ6BhxJklQ6BhxJklQ6BhxJklQ6BhxJklQ6\nBhxJklQ6BhxJklQ6VQ84ETEwIh6KiPnF8uiI+O+IeCYirouIP6t2DZIkqX+pxRmcM4ClrZb/Cbgo\nM98DvAp8ogY1SJKkfqSqASciRgCHApcXywHMAOYVm1wNHFHNGiRJUv8TmVm9g0fMA/4RGAZ8AZgF\n3F+cvSEiRgK3Zub4dvY9FTgVYPjw4VPmzp1blRpffH11VY7bkcHrVrNmwBY1a2+nYbVrq7tWrlzJ\n0KFD611Gn2KftGWftM9+acs+aatMfTJ9+vTmzGzsartB1SogIg4DXszM5oiYtqn7Z+YcYA5AY2Nj\nTpu2yYeoyEULnqrKcTuyy6rneKFhdM3a+8i03WrWVnc1NTVRrd/v5so+acs+aZ/90pZ90lZ/7JOq\nBRxgX+DwiPhroAF4B/BvwDYRMSgz1wIjgBeqWIMkSeqHqjYGJzO/kpkjMnMUcCxwZ2YeD9wFHFVs\ndiJwU7VqkCRJ/VM9noNzNvD5iHgG2B64og41SJKkEqvmJaoNMrMJaCrePwtMrUW7kiSpf/JJxpIk\nqXQMOJIkqXQMOJIkqXQMOJIkqXQMOJIkqXQMOJIkqXQMOJIkqXQMOJIkqXQMOJIkqXQMOJIkqXQM\nOJIkqXQMOJIkqXQMOJIkqXQMOJIkqXQMOJIkqXQMOJIkqXQMOJIkqXQMOJIkqXQMOJIkqXQMOJIk\nqXQMOJIkqXQMOJIkqXQMOJIkqXQMOJIkqXQMOJIkqXQMOJIkqXQMOJIkqXQMOJIkqXQMOJIkqXQM\nOJIkqXQMOJIkqXQMOJIkqXQMOJIkqXQMOJIkqXQMOJIkqXQMOJIkqXQMOJIkqXQMOJIkqXQMOJIk\nqXQMOJIkqXQMOJIkqXQMOJIkqXQMOJIkqXQMOJIkqXQMOJIkqXQMOJIkqXQMOJIkqXQMOJIkqXQM\nOJIkqXQMOJIkqXQMOJIkqXQMOJIkqXQMOJIkqXQMOJIkqXQMOJIkqXQMOJIkqXQMOJIkqXQMOJIk\nqXQMOJIkqXQMOJIkqXQMOJIkqXQMOJIkqXQMOJIkqXQMOJIkqXQMOJIkqXQMOJIkqXQMOJIkqXQM\nOJIkqXQMOJIkqXQMOJIkqXQMOJIkqXQMOJIkqXQMOJIkqXQMOJIkqXSqFnAioiEiHoiIRyJicUSc\nV6wfHRH/HRHPRMR1EfFn1apBkiT1T9U8g7MamJGZewITgUMiYm/gn4CLMvM9wKvAJ6pYgyRJ6oeq\nFnCyxcpicXDxk8AMYF6x/mrgiGrVIEmS+qeqjsGJiIER8TDwIrAA+CXwh8xcW2yyHNilmjVIkqT+\nJzKz+o1EbAP8CPg6cFVxeYqIGAncmpnj29nnVOBUgOHDh0+ZO3duVWp78fXVVTluRwavW82aAVvU\nrL2dhtWure5auXIlQ4cOrXcZfYp90pZ90j77pS37pK0y9cn06dObM7Oxq+0G1aKYzPxDRNwF7ANs\nExGDirM4I4AXOthnDjAHoLGxMadNm1aV2i5a8FRVjtuRXVY9xwsNo2vW3kem7VaztrqrqamJav1+\nN1f2SVv2Sfvsl7bsk7b6Y59U8y6qHYszN0TElsBMYClwF3BUsdmJwE3VqkGSJPVPXQaciBgRET+K\niJci4sWIuCEiRlRw7J2BuyLiUeBBYEFmzgfOBj4fEc8A2wNX9OQLSJIkbaySS1TfBa4Fji6WTyjW\nzexsp8x8FJjUzvpngambVqYkSVLlKrlEtWNmfjcz1xY/VwE7VrkuSZKkbqsk4LwcEScUt3wPjIgT\ngJerXZgkSVJ3VRJwTgY+AvwW+A0tA4RPqmZRkiRJPdHlGJzMfB44vAa1SJIk9YoOA05EfCkz/zki\nLqFlioW3yczPVbUySZKkbursDM7S4nVhLQqRJEnqLR0GnMy8pXj7x8z8YevPIuLodnaRJEnqEyoZ\nZPyVCtdJkiT1CZ2NwfkA8NfALhFxcauP3gGsbX8vSZKk+utsDM7/0DL+5nCgudX614GzqlmUJElS\nT3Q2BucR4JGIuDYz19SwJkmSpB6pZC6qURHxj8B7gYb1KzPz3VWrSpIkqQcqGWT8XeDbtIy7mQ5c\nA3yvmkVJkiT1RCUBZ8vM/CkQmfl8Zp4LHFrdsiRJkrqvkktUqyNiAPB0RJwOvAAMrW5ZkiRJ3VfJ\nGZwzgCHA54ApwAnAidUsSpIkqSc6PYMTEQOBYzLzC8BKnEVckiRtBjo9g5OZbwH71agWSZKkXlHJ\nGJyHIuJm4IfAG+tXZuaNVatKkiSpByoJOA3Ay8CMVusSMOBIkqQ+qcuAk5mOu5EkSZuVSu6ikiRJ\n2qwYcCRJUukYcCRJUul0GXAiYnhEXBERtxbL742IT1S/NEmSpO6p5AzOVcBPgHcWy08BZ1arIEmS\npJ6qJODskJnXA+sAMnMt8FZVq5IkSeqBSgLOGxGxPS3PviEi9gZWVLUqSZKkHqjkQX+fB24G/iIi\n7gV2BI6qalWSJEk9UMmD/hZFxAHAGCCAJzNzTdUrkyRJ6qZK7qL6DDA0Mxdn5uPA0Ij4dPVLkyRJ\n6p5KxuCckpl/WL+Qma8Cp1SvJEmSpJ6pJOAMjIhYvxARA4E/q15JkiRJPVPJIOPbgOsi4jvF8qeK\ndZIkSX1SJQHnbFpCzWnF8gLg8qpVJEmS1EOV3EW1Dvh28SNJktTndRlwImJf4FzgXcX2AWRmvru6\npUmSJHVPJZeorgDOAppxigZJkrQZqCTgrMjMW6teiSRJUi+pJODcFRH/AtwIrF6/MjMXVa0qSZKk\nHqgk4LyveG1stS6BGb1fjiRJUs9VchfV9FoUIkmS1FsqOYNDRBwKjAMa1q/LzPOrVZQkSVJPVDLZ\n5qXAMcBnablF/GhabhmXJEnqkyqZi+r9mflx4NXMPA/YB9itumVJkiR1XyUB583i9Y8R8U5gDbBz\n9UqSJEnqmUrG4MyPiG2AfwEW0XIHlXNRSZKkPquSu6j+vnh7Q0TMBxoyc0V1y5IkSeq+DgNORMzI\nzDsj4sPtfEZm3ljd0iRJkrqnszM4BwB3An/TzmdJy5ONJUmS+pwOA05mnhMRA4BbM/P6GtYkSZLU\nI53eRZWZ64Av1agWSZKkXlHJbeJ3RMQXImJkRGy3/qfqlUmSJHVTJbeJH1O8fqbVugTe3fvlSJIk\n9Vwlt4mPrkUhkiRJvaXSyTbHA+/l7ZNtXlOtoiRJknqiy4ATEecA02gJOD8GPgD8HDDgSJKkPqmS\nQcZHAQcCv83Mk4A9ga2rWpUkSVIPVDTZZnG7+NqIeAfwIjCyumVJkiR1XyVjcBYWk21eBjQDK4H7\nqlqVJElSD1RyF9Wni7eXRsRtwDsy89HqliVJktR9XV6iioibI+KjEbFVZi4z3EiSpL6ukjE4/wrs\nByyJiHkRcVRENHS1kyRJUr1UconqbuDuiBgIzABOAa4E3lHl2iRJkrql0gf9bQn8DS3TNkwGrq5m\nUZIkST1RyYP+rgemArcB3wLuLm4blyRJ6pMqOYNzBXBcZr5V7WIkSZJ6QyVjcH5Si0IkSZJ6SyV3\nUUmSJG1WDDiSJKl0OrxEFRGTO9sxMxf1fjmSJEk919kYnH8tXhuARuARIIAJwEJgn+qWJkmS1D0d\nXqLKzOmZOR34DTA5MxszcwowCXihVgVKkiRtqkrG4IzJzMfWL2Tm48DY6pUkSZLUM5U8B+fRiLgc\n+F6xfDzghJuSJKnPquQMzknAYuCM4mdJsa5TETEyIu6KiCURsTgizijWbxcRCyLi6eJ12558AUmS\npI1V8qC/VRFxKfDjzHxyE469Fvi/mbkoIoYBzRGxAJgF/DQzL4iILwNfBs7uRu2SJEnt6vIMTkQc\nDjxMy1xURMTEiLi5q/0y8zfrbyXPzNeBpcAuwAf502SdVwNHdK90SZKk9kVmdr5BRDMwA2jKzEnF\nuscyc4+KG4kYBfwMGA/8KjO3KdYH8Or65Y32ORU4FWD48OFT5s6dW2lzm+TF11dX5bgdGbxuNWsG\nbFGz9nYaVru2umvlypUMHTq03mX0KfZJW/ZJ++yXtuyTtsrUJ9OnT2/OzMautqtkkPGazFzRkkU2\n6DwVtRIRQ4EbgDMz87XWx8nMjIh2j5WZc4A5AI2NjTlt2rRKm9wkFy14qirH7cguq57jhYbRNWvv\nI9N2q1lb3dXU1ES1fr+bK/ukLfukffZLW/ZJW/2xTyoZZLw4Ij4KDIyIXSPiEuAXlRw8IgbTEm6+\nn5k3Fqt/FxE7F5/vDLzYjbolSZI6VEnA+SwwDlgN/AB4DTizq52Ky09XAEsz8xutProZOLF4fyJw\n06YULEmS1JVK7qL6I/C14mdT7At8DHgsIh4u1n0VuAC4PiI+ATwPfGQTj6sqq/1lu9U1bfOsmX3/\nsp0kqWe6DDgRsRvwBWBU6+0zc0Zn+2Xmz2mZu6o9B1ZeoiRJ0qapZJDxD4FLgcuBt6pbjiRJUs9V\nEnDWZua3q16JJElSL6lkkPEtEfHpiNi5mGZhu4jYruqVSZIkdVMlZ3DW3/H0xVbrEnh375cjSZLU\nc5XcRVW7p9JJkiT1gg4DTkTMyMw7I+LD7X3e6sF9kiRJfUpnZ3AOAO4E/qadzxIw4EiSpD6pw4CT\nmecUryfVrhxJkqSeq2SQMRFxKC3TNTSsX5eZ51erKEmSpJ7o8jbxiLgUOIaWOakCOBp4V5XrkiRJ\n6rZKnoPz/sz8OPBqZp4H7AM4mY8kSeqzKgk4bxavf4yIdwJrgJ2rV5IkSVLPVDIGZ35EbAP8C7CI\nljuoLq9qVZIkST1QyYP+/r54e0NEzAcaMnNFdcuSJEnqvs4e9NfuA/6Kz3zQnyRJ6rM6O4PT3gP+\n1vNBf5Ikqc/q7EF/PuBPkiRtlip5Ds72EXFxRCyKiOaI+LeI2L4WxUmSJHVHJbeJzwVeAo4Ejire\nX1fNoiRJknqiktvEd251JxXA7Ig4ploFSZIk9VQlZ3Buj4hjI2JA8fMR4CfVLkySJKm7Kgk4pwDX\nAquLn7nApyLi9Yh4rZrFSZIkdUclD/obVotCJEmSeksld1F9YqPlgRFxTvVKkiRJ6plKLlEdGBE/\njoidI2I8cD/gWR1JktRnVXKJ6qPFXVOPAW8AH83Me6temSRJUjdVcolqV+AM4AbgeeBjETGk2oVJ\nkiR1VyWXqG4Bvp6ZnwIOAJ4GHqxqVZIkST1QyYP+pmbmawCZmcC/RsQt1S1LkiSp+zo8gxMRXwLI\nzNci4uiNPp5VzaIkSZJ6orNLVMe2ev+VjT47pAq1SJIk9YrOAk508L69ZUmSpD6js4CTHbxvb1mS\nJKnP6GyQ8Z7FXFMBbNlq3qkAGqpemSRJUjd1GHAyc2AtC5EkSeotlTwHR5IkabNiwJEkSaVjwJEk\nSaVjwJEkSaVjwJEkSaVjwJEkSaVjwJEkSaVjwJEkSaVjwJEkSaVjwJEkSaVjwJEkSaVjwJEkSaVj\nwJEkSaVjwJEkSaVjwJEkSaVjwJEkSaVjwJEkSaUzqN4FSJuLixY8VbO2dlm1uqbtnTVzt5q1JUm1\n4BkcSZJUOgYcSZJUOgYcSZJUOgYcSZJUOgYcSZJUOgYcSZJUOgYcSZJUOgYcSZJUOgYcSZJUOgYc\nSZJUOgYcSZJUOgYcSZJUOgYcSZJUOgYcSZJUOgYcSZJUOgYcSZJUOgYcSZJUOgYcSZJUOgYcSZJU\nOgYcSZJUOgYcSZJUOlULOBFxZUS8GBGPt1q3XUQsiIini9dtq9W+JEnqv6p5Bucq4JCN1n0Z+Glm\n7gr8tFiWJEnqVVULOJn5M+CVjVZ/ELi6eH81cES12pckSf1XZGb1Dh4xCpifmeOL5T9k5jbF+wBe\nXb/czr6nAqcCDB8+fMrcuXOrUuOLr6+uynE7MnjdatYM2KJm7e00bNPbsk/aV8t+2Vz6pJZWrlzJ\n0KFD611Gn2O/tGWftFWmPpk+fXpzZjZ2td2gWhTTnszMiOgwXWXmHGAOQGNjY06bNq0qdVy04Kmq\nHLcju6x6jhcaRtesvY9M222T97FP2lfLftlc+qSWmpqaqNbfA5sz+6Ut+6St/tgntb6L6ncRsTNA\n8fpijduXJEn9QK0Dzs3AicX7E4Gbaty+JEnqB6p5m/gPgPuAMRGxPCI+AVwAzIyIp4GDimVJkqRe\nVbUxOJl5XAcfHVitNiVJkqCOg4wlbf5qO/B6dU3bO2tm3x94LaljTtUgSZJKx4AjSZJKx4AjSZJK\nx4AjSZJKx4AjSZJKx4AjSZJKx4AjSZJKx4AjSZJKx4AjSZJKx4AjSZJKx4AjSZJKx4AjSZJKx4Aj\nSZJKx4AjSZJKZ1C9C5CkMrlowVM1bW+XVatr1uZZM3erSTtSb/AMjiRJKh0DjiRJKh0DjiRJKh0D\njiRJKh0DjiRJKh0DjiRJKh0DjiRJKh0DjiRJKh0DjiRJKh0DjiRJKh0DjiRJKh0DjiRJKh0DjiRJ\nKh0DjiRJKh0DjiRJKh0DjiRJKp1B9S5AklRuFy14qqbt7bJqdc3aPGvmbjVpR5vOMziSJKl0DDiS\nJKl0DDiSJKl0DDiSJKl0DDiSJKl0DDiSJKl0DDiSJKl0DDiSJKl0DDiSJKl0DDiSJKl0DDiSJKl0\nDDiSJKl0DDiSJKl0DDiSJKl0DDiSJKl0DDiSJKl0DDiSJKl0DDiSJKl0DDiSJKl0DDiSJKl0DDiS\nJKl0DDiSJKl0DDiSJKl0DDiSJKl0DDiSJKl0DDiSJKl0DDiSJKl0BtW7AEmS+puLFjxV0/Z2WbW6\npm2eNXO3mrXVEc/gSJKk0jHgSJKk0jHgSJKk0jHgSJKk0jHgSJKk0jHgSJKk0jHgSJKk0jHgSJKk\n0jHgSJKk0jHgSJKk0jHgSJKk0jHgSJKk0jHgSJKk0jHgSJKk0qlLwImIQyLiyYh4JiK+XI8aJElS\nedU84ETEQODfgQ8A7wWOi4j31roOSZJUXvU4gzMVeCYzn83M/wXmAh+sQx2SJKmkIjNr22DEUcAh\nmfnJYvljwPsy8/SNtjsVOLVYHAM8WdNCq2cH4Pf1LqKPsU/ask/ask/aZ7+0ZZ+0VaY+eVdm7tjV\nRoNqUUl3ZOYcYE696+htEbEwMxvrXUdfYp+0ZZ+0ZZ+0z35pyz5pqz/2ST0uUb0AjGy1PKJYJ0mS\n1CvqEXAeBHaNiNER8WfAscDNdahDkiSVVM0vUWXm2og4HfgJMBC4MjMX17qOOirdZbdeYJ+0ZZ+0\nZZ+0z35pyz5pq9/1Sc0HGUuSJFWbTzKWJEmlY8CRJEmlY8CpEaenaCsiroyIFyPi8XrX0ldExMiI\nuCsilkTE4og4o9411VtENES1cW3TAAAG7ElEQVTEAxHxSNEn59W7pr4iIgZGxEMRMb/etfQFEbEs\nIh6LiIcjYmG96+kLImKbiJgXEU9ExNKI2KfeNdWKY3BqoJie4ilgJrCcljvJjsvMJXUtrM4iYn9g\nJXBNZo6vdz19QUTsDOycmYsiYhjQDBzRn/+sREQAW2XmyogYDPwcOCMz769zaXUXEZ8HGoF3ZOZh\n9a6n3iJiGdCYmWV5oF2PRcTVwD2ZeXlx5/KQzPxDveuqBc/g1IbTU7QjM38GvFLvOvqSzPxNZi4q\n3r8OLAV2qW9V9ZUtVhaLg4uffv8/s4gYARwKXF7vWtQ3RcTWwP7AFQCZ+b/9JdyAAadWdgF+3Wp5\nOf38Hy11LSJGAZOA/65vJfVXXIp5GHgRWJCZ/b5PgG8CXwLW1buQPiSB2yOiuZjup78bDbwEfLe4\nlHl5RGxV76JqxYAj9UERMRS4ATgzM1+rdz31lplvZeZEWp58PjUi+vUlzYg4DHgxM5vrXUsfs19m\nTgY+AHymuAzenw0CJgPfzsxJwBtAvxkDasCpDaenUMWKcSY3AN/PzBvrXU9fUpxevws4pN611Nm+\nwOHFmJO5wIyI+F59S6q/zHyheH0R+BEtwwP6s+XA8lZnPOfREnj6BQNObTg9hSpSDKi9Aliamd+o\ndz19QUTsGBHbFO+3pGWw/hP1raq+MvMrmTkiM0fR8vfJnZl5Qp3LqquI2KoYmE9xGeavgH59h2Zm\n/hb4dUSMKVYdCPSbGxb67GziZeL0FO2LiB8A04AdImI5cE5mXlHfqupuX+BjwGPFmBOAr2bmj+tY\nU73tDFxd3I04ALg+M70tWhsbDvyo5f8IDAKuzczb6ltSn/BZ4PvFf66fBU6qcz01423ikiSpdLxE\nJUmSSseAI0mSSseAI0mSSseAI0mSSseAI0mSSseAI5VURLxVzKr8eET8MCKGdLDdj9c/Z2YTj//O\niJjXg/qWRcQO3d1/cxERsyLinfWuQ+pvDDhSeb2ZmROLmdr/F/jb1h9GiwGZ+dfdmYAvM/8nM4/q\nrWJLbBZgwJFqzIAj9Q/3AO+JiFER8WREXEPLU15Hrj+TUny2NCIui4jFEXF78eRgIuI9EXFHRDwS\nEYsi4i+K7R8vPp8VETdFRFNEPB0R56xvOCL+s5j8cHElEyBGxCFFG49ExE+LddsVx3k0Iu6PiAnF\n+nMj4uqIuCcino+ID0fEP0fEYxFxWzHtxfqzRevXPxAR7ynWj4qIO4vj/jQi/k+x/qqIuDgifhER\nz0bEUa3q+2JEPFjsc16r47Tpu2K/RloetPZwse6CiFhS7H9hL/xuJbXDgCOVXEQMomXywceKVbsC\n/y8zx2Xm8xttvivw75k5DvgDcGSx/vvF+j2B9wO/aaepqcX2E4CjI6KxWH9yZk6h5R/6z0XE9p3U\nuiNwGXBk0dbRxUfnAQ9l5gTgq8A1rXb7C2AGcDjwPeCuzNwDeBM4tNV2K4r136JlJm6AS4Cri+N+\nH7i41fY7A/sBhwEXFPX9VdFHU4GJwJRWEzq26bvMnAcsBI4vJgsdAnwIGFe0ObujvpDUMwYcqby2\nLKZ7WAj8ipY5rgCez8z7O9jnucxcP0VEMzCqmN9nl8z8EUBmrsrMP7az74LMfDkz3wRupCUcQEuo\neQS4n5ZJZ3ftpOa9gZ9l5nNFW68U6/cD/qNYdyewfUS8o/js1sxcQ0uAGwisfzz/Y8CoVsf+QavX\nfYr3+wDXFu//o1XNAP+Zmesycwkt0wBAy/xGfwU8BCwCdm/1fdr0XTvfbwWwCrgiIj4MtNePknqB\nc1FJ5fVmcdZgg2Kenjc62Wd1q/dvAVtuQnsbz/uSETENOAjYJzP/GBFNQMMmHLMSqwEyc11ErMk/\nzT+zjrf/HZcdvO/0uIVo9fqPmfmd1htGxCgq6LtiXrqptEx6eBRwOi1nnyT1Ms/gSOpUZr4OLI+I\nIwAiYosO7siaWYyV2RI4ArgX2Bp4tQg3u9NyhqYz9wP7R8Tooq3tivX3AMcX66YBv8/M1zbxqxzT\n6vW+4v0vaJmNm+L493RxjJ8AJ0fE0KKWXSJipy72eR1YP8v1UGDrYvLUs4A9N+kbSKqYZ3AkVeJj\nwHci4nxgDS1jY9ZttM0DwA3ACOB7mbkwIh4D/jYilgJP0hJgOpSZLxUDkW+MiAHAi8BM4Fzgyoh4\nlJbLOid24ztsW+y/GjiuWPdZ4LsR8UXgJbqYaTkzb4+IscB9xdmwlcAJtJyx6chVwKUR8SYtY6Fu\niogGWs4Gfb4b30NSBZxNXFKPRcQsoDEzT693Le2JiGW01Pf7etciqTa8RCVJkkrHMziSJKl0PIMj\nSZJKx4AjSZJKx4AjSZJKx4AjSZJKx4AjSZJK5/8DGO8CWyBD/S4AAAAASUVORK5CYII=\n",
            "text/plain": [
              "<Figure size 576x432 with 1 Axes>"
            ]
          },
          "metadata": {
            "tags": []
          }
        }
      ]
    },
    {
      "metadata": {
        "id": "J9xTSPgc10d2",
        "colab_type": "text"
      },
      "cell_type": "markdown",
      "source": [
        "The plot above clearly shows that maximum variance (somewhere around 45%) can be explained by the first principal component alone. The second,third principal component share almost large amount of information.Comparatively 4th and 5th components share less amount of information as compared to the rest of the Principal components.But those information cannot be ignored since they both contribute almost 8% of the data.But we can drop the last component as it has less than 5% of the variance"
      ]
    },
    {
      "metadata": {
        "id": "QgTD0lIC13ei",
        "colab_type": "text"
      },
      "cell_type": "markdown",
      "source": [
        "Projection Matrix\n",
        "The construction of the projection matrix that will be used to transform the Human resouces analytics data onto the new feature subspace. Suppose only 1st and 2nd principal component shares the maximum amount of information say around 90%.Hence we can drop other components. Here, we are reducing the 7-dimensional feature space to a 2-dimensional feature subspace, by choosing the “top 2” eigenvectors with the highest eigenvalues to construct our d×k-dimensional eigenvector matrix W"
      ]
    },
    {
      "metadata": {
        "id": "Rt5YTfbO1r4F",
        "colab_type": "code",
        "outputId": "955428b5-7735-4c25-be44-305da7fc3ed7",
        "colab": {
          "base_uri": "https://localhost:8080/",
          "height": 153
        }
      },
      "cell_type": "code",
      "source": [
        "matrix_w = np.hstack((eig_pairs[0][1].reshape(7,1), \n",
        "                      eig_pairs[1][1].reshape(7,1)\n",
        "                    ))\n",
        "print('Matrix W:\\n', matrix_w)"
      ],
      "execution_count": 0,
      "outputs": [
        {
          "output_type": "stream",
          "text": [
            "Matrix W:\n",
            " [[-0.50019631 -0.24231413]\n",
            " [-0.45211513 -0.17782835]\n",
            " [-0.47937357 -0.22934236]\n",
            " [-0.40564177  0.31138703]\n",
            " [-0.13732408  0.66245883]\n",
            " [-0.3512783   0.3805001 ]\n",
            " [-0.09379206 -0.42008227]]\n"
          ],
          "name": "stdout"
        }
      ]
    },
    {
      "metadata": {
        "id": "eWfjTHnL18Uz",
        "colab_type": "text"
      },
      "cell_type": "markdown",
      "source": [
        "**Projection Onto the New Feature Space** In this last step we will use the 7×2-dimensional projection matrix W to transform our samples onto the new subspace via the equation Y=X×W"
      ]
    },
    {
      "metadata": {
        "id": "S-_3S2XL16O5",
        "colab_type": "code",
        "outputId": "00cde5fe-88b5-4ba5-f3a4-2f8e40b4c266",
        "colab": {
          "base_uri": "https://localhost:8080/",
          "height": 2499
        }
      },
      "cell_type": "code",
      "source": [
        "Y = X_std.dot(matrix_w)\n",
        "Y"
      ],
      "execution_count": 0,
      "outputs": [
        {
          "output_type": "execute_result",
          "data": {
            "text/plain": [
              "array([[ 3.52620255e+00,  3.70103179e-01],\n",
              "       [ 7.96848831e-01, -1.70279186e-01],\n",
              "       [ 3.03385829e-01, -1.82658258e+00],\n",
              "       [ 2.93625956e+00, -8.72869139e-01],\n",
              "       [-9.32886394e-01, -1.78445551e+00],\n",
              "       [ 1.42639876e+00, -1.17764043e+00],\n",
              "       [-3.12418598e+00,  1.21841408e+00],\n",
              "       [-2.46723165e+00,  6.64460686e-02],\n",
              "       [-2.44926658e-03, -7.32248715e-01],\n",
              "       [-1.69084151e+00,  1.17400162e-01],\n",
              "       [ 1.23158860e+00,  2.72344172e-01],\n",
              "       [-4.47834844e-01, -7.66518323e-01],\n",
              "       [-2.38866298e+00, -2.68077755e-01],\n",
              "       [ 2.96587504e+00,  8.09232429e-01],\n",
              "       [-4.50935688e-01,  2.15530184e+00],\n",
              "       [ 8.01213190e-02, -3.56894052e-01],\n",
              "       [ 8.31714926e-01, -5.59459688e-01],\n",
              "       [ 5.58325582e-01,  8.29675734e-01],\n",
              "       [-7.57132833e-01, -1.45684041e+00],\n",
              "       [ 1.11732646e-01, -9.58261055e-01],\n",
              "       [ 2.08765569e+00,  8.05537315e-01],\n",
              "       [ 4.13745527e+00,  4.31965516e-01],\n",
              "       [ 7.19375074e-01,  2.15464919e+00],\n",
              "       [ 2.01172255e+00,  1.90223666e-01],\n",
              "       [-3.00889381e+00,  9.07922858e-01],\n",
              "       [ 3.14048134e+00, -6.06291564e-02],\n",
              "       [-9.78633254e-01, -8.66941091e-01],\n",
              "       [-4.23202270e-04, -1.41725606e+00],\n",
              "       [-4.59511157e-01, -1.48121998e+00],\n",
              "       [ 1.68600770e+00,  4.40652443e-02],\n",
              "       [ 2.50109636e+00,  7.75879984e-04],\n",
              "       [-1.46805492e+00, -1.20056934e+00],\n",
              "       [ 5.13985457e-01, -7.24449800e-01],\n",
              "       [-4.75597765e-01, -5.45866790e-01],\n",
              "       [-1.11627429e+00, -1.99655896e+00],\n",
              "       [-3.41410972e+00,  8.57536116e-01],\n",
              "       [-6.47261537e-01,  2.54308431e-01],\n",
              "       [-5.71451550e-01, -8.64623246e-01],\n",
              "       [ 9.76924473e-01, -5.42267698e-01],\n",
              "       [ 1.33301153e-01, -1.60015883e+00],\n",
              "       [-1.29035663e+00, -4.17924087e-01],\n",
              "       [ 1.60434276e+00,  1.17951841e+00],\n",
              "       [-3.21160652e+00,  1.53604978e-01],\n",
              "       [-1.69510719e+00, -1.05338052e+00],\n",
              "       [ 1.01308414e+00, -7.64220895e-01],\n",
              "       [ 1.03415478e+00,  1.34187030e-02],\n",
              "       [-2.62736131e+00,  4.73759522e-01],\n",
              "       [ 1.89073396e+00,  6.55147589e-01],\n",
              "       [ 4.40108043e-01, -2.49669503e+00],\n",
              "       [-2.87301303e-01, -5.73905137e-01],\n",
              "       [ 2.67706769e+00,  1.29368496e+00],\n",
              "       [ 3.24178467e+00,  1.49226521e+00],\n",
              "       [ 7.02052767e-01, -3.59951314e-01],\n",
              "       [ 2.67626681e-01, -1.88767955e+00],\n",
              "       [-2.87580960e+00,  4.32909895e-01],\n",
              "       [ 1.27226075e+00,  7.69069395e-01],\n",
              "       [ 3.67135173e-02,  1.84102743e+00],\n",
              "       [ 1.08833795e+00,  5.40649468e-01],\n",
              "       [ 9.19779236e-01,  8.62807381e-02],\n",
              "       [-3.00231539e+00,  1.13394051e+00],\n",
              "       [-1.47610718e+00, -1.18813907e+00],\n",
              "       [-6.97100110e-01, -1.68362438e+00],\n",
              "       [ 2.02723668e+00,  8.66470186e-01],\n",
              "       [-2.31916287e-01, -1.07929023e-01],\n",
              "       [-1.83937047e+00, -5.91632659e-01],\n",
              "       [-6.11808191e-02, -3.54092764e-01],\n",
              "       [-7.51948140e-01, -4.41255716e-01],\n",
              "       [ 1.24680081e+00,  1.62923699e+00],\n",
              "       [ 7.44811640e-01, -2.34048693e-01],\n",
              "       [-1.51796090e+00,  1.37293385e-01],\n",
              "       [ 2.48040655e-01,  1.07296308e+00],\n",
              "       [-3.60223502e-01, -1.29346964e+00],\n",
              "       [ 2.97636726e-01, -5.11870487e-01],\n",
              "       [ 2.88437222e+00,  8.81057942e-01],\n",
              "       [-2.39153739e-01, -5.50942946e-01],\n",
              "       [ 3.56115611e-02, -2.67849210e+00],\n",
              "       [-3.12368036e+00,  5.99149611e-01],\n",
              "       [ 2.19479068e-01, -2.86381440e-01],\n",
              "       [ 2.63657198e+00,  1.96672782e-01],\n",
              "       [ 2.58601637e+00,  1.10996904e+00],\n",
              "       [-5.98255142e-01,  1.82517563e-01],\n",
              "       [ 1.81014731e+00,  2.50470608e-01],\n",
              "       [-2.31965329e+00,  1.67488875e+00],\n",
              "       [ 1.80540799e+00, -1.79721242e-01],\n",
              "       [-4.30917250e-01,  3.68933015e-01],\n",
              "       [-6.23547986e-01, -1.66459045e+00],\n",
              "       [ 8.98153181e-01, -1.67508076e+00],\n",
              "       [-1.03193574e-01,  5.27843882e-01],\n",
              "       [ 3.41348371e-01, -8.99090483e-01],\n",
              "       [ 1.02457588e+00, -1.36939479e+00],\n",
              "       [ 3.21576147e-01,  4.58056744e+00],\n",
              "       [ 7.50724354e-01,  9.54821619e-01],\n",
              "       [-2.87033381e+00,  9.56940081e-01],\n",
              "       [-3.36526761e+00,  1.72264369e+00],\n",
              "       [-3.18209867e-01, -1.85373150e-01],\n",
              "       [ 2.11766912e+00,  8.11936577e-01],\n",
              "       [ 1.62994050e+00, -2.63078862e-01],\n",
              "       [-1.22265424e+00,  1.40721794e-01],\n",
              "       [-3.29334888e+00,  5.52511090e-01],\n",
              "       [ 1.79755344e+00, -1.53330143e-01],\n",
              "       [ 1.09273925e+00, -9.03641009e-01],\n",
              "       [-1.13387110e+00, -8.66605536e-01],\n",
              "       [-4.67135237e-01, -1.19353150e-01],\n",
              "       [-7.59430980e-03, -1.18131723e+00],\n",
              "       [-6.31540068e-02,  7.17945440e-02],\n",
              "       [-1.04197105e+00, -8.55804104e-01],\n",
              "       [-7.39796220e-01, -8.29476906e-01],\n",
              "       [-3.07397137e+00,  1.88847553e+00],\n",
              "       [-1.10095231e-01, -1.38770748e+00],\n",
              "       [-2.27978101e-01, -1.98026277e+00],\n",
              "       [ 3.73117026e-01,  3.57003624e+00],\n",
              "       [-1.42218195e+00, -4.16321584e-01],\n",
              "       [ 1.20833874e+00,  1.50291528e-01],\n",
              "       [ 4.69036058e-01, -1.09381583e+00],\n",
              "       [ 2.57664668e+00,  2.39070748e-01],\n",
              "       [-3.47045662e+00,  1.69033185e+00],\n",
              "       [-5.21564955e-01, -1.89285948e+00],\n",
              "       [-1.39411793e+00, -9.89323001e-02],\n",
              "       [ 5.99394143e-01, -2.32691447e-02],\n",
              "       [-4.45695642e-01, -1.28644063e+00],\n",
              "       [-1.50631350e+00, -1.31211278e+00],\n",
              "       [-4.43819719e-01,  2.46228114e+00],\n",
              "       [ 2.27111347e+00, -6.22811816e-01],\n",
              "       [-3.28520613e+00,  1.10530029e+00],\n",
              "       [-3.39606031e+00,  3.43746497e-01],\n",
              "       [ 2.46897601e+00,  2.05161790e+00],\n",
              "       [ 3.02668077e-01,  5.13391844e-01],\n",
              "       [ 1.69058819e+00,  1.95491019e+00],\n",
              "       [-1.22087840e+00,  1.12263133e+00],\n",
              "       [ 3.07171610e+00,  8.72451241e-01],\n",
              "       [-6.70961508e-01, -2.75466549e-01],\n",
              "       [ 1.08944360e+00, -1.19657968e+00],\n",
              "       [-6.01294000e-02, -1.58140084e+00],\n",
              "       [-8.68534815e-01,  4.24595569e-01],\n",
              "       [ 1.75981500e+00,  1.27600629e+00],\n",
              "       [ 1.08105538e+00, -1.70996516e-02],\n",
              "       [-2.55488017e+00,  1.23864061e+00],\n",
              "       [-2.53475829e+00,  1.35375363e+00],\n",
              "       [-2.01558760e+00, -4.80323326e-02],\n",
              "       [-1.59327610e+00, -4.90684873e-01],\n",
              "       [-1.43297850e+00,  1.80038521e+00],\n",
              "       [ 4.29475844e-01, -1.84850736e+00],\n",
              "       [-2.77422784e-01,  4.80588180e-01],\n",
              "       [ 2.40876141e+00, -1.35177226e-01],\n",
              "       [ 1.46527412e+00,  6.51310332e-01],\n",
              "       [ 2.17030562e+00,  5.29244886e-01]])"
            ]
          },
          "metadata": {
            "tags": []
          },
          "execution_count": 36
        }
      ]
    },
    {
      "metadata": {
        "id": "DwbxUcae2A94",
        "colab_type": "text"
      },
      "cell_type": "markdown",
      "source": [
        "### PCA in scikit-learn"
      ]
    },
    {
      "metadata": {
        "id": "9uk-XL0R19oy",
        "colab_type": "code",
        "outputId": "184f5993-40f0-4d63-a71d-f169c668c750",
        "colab": {
          "base_uri": "https://localhost:8080/",
          "height": 300
        }
      },
      "cell_type": "code",
      "source": [
        "from sklearn.decomposition import PCA\n",
        "pca = PCA().fit(X_std)\n",
        "plt.grid()\n",
        "plt.plot(np.cumsum(pca.explained_variance_ratio_))\n",
        "plt.xlim(0,6,1)\n",
        "plt.xlabel('Number of components')\n",
        "plt.ylabel('Cumulative explained variance')"
      ],
      "execution_count": 29,
      "outputs": [
        {
          "output_type": "execute_result",
          "data": {
            "text/plain": [
              "Text(0, 0.5, 'Cumulative explained variance')"
            ]
          },
          "metadata": {
            "tags": []
          },
          "execution_count": 29
        },
        {
          "output_type": "display_data",
          "data": {
            "image/png": "iVBORw0KGgoAAAANSUhEUgAAAYUAAAEKCAYAAAD9xUlFAAAABHNCSVQICAgIfAhkiAAAAAlwSFlz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\n",
            "text/plain": [
              "<Figure size 432x288 with 1 Axes>"
            ]
          },
          "metadata": {
            "tags": []
          }
        }
      ]
    },
    {
      "metadata": {
        "id": "qopY4bLS2E9z",
        "colab_type": "text"
      },
      "cell_type": "markdown",
      "source": [
        "The above plot shows almost 90% variance by the first 5 components. Therfore we can drop 6th and 7th component."
      ]
    },
    {
      "metadata": {
        "id": "g4681his2AOO",
        "colab_type": "code",
        "colab": {}
      },
      "cell_type": "code",
      "source": [
        "from sklearn.decomposition import PCA \n",
        "sklearn_pca = PCA(n_components=5)\n",
        "Y_sklearn = sklearn_pca.fit_transform(X_std)"
      ],
      "execution_count": 0,
      "outputs": []
    },
    {
      "metadata": {
        "id": "Rl-ahW5F2GKj",
        "colab_type": "code",
        "outputId": "3b9e2dfc-7bb6-43ee-d4ef-ce0fed4a0011",
        "colab": {
          "base_uri": "https://localhost:8080/",
          "height": 4981
        }
      },
      "cell_type": "code",
      "source": [
        "print(Y_sklearn)"
      ],
      "execution_count": 31,
      "outputs": [
        {
          "output_type": "stream",
          "text": [
            "[[ 3.52620255e+00  3.70103179e-01 -9.81468083e-01  8.77670499e-02\n",
            "   1.39667422e+00]\n",
            " [ 7.96848831e-01 -1.70279186e-01  8.70919128e-01 -1.51633813e-02\n",
            "   5.87309804e-01]\n",
            " [ 3.03385829e-01 -1.82658258e+00 -7.06015183e-01  8.63862076e-01\n",
            "   8.15143825e-01]\n",
            " [ 2.93625956e+00 -8.72869139e-01  8.05970865e-01  5.01369856e-01\n",
            "   3.08932434e-01]\n",
            " [-9.32886394e-01 -1.78445551e+00 -9.97133364e-01 -1.74403382e-01\n",
            "  -6.54400998e-01]\n",
            " [ 1.42639876e+00 -1.17764043e+00  1.22833769e+00  1.07566971e-01\n",
            "   4.87035019e-01]\n",
            " [-3.12418598e+00  1.21841408e+00 -6.45878036e-01 -1.49578687e-01\n",
            "   5.76584277e-01]\n",
            " [-2.46723165e+00  6.64460686e-02 -4.32230181e-01  3.77213142e-02\n",
            "   1.55081693e-01]\n",
            " [-2.44926658e-03 -7.32248715e-01  4.79546364e-01  1.36834916e+00\n",
            "  -2.48000863e-01]\n",
            " [-1.69084151e+00  1.17400162e-01  5.19329488e-01  1.17436620e+00\n",
            "  -2.37228266e-01]\n",
            " [ 1.23158860e+00  2.72344172e-01 -6.52439900e-01  9.35037638e-01\n",
            "   2.01984180e-02]\n",
            " [-4.47834844e-01 -7.66518323e-01  7.35205478e-01  2.49995615e-01\n",
            "   1.03755867e-01]\n",
            " [-2.38866298e+00 -2.68077755e-01 -2.65349693e-01  5.96198933e-01\n",
            "   1.05304934e-01]\n",
            " [ 2.96587504e+00  8.09232429e-01 -8.49665925e-01  8.74705265e-01\n",
            "  -1.77864900e-02]\n",
            " [-4.50935688e-01  2.15530184e+00  6.35482217e-01 -6.71473569e-01\n",
            "  -3.13344566e-01]\n",
            " [ 8.01213190e-02 -3.56894052e-01 -1.43319294e+00 -2.47604240e-01\n",
            "  -9.15096655e-01]\n",
            " [ 8.31714926e-01 -5.59459688e-01  3.00002866e-01 -1.25586435e+00\n",
            "   1.23881881e+00]\n",
            " [ 5.58325582e-01  8.29675734e-01  2.66510782e+00  6.87437233e-01\n",
            "  -1.71461440e+00]\n",
            " [-7.57132833e-01 -1.45684041e+00 -1.43828682e+00 -1.63896198e-02\n",
            "  -2.58568351e-01]\n",
            " [ 1.11732646e-01 -9.58261055e-01  2.34497531e+00 -6.15472524e-01\n",
            "  -4.51627653e-01]\n",
            " [ 2.08765569e+00  8.05537315e-01 -3.94381474e-01  3.16261430e-01\n",
            "  -3.88984370e-01]\n",
            " [ 4.13745527e+00  4.31965516e-01 -9.56201433e-02  6.41680129e-01\n",
            "   8.99056747e-01]\n",
            " [ 7.19375074e-01  2.15464919e+00  5.19467751e-01 -5.29814007e-01\n",
            "  -1.13354739e+00]\n",
            " [ 2.01172255e+00  1.90223666e-01 -1.56494303e+00  1.19752759e-01\n",
            "  -6.96860409e-01]\n",
            " [-3.00889381e+00  9.07922858e-01 -8.25023721e-01 -2.25838925e-02\n",
            "   4.61211813e-01]\n",
            " [ 3.14048134e+00 -6.06291564e-02 -7.68308764e-01  1.23795688e-01\n",
            "   4.95285793e-02]\n",
            " [-9.78633254e-01 -8.66941091e-01 -8.70666940e-01 -9.02224366e-01\n",
            "   9.32500629e-01]\n",
            " [-4.23202270e-04 -1.41725606e+00  6.62311857e-01  2.19278500e-01\n",
            "  -6.99813913e-01]\n",
            " [-4.59511157e-01 -1.48121998e+00 -1.18938013e+00 -3.41110851e-01\n",
            "  -6.84838957e-01]\n",
            " [ 1.68600770e+00  4.40652443e-02 -4.55916046e-02  8.79849371e-01\n",
            "  -5.79229747e-01]\n",
            " [ 2.50109636e+00  7.75879984e-04 -1.22503215e+00 -3.69595589e-01\n",
            "  -4.81400698e-01]\n",
            " [-1.46805492e+00 -1.20056934e+00 -1.85899008e+00 -3.17800552e-01\n",
            "  -4.30984143e-01]\n",
            " [ 5.13985457e-01 -7.24449800e-01  4.84378799e-01 -4.37219201e-01\n",
            "   1.18957267e+00]\n",
            " [-4.75597765e-01 -5.45866790e-01  9.64364880e-01 -7.73733030e-01\n",
            "   8.07854167e-01]\n",
            " [-1.11627429e+00 -1.99655896e+00 -4.88644115e-01 -2.64405534e-01\n",
            "  -6.02954217e-01]\n",
            " [-3.41410972e+00  8.57536116e-01 -1.07740516e+00  1.07235497e+00\n",
            "   3.26826897e-01]\n",
            " [-6.47261537e-01  2.54308431e-01  9.33272538e-01  5.29330860e-02\n",
            "  -1.22334849e+00]\n",
            " [-5.71451550e-01 -8.64623246e-01 -6.38191550e-01  3.85558287e-01\n",
            "  -1.73396183e-01]\n",
            " [ 9.76924473e-01 -5.42267698e-01  5.53545997e-01  6.67894505e-01\n",
            "   3.95622962e-01]\n",
            " [ 1.33301153e-01 -1.60015883e+00 -1.38018880e+00  4.98133150e-01\n",
            "  -2.80110966e-01]\n",
            " [-1.29035663e+00 -4.17924087e-01  1.32645910e+00  7.24629454e-01\n",
            "  -7.40625919e-01]\n",
            " [ 1.60434276e+00  1.17951841e+00 -1.13699937e+00  5.34265781e-01\n",
            "   1.45224406e-01]\n",
            " [-3.21160652e+00  1.53604978e-01 -1.09924671e+00  1.41017034e+00\n",
            "   9.15183993e-02]\n",
            " [-1.69510719e+00 -1.05338052e+00  2.83571962e-01  5.12622830e-01\n",
            "   4.02120740e-02]\n",
            " [ 1.01308414e+00 -7.64220895e-01  1.39445225e+00  7.14370710e-01\n",
            "  -5.99328327e-01]\n",
            " [ 1.03415478e+00  1.34187030e-02  8.42753587e-01  2.40525525e+00\n",
            "   1.22692513e+00]\n",
            " [-2.62736131e+00  4.73759522e-01 -2.92266580e-01  3.40728711e-01\n",
            "   2.74544917e-01]\n",
            " [ 1.89073396e+00  6.55147589e-01  1.07330179e-02 -1.53757517e-01\n",
            "  -4.88986302e-01]\n",
            " [ 4.40108043e-01 -2.49669503e+00  1.53936506e+00  1.51160106e-01\n",
            "   9.64228219e-01]\n",
            " [-2.87301303e-01 -5.73905137e-01 -2.23443252e+00 -4.78647948e-01\n",
            "  -3.55492747e-01]\n",
            " [ 2.67706769e+00  1.29368496e+00 -2.76204236e-01  5.19184772e-01\n",
            "  -2.34397097e-01]\n",
            " [ 3.24178467e+00  1.49226521e+00 -2.59998030e-01 -5.70133929e-01\n",
            "   2.17278408e+00]\n",
            " [ 7.02052767e-01 -3.59951314e-01 -4.13303000e-01 -2.86544115e-01\n",
            "   1.60108948e-01]\n",
            " [ 2.67626681e-01 -1.88767955e+00  1.26997577e+00 -2.33613994e-01\n",
            "   4.29146241e-01]\n",
            " [-2.87580960e+00  4.32909895e-01 -1.00233261e+00 -1.28837854e+00\n",
            "   1.37410425e-02]\n",
            " [ 1.27226075e+00  7.69069395e-01  2.00780000e-01  5.00972003e-01\n",
            "  -7.66746270e-02]\n",
            " [ 3.67135173e-02  1.84102743e+00  1.75385007e-01 -2.33095032e+00\n",
            "   1.70669811e-01]\n",
            " [ 1.08833795e+00  5.40649468e-01  7.60303535e-01 -6.46944779e-01\n",
            "   1.73723239e+00]\n",
            " [ 9.19779236e-01  8.62807381e-02  1.18695170e+00  3.64380730e-01\n",
            "   4.63810351e-01]\n",
            " [-3.00231539e+00  1.13394051e+00  3.07996837e-02  2.57076152e-03\n",
            "   3.48627429e-01]\n",
            " [-1.47610718e+00 -1.18813907e+00 -1.34841646e+00 -1.00329292e+00\n",
            "   8.83732795e-01]\n",
            " [-6.97100110e-01 -1.68362438e+00  1.05652283e+00 -8.82793847e-01\n",
            "   5.36176061e-01]\n",
            " [ 2.02723668e+00  8.66470186e-01 -7.76358118e-01  9.53130827e-01\n",
            "  -8.99911986e-01]\n",
            " [-2.31916287e-01 -1.07929023e-01  4.61730746e-01 -6.22383669e-01\n",
            "  -7.28168459e-01]\n",
            " [-1.83937047e+00 -5.91632659e-01  1.49382834e+00  4.19664464e-01\n",
            "  -3.47228398e-01]\n",
            " [-6.11808191e-02 -3.54092764e-01  2.33425562e-01  2.46392561e-01\n",
            "  -2.56148051e-01]\n",
            " [-7.51948140e-01 -4.41255716e-01  3.82650283e-01 -3.54727637e-02\n",
            "  -3.25540746e-01]\n",
            " [ 1.24680081e+00  1.62923699e+00 -5.05812298e-01 -9.19351889e-01\n",
            "  -3.39121454e-01]\n",
            " [ 7.44811640e-01 -2.34048693e-01 -1.91655067e-01 -7.60847459e-01\n",
            "   7.54564569e-01]\n",
            " [-1.51796090e+00  1.37293385e-01  6.16300199e-01  7.14866865e-01\n",
            "   1.17064419e-01]\n",
            " [ 2.48040655e-01  1.07296308e+00  7.41088048e-02 -1.57307358e+00\n",
            "  -5.73333592e-01]\n",
            " [-3.60223502e-01 -1.29346964e+00  3.21708660e-01 -2.58935059e-01\n",
            "  -1.17900159e-02]\n",
            " [ 2.97636726e-01 -5.11870487e-01  6.88401558e-01 -7.50280645e-01\n",
            "   7.44319322e-01]\n",
            " [ 2.88437222e+00  8.81057942e-01 -4.29210357e-01 -1.34901859e-01\n",
            "  -4.34020374e-01]\n",
            " [-2.39153739e-01 -5.50942946e-01  1.57100715e-01  8.42918650e-02\n",
            "  -8.30866119e-01]\n",
            " [ 3.56115611e-02 -2.67849210e+00  3.66309878e-01 -2.10578356e-01\n",
            "  -1.69049465e-01]\n",
            " [-3.12368036e+00  5.99149611e-01  6.11302947e-01  8.94944766e-01\n",
            "   1.98843177e-01]\n",
            " [ 2.19479068e-01 -2.86381440e-01  7.01457966e-01 -5.57335150e-01\n",
            "   3.01865928e-01]\n",
            " [ 2.63657198e+00  1.96672782e-01  2.82545021e-01  1.01889466e-01\n",
            "   3.44576571e-01]\n",
            " [ 2.58601637e+00  1.10996904e+00 -1.41772104e+00  4.63470814e-01\n",
            "   6.49476066e-02]\n",
            " [-5.98255142e-01  1.82517563e-01 -2.63298504e-01 -1.25041986e+00\n",
            "   5.19828762e-01]\n",
            " [ 1.81014731e+00  2.50470608e-01 -3.70595697e-02  2.39939279e-01\n",
            "  -9.39163471e-01]\n",
            " [-2.31965329e+00  1.67488875e+00  1.85633091e-01 -1.57597931e+00\n",
            "   2.63651381e-01]\n",
            " [ 1.80540799e+00 -1.79721242e-01  4.79648229e-01  2.14719308e-01\n",
            "   3.78138013e-01]\n",
            " [-4.30917250e-01  3.68933015e-01  2.00467029e-01 -1.04767278e+00\n",
            "  -7.13536183e-02]\n",
            " [-6.23547986e-01 -1.66459045e+00 -1.42840496e+00  5.06544567e-01\n",
            "   3.49667069e-01]\n",
            " [ 8.98153181e-01 -1.67508076e+00 -1.46330829e+00 -8.24743048e-01\n",
            "   4.85724990e-01]\n",
            " [-1.03193574e-01  5.27843882e-01  1.39024491e+00 -1.35511746e+00\n",
            "  -6.30599761e-01]\n",
            " [ 3.41348371e-01 -8.99090483e-01  8.33924421e-01 -2.43238610e-01\n",
            "   8.34364513e-01]\n",
            " [ 1.02457588e+00 -1.36939479e+00 -9.18930789e-01  1.16043817e+00\n",
            "   2.36367788e-01]\n",
            " [ 3.21576147e-01  4.58056744e+00 -3.82437545e-01 -1.82364595e+00\n",
            "   5.08969368e-01]\n",
            " [ 7.50724354e-01  9.54821619e-01 -7.00723645e-01 -9.18698526e-01\n",
            "  -2.04125068e-01]\n",
            " [-2.87033381e+00  9.56940081e-01 -1.05154149e+00 -1.42869501e-01\n",
            "   7.44165327e-01]\n",
            " [-3.36526761e+00  1.72264369e+00 -8.03987288e-01  3.05502491e-01\n",
            "   6.24756388e-01]\n",
            " [-3.18209867e-01 -1.85373150e-01 -1.45164120e+00 -3.36368802e-01\n",
            "   1.10173529e-01]\n",
            " [ 2.11766912e+00  8.11936577e-01 -7.89917749e-01  5.75573361e-01\n",
            "  -4.51195669e-01]\n",
            " [ 1.62994050e+00 -2.63078862e-01 -1.39586541e+00 -3.19161716e-01\n",
            "  -1.04918326e+00]\n",
            " [-1.22265424e+00  1.40721794e-01  8.07305377e-01  5.63890930e-02\n",
            "   4.51670259e-01]\n",
            " [-3.29334888e+00  5.52511090e-01 -8.77725759e-01  4.76284590e-01\n",
            "   1.94709827e-01]\n",
            " [ 1.79755344e+00 -1.53330143e-01 -2.02400117e+00  3.39106624e-01\n",
            "   1.66138608e+00]\n",
            " [ 1.09273925e+00 -9.03641009e-01  2.40130533e-01  2.99726744e-01\n",
            "   1.47881279e-01]\n",
            " [-1.13387110e+00 -8.66605536e-01 -6.74443492e-01 -4.16660264e-01\n",
            "  -5.48609234e-01]\n",
            " [-4.67135237e-01 -1.19353150e-01  2.98407377e-01 -4.56958884e-01\n",
            "  -9.60499533e-01]\n",
            " [-7.59430980e-03 -1.18131723e+00 -3.99132590e-01 -5.32166027e-02\n",
            "  -4.38901768e-01]\n",
            " [-6.31540068e-02  7.17945440e-02 -5.81660429e-01  1.62552389e-01\n",
            "  -1.22023628e+00]\n",
            " [-1.04197105e+00 -8.55804104e-01  4.51231346e-01 -3.60302344e-01\n",
            "  -8.63851786e-01]\n",
            " [-7.39796220e-01 -8.29476906e-01  1.97185969e+00 -3.58290808e-01\n",
            "  -9.84814271e-01]\n",
            " [-3.07397137e+00  1.88847553e+00  1.19058201e+00  1.87123823e+00\n",
            "   5.50440612e-01]\n",
            " [-1.10095231e-01 -1.38770748e+00 -1.87099277e-01 -3.22266153e-01\n",
            "  -2.60060845e-01]\n",
            " [-2.27978101e-01 -1.98026277e+00  1.73235402e-03 -1.08687923e-01\n",
            "  -7.53221204e-01]\n",
            " [ 3.73117026e-01  3.57003624e+00  1.12800138e+00  2.88611948e+00\n",
            "  -7.11613027e-01]\n",
            " [-1.42218195e+00 -4.16321584e-01 -1.05664315e-01  1.42811149e+00\n",
            "   2.19972922e-01]\n",
            " [ 1.20833874e+00  1.50291528e-01 -2.02630497e-01  3.16754207e-01\n",
            "  -5.94070297e-01]\n",
            " [ 4.69036058e-01 -1.09381583e+00  3.80680299e-01 -6.85277043e-01\n",
            "   7.07540360e-01]\n",
            " [ 2.57664668e+00  2.39070748e-01 -2.32289037e+00 -2.69573176e-02\n",
            "  -2.99690647e-01]\n",
            " [-3.47045662e+00  1.69033185e+00  1.22582900e+00  1.68856918e+00\n",
            "   1.09155876e+00]\n",
            " [-5.21564955e-01 -1.89285948e+00  3.82661469e-01 -7.22611369e-01\n",
            "  -1.01318060e-02]\n",
            " [-1.39411793e+00 -9.89323001e-02  1.24690104e+00 -8.48640310e-01\n",
            "  -8.92710743e-01]\n",
            " [ 5.99394143e-01 -2.32691447e-02  4.57244086e-01  1.93234070e-01\n",
            "  -1.72708805e+00]\n",
            " [-4.45695642e-01 -1.28644063e+00  8.03582276e-01 -4.29473357e-01\n",
            "   1.31715112e+00]\n",
            " [-1.50631350e+00 -1.31211278e+00  5.78166197e-01 -7.01786758e-01\n",
            "   3.53819065e-03]\n",
            " [-4.43819719e-01  2.46228114e+00  2.09407252e+00 -1.38049086e+00\n",
            "  -5.98607046e-01]\n",
            " [ 2.27111347e+00 -6.22811816e-01  6.18091982e-01 -1.24255017e-02\n",
            "   6.72953367e-01]\n",
            " [-3.28520613e+00  1.10530029e+00 -6.70350528e-01  8.88059909e-01\n",
            "   5.33738671e-01]\n",
            " [-3.39606031e+00  3.43746497e-01 -7.68627182e-01  1.11300716e+00\n",
            "   2.98491188e-01]\n",
            " [ 2.46897601e+00  2.05161790e+00  1.14012124e+00 -1.39848073e-02\n",
            "   2.87126676e+00]\n",
            " [ 3.02668077e-01  5.13391844e-01 -4.40652274e-01  1.17201213e-01\n",
            "  -6.32692155e-01]\n",
            " [ 1.69058819e+00  1.95491019e+00  1.64260511e+00 -5.38955603e-01\n",
            "  -5.67056869e-01]\n",
            " [-1.22087840e+00  1.12263133e+00 -8.66273753e-01 -2.25910195e+00\n",
            "  -1.54987590e-01]\n",
            " [ 3.07171610e+00  8.72451241e-01 -7.44732464e-01  1.11666949e+00\n",
            "   2.11603521e-01]\n",
            " [-6.70961508e-01 -2.75466549e-01 -3.64517610e-01 -1.24085961e+00\n",
            "  -6.14684702e-01]\n",
            " [ 1.08944360e+00 -1.19657968e+00  4.03182756e-01  9.08464090e-01\n",
            "   5.28980284e-01]\n",
            " [-6.01294000e-02 -1.58140084e+00  6.60055814e-01  4.47967783e-01\n",
            "  -9.51154057e-02]\n",
            " [-8.68534815e-01  4.24595569e-01 -9.06820190e-02  7.05120133e-01\n",
            "  -3.07374016e-01]\n",
            " [ 1.75981500e+00  1.27600629e+00 -2.35026506e-01 -4.86407976e-01\n",
            "  -1.03330344e+00]\n",
            " [ 1.08105538e+00 -1.70996516e-02  2.40639224e+00 -1.17411071e+00\n",
            "   3.14118441e-01]\n",
            " [-2.55488017e+00  1.23864061e+00  2.84925963e-02  9.05343897e-01\n",
            "   4.45254105e-01]\n",
            " [-2.53475829e+00  1.35375363e+00  1.16880981e-01 -4.71562983e-01\n",
            "   7.26068585e-01]\n",
            " [-2.01558760e+00 -4.80323326e-02 -5.28350475e-01 -8.50840266e-01\n",
            "   4.62393859e-01]\n",
            " [-1.59327610e+00 -4.90684873e-01 -5.07268206e-01  4.54547301e-01\n",
            "  -6.00287146e-01]\n",
            " [-1.43297850e+00  1.80038521e+00 -8.40760607e-01 -9.11671101e-02\n",
            "  -1.09158453e+00]\n",
            " [ 4.29475844e-01 -1.84850736e+00  1.03499026e+00 -6.14833091e-02\n",
            "   2.29984624e-01]\n",
            " [-2.77422784e-01  4.80588180e-01  4.50342517e-01 -2.47314720e-01\n",
            "  -1.01898483e+00]\n",
            " [ 2.40876141e+00 -1.35177226e-01  9.17128115e-01  5.47175810e-01\n",
            "  -2.83102089e-01]\n",
            " [ 1.46527412e+00  6.51310332e-01 -5.63697447e-01  1.34146578e-01\n",
            "  -7.41767918e-01]\n",
            " [ 2.17030562e+00  5.29244886e-01 -4.64438922e-02  3.81066319e-01\n",
            "  -7.90898103e-01]]\n"
          ],
          "name": "stdout"
        }
      ]
    },
    {
      "metadata": {
        "id": "VbwpjmhK2HSi",
        "colab_type": "code",
        "outputId": "0589e783-2189-455c-b20a-a38ea976f366",
        "colab": {
          "base_uri": "https://localhost:8080/",
          "height": 34
        }
      },
      "cell_type": "code",
      "source": [
        "Y_sklearn.shape"
      ],
      "execution_count": 32,
      "outputs": [
        {
          "output_type": "execute_result",
          "data": {
            "text/plain": [
              "(146, 5)"
            ]
          },
          "metadata": {
            "tags": []
          },
          "execution_count": 32
        }
      ]
    },
    {
      "metadata": {
        "id": "8SqccKJX2KY7",
        "colab_type": "text"
      },
      "cell_type": "markdown",
      "source": [
        "Thus Principal Component Analysis is used to remove the redundant features from the datasets without losing much information.These features are low dimensional in nature.The first component has the highest variance followed by second, third and so on.PCA works best on data set having 3 or higher dimensions. Because, with higher dimensions, it becomes increasingly difficult to make interpretations from the resultant cloud of data."
      ]
    }
  ]
}
